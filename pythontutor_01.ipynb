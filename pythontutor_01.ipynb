{
  "nbformat": 4,
  "nbformat_minor": 0,
  "metadata": {
    "colab": {
      "name": "pythontutor_01.ipynb",
      "provenance": [],
      "collapsed_sections": [
        "aencvgsgB2bD",
        "32TIuI6A97xO",
        "oy4ApNCB-XHn",
        "eavpb5jKAavP",
        "LGFAVoJ7Jb8Y",
        "2cTPFR89ktEm",
        "xz-dewczCjsN",
        "LEIbDTM5xui1"
      ],
      "toc_visible": true,
      "authorship_tag": "ABX9TyOeLEZ3GNHl97crp0oqh5/a",
      "include_colab_link": true
    },
    "kernelspec": {
      "name": "python3",
      "display_name": "Python 3"
    },
    "language_info": {
      "name": "python"
    }
  },
  "cells": [
    {
      "cell_type": "markdown",
      "metadata": {
        "id": "view-in-github",
        "colab_type": "text"
      },
      "source": [
        "<a href=\"https://colab.research.google.com/github/ACoder-MAB/study01/blob/main/pythontutor_01.ipynb\" target=\"_parent\"><img src=\"https://colab.research.google.com/assets/colab-badge.svg\" alt=\"Open In Colab\"/></a>"
      ]
    },
    {
      "cell_type": "markdown",
      "metadata": {
        "id": "QdPAF5tTAakt"
      },
      "source": [
        "# Вводная \n",
        "\n",
        "\n"
      ]
    },
    {
      "cell_type": "markdown",
      "metadata": {
        "id": "aencvgsgB2bD"
      },
      "source": [
        "## Ресурсы по теме\n",
        "https://github.com/ACoder-MAB/study01.git\n",
        "\n",
        "GitHub - ACoder-MAB / study01\n",
        "\n",
        "### Работа с блокнотами в Colab\n",
        "- [Общие сведения о Colaboratory](/notebooks/basic_features_overview.ipynb)\n",
        "- [Руководство для Markdown](/notebooks/markdown_guide.ipynb)\n",
        "- [Импорт библиотек и установка зависимостей](/notebooks/snippets/importing_libraries.ipynb)\n",
        "- [Сохранение и загрузка блокнотов в GitHub](https://colab.research.google.com/github/googlecolab/colabtools/blob/master/notebooks/colab-github-demo.ipynb)\n",
        "- [Интерактивные формы](/notebooks/forms.ipynb)\n",
        "- [Интерактивные виджеты](/notebooks/widgets.ipynb)\n",
        "- <img src=\"/img/new.png\" height=\"20px\" align=\"left\" hspace=\"4px\" alt=\"New\"></img>\n",
        " [TensorFlow 2 в Colab](/notebooks/tensorflow_version.ipynb)\n",
        "\n",
        "<a name=\"working-with-data\"></a>\n",
        "### Работа с данными\n",
        "- [Загрузка данных: Диск, Таблицы и Google Cloud Storage](/notebooks/io.ipynb) \n",
        "- [Диаграмма: визуализация данных](/notebooks/charts.ipynb)\n",
        "- [Начало работы с BigQuery](/notebooks/bigquery.ipynb)\n",
        "\n",
        "### Экспресс-курс по машинному обучению\n",
        "Вот несколько блокнотов из онлайн-курса по машинному обучению от Google. Ещё больше информации доступно на <a href=\"https://developers.google.com/machine-learning/crash-course/\">сайте курса</a>.\n",
        "- [Введение в pandas](/notebooks/mlcc/intro_to_pandas.ipynb)\n",
        "- [Концепции TensorFlow](/notebooks/mlcc/tensorflow_programming_concepts.ipynb)\n",
        "- [Начало работы с TensorFlow](/notebooks/mlcc/first_steps_with_tensor_flow.ipynb)\n",
        "- [Введение в нейросети](/notebooks/mlcc/intro_to_neural_nets.ipynb)\n",
        "- [Введение в разреженные данные и встраивания](/notebooks/mlcc/intro_to_sparse_data_and_embeddings.ipynb)\n",
        "\n",
        "<a name=\"using-accelerated-hardware\"></a>\n",
        "### Использование ускорителей\n",
        "- [TensorFlow с графическими процессорами](/notebooks/gpu.ipynb)\n",
        "- [TensorFlow с TPU](/notebooks/tpu.ipynb)"
      ]
    },
    {
      "cell_type": "markdown",
      "metadata": {
        "id": "TwMx533EBZnR"
      },
      "source": [
        "# Занятие 1. Ввод и вывод данных"
      ]
    },
    {
      "cell_type": "markdown",
      "metadata": {
        "id": "32TIuI6A97xO"
      },
      "source": [
        "## Теория\n",
        "\n",
        "Для печати значений в Питоне есть функция print(). Внутри круглых скобок через запятую мы пишем то, что хотим вывести. Вот программа, которая делает несколько вычислений:\n",
        "\n",
        "разбор примеров с \n",
        "https://pythontutor.ru/lessons/inout_and_arithmetic_operations/"
      ]
    },
    {
      "cell_type": "markdown",
      "metadata": {
        "id": "FKk3hJfH465g"
      },
      "source": [
        "\n",
        "\n"
      ]
    },
    {
      "cell_type": "code",
      "metadata": {
        "id": "5j7sNUG_5Aju",
        "colab": {
          "base_uri": "https://localhost:8080/"
        },
        "outputId": "fa03c230-c3f9-499a-cfd3-1f3bce5ed79e"
      },
      "source": [
        "print(5 + 10)\n",
        "print(3 * 7, (17 - 2) * 8)\n",
        "print(2 ** 16)                  # две звёздочки означают возведение в степень\n",
        "print(37 / 3)                   # один слэш — это деление с ответом-дробью\n",
        "print(37 // 3)                  # два слэша считают частное от деления нацело\n",
        "                                # это как операция div в других языках\n",
        "print(37 % 3)                   # процент считает остаток от деления нацело\n",
        "                                # это как операция mod в других языках\n",
        "\n",
        "print( \"текст \", 3*7)"
      ],
      "execution_count": null,
      "outputs": [
        {
          "output_type": "stream",
          "text": [
            "15\n",
            "21 120\n",
            "65536\n",
            "12.333333333333334\n",
            "12\n",
            "1\n",
            "текст  21\n"
          ],
          "name": "stdout"
        }
      ]
    },
    {
      "cell_type": "markdown",
      "metadata": {
        "id": "OWWeowor6x-5"
      },
      "source": [
        "Для ввода данных в программу мы используем функцию input(). Она считывает одну строку.\n",
        "\n",
        "Вот программа, которая считывает имя пользователя и приветствует его:"
      ]
    },
    {
      "cell_type": "code",
      "metadata": {
        "colab": {
          "base_uri": "https://localhost:8080/"
        },
        "id": "AaT_8PMk65yO",
        "outputId": "b138e761-87af-41d9-db44-1c22b876ad20"
      },
      "source": [
        "print('Как вас зовут?')\n",
        "name = input()            #read line and put it in to the var\n",
        "print('Hello, ' + name + '!')\n"
      ],
      "execution_count": null,
      "outputs": [
        {
          "output_type": "stream",
          "text": [
            "Как вас зовут?\n",
            "1\n",
            "Hello, 1!\n"
          ],
          "name": "stdout"
        }
      ]
    },
    {
      "cell_type": "code",
      "metadata": {
        "colab": {
          "base_uri": "https://localhost:8080/"
        },
        "id": "7oepZ9WM8G7w",
        "outputId": "00dabbeb-c437-4173-916e-0e187348b62d"
      },
      "source": [
        "a = input()\n",
        "b = input()\n",
        "s = a + b\n",
        "print(s)\n",
        "\n",
        "a = int(a)\n",
        "b = int(b)\n",
        "s = a + b\n",
        "print(s)\n"
      ],
      "execution_count": null,
      "outputs": [
        {
          "output_type": "stream",
          "text": [
            "4\n",
            "5\n",
            "45\n",
            "9\n"
          ],
          "name": "stdout"
        }
      ]
    },
    {
      "cell_type": "markdown",
      "metadata": {
        "id": "oy4ApNCB-XHn"
      },
      "source": [
        "## Задачи"
      ]
    },
    {
      "cell_type": "markdown",
      "metadata": {
        "id": "TrmVCedl-gRB"
      },
      "source": [
        "Условие\n",
        "Напишите программу, которая считывает длины двух катетов в прямоугольном треугольнике и выводит его площадь. Каждое число записано в отдельной строке.\n"
      ]
    },
    {
      "cell_type": "code",
      "metadata": {
        "colab": {
          "base_uri": "https://localhost:8080/"
        },
        "id": "J-q7VfiC-huI",
        "outputId": "49546998-0e82-4ead-bac6-df97dcc89562"
      },
      "source": [
        "print('Введите 1-й катет прям.уг. треугольника')\n",
        "k1 = int(input())\n",
        "print('Введите 2-й катет прям.уг. треугольника')\n",
        "k2 = int(input())\n",
        "s = 1/2 * k1 * k2\n",
        "print('Полощадь треугольника =', s)\n",
        "\n"
      ],
      "execution_count": null,
      "outputs": [
        {
          "output_type": "stream",
          "text": [
            "Введите 1-й катет прям.уг. треугольника\n",
            "3\n",
            "Введите 2-й катет прям.уг. треугольника\n",
            "4\n",
            "Полощадь треугольника = 6.0\n"
          ],
          "name": "stdout"
        }
      ]
    },
    {
      "cell_type": "markdown",
      "metadata": {
        "id": "1gNhoxpFAH54"
      },
      "source": [
        "# [Занятие 2. Условия](https://pythontutor.ru/lessons/ifelse/)\n"
      ]
    },
    {
      "cell_type": "markdown",
      "metadata": {
        "id": "eavpb5jKAavP"
      },
      "source": [
        "## Теория\n",
        "Все ранее рассматриваемые программы имели линейную структуру: все инструкции выполнялись последовательно одна за одной, каждая записанная инструкция обязательно выполняется.\n",
        "\n",
        "Допустим мы хотим по данному числу x определить его абсолютную величину (модуль). Программа должна напечатать значение переменной x, если x>0 или же величину -x в противном случае. Линейная структура программы нарушается: в зависимости от справедливости условия x>0 должна быть выведена одна или другая величина. "
      ]
    },
    {
      "cell_type": "code",
      "metadata": {
        "colab": {
          "base_uri": "https://localhost:8080/"
        },
        "id": "Iq5OvmeKBxlL",
        "outputId": "02f32635-8e81-4782-ac88-30d56bf775eb"
      },
      "source": [
        "x = int(input())\n",
        "if x > 0:  \n",
        "      print(x)\n",
        "else:\n",
        "      print(-x)\n"
      ],
      "execution_count": null,
      "outputs": [
        {
          "output_type": "stream",
          "text": [
            "-99\n",
            "99\n"
          ],
          "name": "stdout"
        }
      ]
    },
    {
      "cell_type": "code",
      "metadata": {
        "colab": {
          "base_uri": "https://localhost:8080/"
        },
        "id": "wwg5guxnCxct",
        "outputId": "d7a50634-1b82-4f50-90ba-ed0786e2d848"
      },
      "source": [
        "# неполное ветвление\n",
        "x = int(input())\n",
        "if x < 0:\n",
        "    x = -x\n",
        "print(x)"
      ],
      "execution_count": null,
      "outputs": [
        {
          "output_type": "stream",
          "text": [
            "9\n",
            "9\n"
          ],
          "name": "stdout"
        }
      ]
    },
    {
      "cell_type": "code",
      "metadata": {
        "colab": {
          "base_uri": "https://localhost:8080/"
        },
        "id": "FrNUDEcYIlio",
        "outputId": "e2bab80c-a5d3-405c-d578-82c4bd4d542b"
      },
      "source": [
        "# (n % 2 == 0) (остаток от деления n на 2 равен 0)\n",
        "# Пример. Проверим, что хотя бы одно из чисел a или b оканчивается на 0:\n",
        "\n",
        "a = int(input())\n",
        "b = int(input())\n",
        "if a % 10 == 0 or b % 10 == 0:\n",
        "    print('YES')\n",
        "else:\n",
        "    print('NO')"
      ],
      "execution_count": null,
      "outputs": [
        {
          "output_type": "stream",
          "text": [
            "100\n",
            "1\n",
            "YES\n"
          ],
          "name": "stdout"
        }
      ]
    },
    {
      "cell_type": "markdown",
      "metadata": {
        "id": "LGFAVoJ7Jb8Y"
      },
      "source": [
        "## Задачи"
      ]
    },
    {
      "cell_type": "code",
      "metadata": {
        "colab": {
          "base_uri": "https://localhost:8080/"
        },
        "id": "3UYm7d8NJjHV",
        "outputId": "364770f5-bf50-4952-f937-fdfdc89e9b5a"
      },
      "source": [
        "# Даны два целых числа. Выведите значение наименьшего из них.\n",
        "a = int(input())\n",
        "b = int(input())\n",
        "\n",
        "if a > b:\n",
        "  print(a)\n",
        "else:\n",
        "  print(b)"
      ],
      "execution_count": null,
      "outputs": [
        {
          "output_type": "stream",
          "text": [
            "-10\n",
            "-99\n",
            "-10\n"
          ],
          "name": "stdout"
        }
      ]
    },
    {
      "cell_type": "code",
      "metadata": {
        "colab": {
          "base_uri": "https://localhost:8080/"
        },
        "id": "0RQAwZb2KG55",
        "outputId": "820fe7e5-ef38-41eb-a1a4-b8854adc8c43"
      },
      "source": [
        "# Списки\n",
        "int_list = [3,4,5]\n",
        "hg_list = [\"строка\", 0.1, True]\n",
        "list_of_lists = [int_list, hg_list, []]\n",
        "print(int_list)\n",
        "print(hg_list)\n",
        "print(list_of_lists)\n",
        "\n",
        "for i in "
      ],
      "execution_count": null,
      "outputs": [
        {
          "output_type": "stream",
          "text": [
            "[3, 4, 5]\n",
            "['строка', 0.1, True]\n",
            "[[3, 4, 5], ['строка', 0.1, True], []]\n",
            "3\n",
            "12\n"
          ],
          "name": "stdout"
        }
      ]
    },
    {
      "cell_type": "markdown",
      "metadata": {
        "id": "g70Pbznro4B3"
      },
      "source": [
        "**[Посчитать количество одинаковых элементов в списке](https://younglinux.info/python/task/list-dict)**\n"
      ]
    },
    {
      "cell_type": "code",
      "metadata": {
        "colab": {
          "base_uri": "https://localhost:8080/"
        },
        "id": "9C5cKH3JnZsY",
        "outputId": "bac638e9-306a-4f40-8c2b-cbbc90da4222"
      },
      "source": [
        "\"\"\" ВЕРНУТЬСЯ к примеру и разобрать!!! \"\"\"\n",
        "def fill_list(m1, m2, amount, l):\n",
        "    from random import randint\n",
        "    for i in range(amount):\n",
        "        l.append(randint(m1, m2))\n",
        " \n",
        " \n",
        "def analysis(your_list, your_dict):\n",
        "    for i in your_list:\n",
        "        if i in your_dict:\n",
        "            your_dict[i] += 1\n",
        "        else:\n",
        "            your_dict[i] = 1\n",
        " \n",
        " \n",
        "lst = []\n",
        "dct = {}\n",
        " \n",
        "mn = int(input('Минимум: '))\n",
        "mx = int(input('Максимум: '))\n",
        "qty = int(input('Количество элементов: '))\n",
        " \n",
        "fill_list(mn, mx, qty, lst)\n",
        "analysis(lst, dct)\n",
        " \n",
        "for item in sorted(dct):\n",
        "    print(\"'%d':%d\" % (item, dct[item]))"
      ],
      "execution_count": null,
      "outputs": [
        {
          "output_type": "stream",
          "text": [
            "Минимум: 50\n",
            "Максимум: 70\n",
            "Количество элементов: 33\n",
            "'51':3\n",
            "'52':1\n",
            "'53':1\n",
            "'54':4\n",
            "'57':2\n",
            "'59':2\n",
            "'60':1\n",
            "'61':1\n",
            "'62':1\n",
            "'63':3\n",
            "'64':3\n",
            "'65':4\n",
            "'66':1\n",
            "'67':2\n",
            "'68':1\n",
            "'70':3\n"
          ],
          "name": "stdout"
        }
      ]
    },
    {
      "cell_type": "markdown",
      "metadata": {
        "id": "149NhatVkivV"
      },
      "source": [
        "# [Занятие 3. Вычисления](https://pythontutor.ru/lessons/int_and_float/)\n"
      ]
    },
    {
      "cell_type": "markdown",
      "metadata": {
        "id": "2cTPFR89ktEm"
      },
      "source": [
        "## Целочисленная арифметика\n",
        "Для целых чисел определены операции: +, -, * и **. \n",
        "Операция деления / для целых чисел возвращает вещественное число (значение типа float). \n",
        "Также функция возведения в степень возвращает значение типа float, если показатель степени — отрицательное число.\n",
        "\n",
        "Но есть и специальная операция целочисленного деления, выполняющегося с отбрасыванием дробной части, которая обозначается // (она соответствует операции div в Паскале). Она возвращает целое число: целую часть частного. \n",
        "\n",
        "Другая близкая ей операция − это операция взятия остатка от деления, обозначаемая % (она соответствует операции mod в Паскале). Например:"
      ]
    },
    {
      "cell_type": "code",
      "metadata": {
        "colab": {
          "base_uri": "https://localhost:8080/"
        },
        "id": "Rp9uwVUXk8F2",
        "outputId": "7f2f07bf-723b-4dd9-9ad4-af368b48d2bb"
      },
      "source": [
        "print(17  / 3)    \n",
        "print(17 // 3)    # целочисленного деления, выполняющегося с отбрасыванием дробной части\n",
        "print( 17 % 3)    # взятия остатка от деления, обозначаемая % (она соответствует операции mod в Паскале)"
      ],
      "execution_count": null,
      "outputs": [
        {
          "output_type": "stream",
          "text": [
            "5.666666666666667\n",
            "5\n",
            "2\n"
          ],
          "name": "stdout"
        }
      ]
    },
    {
      "cell_type": "code",
      "metadata": {
        "colab": {
          "base_uri": "https://localhost:8080/"
        },
        "id": "YxJgSK7Y_0zx",
        "outputId": "e0182e69-173a-4b3c-9b00-f1aee9f7d461"
      },
      "source": [
        "# Действительные числа\n",
        "# В этом разделе речь пойдет о действительных числах, имеющих тип float.\n",
        "x = float(input())\n",
        "print(x)\n"
      ],
      "execution_count": null,
      "outputs": [
        {
          "output_type": "stream",
          "text": [
            "5\n",
            "5.0\n"
          ],
          "name": "stdout"
        }
      ]
    },
    {
      "cell_type": "code",
      "metadata": {
        "colab": {
          "base_uri": "https://localhost:8080/"
        },
        "id": "uecXxFByA-Jf",
        "outputId": "c2ed7757-4a4e-4434-c743-bfe0c90d9a0b"
      },
      "source": [
        "# Библиотека math\n",
        "\n",
        "import math\n",
        "\n",
        "# округлять вещественные числа до ближайшего целого числа вверх.\n",
        "x = math.ceil(4.2)\n",
        "print(x)\n",
        "print(math.ceil(4.8))\n",
        "print(math.pi)\n",
        "\n"
      ],
      "execution_count": null,
      "outputs": [
        {
          "output_type": "stream",
          "text": [
            "5\n",
            "5\n",
            "3.141592653589793\n"
          ],
          "name": "stdout"
        }
      ]
    },
    {
      "cell_type": "code",
      "metadata": {
        "colab": {
          "base_uri": "https://localhost:8080/"
        },
        "id": "pvG241LfBsen",
        "outputId": "e97a5d25-960b-4e76-fdcb-ed94486d8db9"
      },
      "source": [
        "from math import ceil\n",
        "print(ceil(7/2))\n",
        "# print(pi)"
      ],
      "execution_count": null,
      "outputs": [
        {
          "output_type": "stream",
          "text": [
            "4\n"
          ],
          "name": "stdout"
        }
      ]
    },
    {
      "cell_type": "markdown",
      "metadata": {
        "id": "xz-dewczCjsN"
      },
      "source": [
        "## TASKS\n",
        "\n",
        "```python\n",
        "print(5 + 10)\n",
        "print(3 * 7, (17 - 2) * 8)\n",
        "print(2 ** 16)  # две звёздочки означают возведение в степень\n",
        "print(37 / 3)   # один слэш — это деление с ответом-дробью\n",
        "print(37 // 3)  # два слэша считают частное от деления нацело, это как операция div в других языках\n",
        "print(37 % 3)   # процент считает остаток от деления нацело - это как операция mod в других языках\n",
        "```"
      ]
    },
    {
      "cell_type": "code",
      "metadata": {
        "colab": {
          "base_uri": "https://localhost:8080/"
        },
        "id": "l2MviWyrCnQo",
        "outputId": "98308a59-f361-4a5c-9d4d-106ea2b98c9f"
      },
      "source": [
        "# Дано натуральное число. Выведите его последнюю цифру.\n",
        "# % процент считает остаток от деления нацело - это как операция mod в других языках\n",
        "\n",
        "x = int(input())\n",
        "print(x % 10)\n"
      ],
      "execution_count": null,
      "outputs": [
        {
          "output_type": "stream",
          "text": [
            "67\n",
            "7\n"
          ],
          "name": "stdout"
        }
      ]
    },
    {
      "cell_type": "code",
      "metadata": {
        "colab": {
          "base_uri": "https://localhost:8080/"
        },
        "id": "FYOtH6goEwEz",
        "outputId": "61bcabb3-50e5-49a3-8c25-16a2b2d325cf"
      },
      "source": [
        "''' Условие\n",
        "      Длина Московской кольцевой автомобильной дороги — 109 километров. \n",
        "      Байкер Вася стартует с нулевого километра МКАД и едет со скоростью v километров в час. \n",
        "      На какой отметке он остановится через t часов?\n",
        "\n",
        "Программа получает на вход значение v и t. Если v>0, то Вася движется в положительном направлении по МКАД, если же значение v<0, то в отрицательном.\n",
        "Программа должна вывести целое число от 0 до 108 — номер отметки, на которой остановится Вася.\n",
        "'''\n",
        "m = 109    # Длина Московской кольцевой автомобильной дороги — 109 километров\n",
        "\n",
        "print('Enter Velocity:')\n",
        "v = int(input())\n",
        "\n",
        "print('Enter Time in road:')\n",
        "t = int(input())\n",
        "\n",
        "if v > 0:      # v>0, то Вася движется в положительном направлении по МКАД\n",
        "  s = v*t % m  # остаток от деления нацело кол-ва кругов по МКАД\n",
        "else:\n",
        "  s = 109 - abs(v)*t % m\n",
        "\n",
        "print('The Biker stops on mark:',s,'km')\n"
      ],
      "execution_count": null,
      "outputs": [
        {
          "output_type": "stream",
          "text": [
            "Enter Velocity: %v\n",
            "-60\n",
            "Enter Time in road:\n",
            "4\n",
            "The Biker stops on mark: 87 km\n"
          ],
          "name": "stdout"
        }
      ]
    },
    {
      "cell_type": "code",
      "metadata": {
        "colab": {
          "base_uri": "https://localhost:8080/"
        },
        "id": "rkESmiapL1kk",
        "outputId": "9b226981-cd02-4e9e-8989-38f9600fe146"
      },
      "source": [
        "# Условие:   Дано положительное действительное число X. Выведите его дробную часть.\n",
        "\n",
        "x = float(input())\n",
        "print( round( x % 1, 4))         # Остаток от деления на единицу, даст нужный результат"
      ],
      "execution_count": null,
      "outputs": [
        {
          "output_type": "stream",
          "text": [
            "19.99\n",
            "0.99\n"
          ],
          "name": "stdout"
        }
      ]
    },
    {
      "cell_type": "markdown",
      "metadata": {
        "id": "7RN6Pm9KOLIh"
      },
      "source": [
        "> [Задача «Первая цифра после точки»](https://pythontutor.ru/lessons/int_and_float/problems/digit_after_separator/)"
      ]
    },
    {
      "cell_type": "code",
      "metadata": {
        "colab": {
          "base_uri": "https://localhost:8080/"
        },
        "id": "mEJAVP9EM9eD",
        "outputId": "31dd3a76-462d-4e52-8036-a20ab576acc7"
      },
      "source": [
        "# Условие: Дано положительное действительное число X. Выведите его первую цифру после десятичной точки.\n",
        "\n",
        "x = float(input())\n",
        "print(int(x * 10) % 10)"
      ],
      "execution_count": null,
      "outputs": [
        {
          "output_type": "stream",
          "text": [
            "1.79\n",
            "7\n"
          ],
          "name": "stdout"
        }
      ]
    },
    {
      "cell_type": "markdown",
      "metadata": {
        "id": "HmZhgey6Of7u"
      },
      "source": [
        "> [Задача «Конец уроков»](https://pythontutor.ru/lessons/int_and_float/problems/konec_urokov/)\n",
        "\n",
        "**Условие:**\n",
        "* В некоторой школе занятия начинаются в 9:00. \n",
        "* Продолжительность урока — 45 минут, \n",
        "* после 1-го, 3-го, 5-го и т.д. уроков перемена 5 минут, \n",
        "* а после 2-го, 4-го, 6-го и т.д. — 15 минут.\n",
        "\n",
        "**ВОПРОС:**\n",
        "Дан номер урока (число от 1 до 10). \n",
        "* Определите, когда заканчивается указанный урок.\n",
        "* Выведите два целых числа: время окончания урока в часах и минутах.\n",
        "\n"
      ]
    },
    {
      "cell_type": "code",
      "metadata": {
        "colab": {
          "base_uri": "https://localhost:8080/"
        },
        "id": "ziWsugfqPD7d",
        "outputId": "d661fe77-df06-499a-9435-817d387ff55e"
      },
      "source": [
        "# РЕШЕНИЕ\n",
        "\n",
        "less_dur      = 45    # Продолжительность 1 урока      = 45 мин\n",
        "turn_even_dur = 15    # Перемена после четного урока   = 15 мин\n",
        "turn_odd_dur  =  5    # перемена после нечетного урока =  5 мин\n",
        "\n",
        "print('-------------------------------------------------------')\n",
        "print('Enter lesson number (from 1 to 10):')\n",
        "num_less = int(input())\n",
        "\n",
        "print('Duration of All Lessons:',num_less *  45)\n",
        "print('Number of turns:' ,num_less - 1)\n",
        "print('-------------------------------------------------------')\n",
        "num_odd_turns  =   ( (num_less - 1) - ( (num_less - 1) // 2 ) ) # кол-во Нечетных перемен\n",
        "num_even_turns =   (num_less - 1) // 2                          # кол-во четных перемен\n",
        "print('Num of Odd Turns',  num_odd_turns )          \n",
        "print('Num of Even Turns', num_even_turns)                                 \n",
        "print('-------------------------------------------------------')\n",
        "total_les_tutn_dur = (num_less *  45 + num_odd_turns * 5 + num_even_turns * 15)\n",
        "les_end_time_hr  =  9 + total_les_tutn_dur // 60                # 9 + длительность уроков и перемен в часах\n",
        "les_end_time_min =  total_les_tutn_dur  % 60                    # остаток длительности в минутах\n",
        "print('Lesson',num_less,'Ends at ',  les_end_time_hr, ':', les_end_time_min)\n",
        "print('-------------------------------------------------------')"
      ],
      "execution_count": null,
      "outputs": [
        {
          "output_type": "stream",
          "text": [
            "Enter lesson number (from 1 to 10):\n",
            "5\n",
            "Duration of All Lessons: 225\n",
            "Number of turns: 4\n",
            "-------------------------------------------------------\n",
            "Num of Odd Turns 2\n",
            "Num of Even Turns 2\n",
            "-------------------------------------------------------\n",
            "Lesson 5 Ends at  13 : 25\n"
          ],
          "name": "stdout"
        }
      ]
    },
    {
      "cell_type": "code",
      "metadata": {
        "colab": {
          "base_uri": "https://localhost:8080/"
        },
        "id": "0VxCOSIWq-u4",
        "outputId": "0a003777-2aa3-44ef-acfb-40a062e46fe8"
      },
      "source": [
        "# Типовые примеры деления\n",
        "print('Деление 1/2 - Обычное деление', 1 / 2 , ', // Частное от деления нацело(div)', 1 // 2 , ', % Остаток от деления нацело (mod)', 1 % 2 )\n",
        "print('Деление 2/2 - Обычное деление', 2 / 2 , ', // Частное от деления нацело(div)', 2 // 2 , ', % Остаток от деления нацело (mod)', 2 % 2 )\n",
        "print('Деление 3/2 - Обычное деление', 3 / 2 , ', // Частное от деления нацело(div)', 3 // 2 , ', % Остаток от деления нацело (mod)', 3 % 2 )\n",
        "print('Деление 4/2 - Обычное деление', 4 / 2 , ', // Частное от деления нацело(div)', 4 // 2 , ', % Остаток от деления нацело (mod)', 4 % 2 )\n",
        "print('Деление 5/2 - Обычное деление', 5 / 2 , ', // Частное от деления нацело(div)', 5 // 2 , ', % Остаток от деления нацело (mod)', 5 % 2 )\n",
        "print('Деление 6/2 - Обычное деление', 6 / 2 , ', // Частное от деления нацело(div)', 6 // 2 , ', % Остаток от деления нацело (mod)', 6 % 2 )\n",
        "print('Деление 77/2 - Обычное деление', 77 / 2 , ', // Частное от деления нацело(div)', 77 // 2 , ', % Остаток от деления нацело (mod)', 77 % 2 )\n"
      ],
      "execution_count": null,
      "outputs": [
        {
          "output_type": "stream",
          "text": [
            "Деление 1/2 - Обычное деление 0.5 , // Частное от деления нацело(div) 0 , % Остаток от деления нацело (mod) 1\n",
            "Деление 2/2 - Обычное деление 1.0 , // Частное от деления нацело(div) 1 , % Остаток от деления нацело (mod) 0\n",
            "Деление 3/2 - Обычное деление 1.5 , // Частное от деления нацело(div) 1 , % Остаток от деления нацело (mod) 1\n",
            "Деление 4/2 - Обычное деление 2.0 , // Частное от деления нацело(div) 2 , % Остаток от деления нацело (mod) 0\n",
            "Деление 5/2 - Обычное деление 2.5 , // Частное от деления нацело(div) 2 , % Остаток от деления нацело (mod) 1\n",
            "Деление 6/2 - Обычное деление 3.0 , // Частное от деления нацело(div) 3 , % Остаток от деления нацело (mod) 0\n",
            "Деление 77/2 - Обычное деление 38.5 , // Частное от деления нацело(div) 38 , % Остаток от деления нацело (mod) 1\n"
          ],
          "name": "stdout"
        }
      ]
    },
    {
      "cell_type": "markdown",
      "metadata": {
        "id": "qcDsxLoszmID"
      },
      "source": [
        "> [Задача «Автопробег»](https://pythontutor.ru/lessons/int_and_float/problems/motor_rally/)\n",
        "\n",
        "**Условие**\n",
        "* За день машина проезжает n километров. \n",
        "\n",
        "**ВОПРОС** \n",
        "* Сколько дней нужно, чтобы проехать маршрут длиной m километров? \n",
        "* Программа получает на вход числа n и m."
      ]
    },
    {
      "cell_type": "code",
      "metadata": {
        "id": "IJQZ2QLZz_6v",
        "colab": {
          "base_uri": "https://localhost:8080/"
        },
        "outputId": "a38821d3-b2a7-4b41-ef15-0b4285f385c9"
      },
      "source": [
        "from math import ceil \n",
        "\n",
        "day_dist  = int(input())\n",
        "full_road = int(input())\n",
        "print('------------------------')\n",
        "\n",
        "print('Car need to drive', ceil(full_road / day_dist))"
      ],
      "execution_count": null,
      "outputs": [
        {
          "output_type": "stream",
          "text": [
            "700\n",
            "2100\n",
            "------------------------\n",
            "Car need to drive 3\n"
          ],
          "name": "stdout"
        }
      ]
    },
    {
      "cell_type": "markdown",
      "metadata": {
        "id": "sZn7M1um07xa"
      },
      "source": [
        "> [Задача «Автопробег»](https://pythontutor.ru/lessons/int_and_float/problems/motor_rally/)\n",
        "\n",
        "**Условие**\n",
        "* За день машина проезжает n километров. \n",
        "\n",
        "**ВОПРОС** \n",
        "* Сколько дней нужно, чтобы проехать маршрут длиной m километров? \n",
        "* Программа получает на вход числа n и m."
      ]
    },
    {
      "cell_type": "code",
      "metadata": {
        "colab": {
          "base_uri": "https://localhost:8080/"
        },
        "id": "MNeI-gZb07xg",
        "outputId": "a38821d3-b2a7-4b41-ef15-0b4285f385c9"
      },
      "source": [
        "from math import ceil \n",
        "\n",
        "day_dist  = int(input())\n",
        "full_road = int(input())\n",
        "print('------------------------')\n",
        "\n",
        "print('Car need to drive', ceil(full_road / day_dist))"
      ],
      "execution_count": null,
      "outputs": [
        {
          "output_type": "stream",
          "text": [
            "700\n",
            "2100\n",
            "------------------------\n",
            "Car need to drive 3\n"
          ],
          "name": "stdout"
        }
      ]
    },
    {
      "cell_type": "markdown",
      "metadata": {
        "id": "kdxGkJOCYP5d"
      },
      "source": [
        "[Задача «Стоимость покупки»](https://pythontutor.ru/lessons/int_and_float/problems/purchase_price/)\n",
        "\n",
        "**Условие**\n",
        "* Пирожок в столовой стоит a рублей и b копеек. \n",
        "* Определите, сколько рублей и копеек нужно заплатить за n пирожков. \n",
        "\n",
        "* Программа получает на вход три числа: a, b, n, \n",
        "* и должна вывести два числа: стоимость покупки в рублях и копейках."
      ]
    },
    {
      "cell_type": "code",
      "metadata": {
        "colab": {
          "base_uri": "https://localhost:8080/"
        },
        "id": "XgGd1I4OYimt",
        "outputId": "6eb5ef5d-c737-455d-e0c2-af8afeb9f178"
      },
      "source": [
        "print('Enter Price in Rub:')\n",
        "r = int(input())                    # Пирожок в столовой стоит r(a) рублей\n",
        "print('Enter Price in kops:')\n",
        "k = int(input())                    # ... и k(b) копеек.\n",
        "print('Enter number of Pie:')\n",
        "pn = int(input())                   # Кол-во Пирожоков\n",
        "print('------------------------------------------------------')\n",
        "Price_rub = pn*r + pn*k // 100\n",
        "Price_kop = pn*k % 100\n",
        "print('Total Price od Pies:', Price_rub, 'Rubs,', Price_kop, 'kops')\n",
        "print('------------------------------------------------------')\n"
      ],
      "execution_count": null,
      "outputs": [
        {
          "output_type": "stream",
          "text": [
            "Enter Price in Rub:\n",
            "2029\n",
            "Enter Price in kops:\n",
            "34\n",
            "Enter number of Pie:\n",
            "1848\n",
            "------------------------------------------------------\n",
            "Total Price od Pies: 3750220 Rubs, 32 kops\n",
            "------------------------------------------------------\n"
          ],
          "name": "stdout"
        }
      ]
    },
    {
      "cell_type": "markdown",
      "metadata": {
        "id": "1GNtOvZabi5R"
      },
      "source": [
        "# Занятие 4. Цикл for\n",
        "* Цикл for, также называемый циклом с параметром, в языке Питон богат возможностями. \n",
        "* В цикле for указывается переменная и множество значений, по которому будет пробегать переменная. \n",
        "* Множество значений может быть задано списком, кортежем, строкой или диапазоном."
      ]
    },
    {
      "cell_type": "code",
      "metadata": {
        "colab": {
          "base_uri": "https://localhost:8080/"
        },
        "id": "X4399c-Bb5LR",
        "outputId": "b2222e1e-5da4-44a7-aa41-5e1d14ba201e"
      },
      "source": [
        "# Вот простейший пример использования цикла, где в качестве множества значений используется кортеж:\n",
        "i = 1\n",
        "for color in 'red', 'orange', 'yellow', 'green', 'cyan', 'blue', 'violet':\n",
        "  print('#', i, ' color of rainbow is ', color, sep = '')   # sep – это разделитель, используемый при печати несколькими значениями. По умолчанию используется пробел ( sep=' ' )\n",
        "  i += 1                                                    # Инструкция i += 1 эквивалентна конструкции i = i + 1 (это просто сокращенная запись). \n",
        "                                                            # Такую сокращенную запись можно использовать для всех арифметических операций: *=, -=, /=, %=..."
      ],
      "execution_count": null,
      "outputs": [
        {
          "output_type": "stream",
          "text": [
            "#1 color of rainbow is red\n",
            "#2 color of rainbow is orange\n",
            "#3 color of rainbow is yellow\n",
            "#4 color of rainbow is green\n",
            "#5 color of rainbow is cyan\n",
            "#6 color of rainbow is blue\n",
            "#7 color of rainbow is violet\n"
          ],
          "name": "stdout"
        }
      ]
    },
    {
      "cell_type": "code",
      "metadata": {
        "colab": {
          "base_uri": "https://localhost:8080/"
        },
        "id": "TSPenTIGf1OE",
        "outputId": "4879931f-ad5a-4b84-e7a1-9bb5ff4291a9"
      },
      "source": [
        "for i in 1, 2, 3, 'one', 'two', 'three':\n",
        "  print(i)                                    # При первых трех итерациях цикла переменная i будет принимать значение типа int, при последующих трех — типа str"
      ],
      "execution_count": null,
      "outputs": [
        {
          "output_type": "stream",
          "text": [
            "1\n",
            "2\n",
            "3\n",
            "one\n",
            "two\n",
            "three\n"
          ],
          "name": "stdout"
        }
      ]
    },
    {
      "cell_type": "markdown",
      "metadata": {
        "id": "5L---2a9gdEH"
      },
      "source": [
        "### **2. Функция range**\n",
        "* Как правило, циклы for используются либо для повторения какой-либо последовательности действий заданное число раз, либо для изменения значения переменной в цикле от некоторого начального значения до некоторого конечного.\n",
        "\n",
        "Для повторения цикла некоторое заданное число раз n можно использовать цикл for вместе с функцией range:"
      ]
    },
    {
      "cell_type": "code",
      "metadata": {
        "colab": {
          "base_uri": "https://localhost:8080/"
        },
        "id": "2Mp6n_Eggesg",
        "outputId": "ba056927-c28f-4171-acd4-17bf0f90bbe2"
      },
      "source": [
        "print('------------------------------------------------------')\n",
        "for i in range(7):    # равносильно инструкции for i in 0, 1, 2, 3:\n",
        "  # здесь можно выполнять циклические действия\n",
        "  print('Loop index=', i, ', i**2=', i ** 2, sep = ''  )\n",
        "# цикл закончился, поскольку закончился блок с отступом\n",
        "print('------------------------------------------------------')\n",
        "print('End loop...')"
      ],
      "execution_count": null,
      "outputs": [
        {
          "output_type": "stream",
          "text": [
            "------------------------------------------------------\n",
            "Loop index=0, i**2=0\n",
            "Loop index=1, i**2=1\n",
            "Loop index=2, i**2=4\n",
            "Loop index=3, i**2=9\n",
            "Loop index=4, i**2=16\n",
            "Loop index=5, i**2=25\n",
            "Loop index=6, i**2=36\n",
            "------------------------------------------------------\n",
            "End loop...\n"
          ],
          "name": "stdout"
        }
      ]
    },
    {
      "cell_type": "code",
      "metadata": {
        "colab": {
          "base_uri": "https://localhost:8080/"
        },
        "id": "F-ezv2s_h8KS",
        "outputId": "9142b18e-35c0-4b90-8634-4d7900c77fc1"
      },
      "source": [
        "sum = 0\n",
        "n   = 5\n",
        "for i in range(1, n + 1):           # Вызов range(a, b) означает, что индексная переменная будеть принимать значения от a до b - 1\n",
        "  print(i)\n",
        "  sum += i\n",
        "print('------------------------------------------------------')\n",
        "print(sum)"
      ],
      "execution_count": null,
      "outputs": [
        {
          "output_type": "stream",
          "text": [
            "1\n",
            "2\n",
            "3\n",
            "4\n",
            "5\n",
            "------------------------------------------------------\n",
            "15\n"
          ],
          "name": "stdout"
        }
      ]
    },
    {
      "cell_type": "markdown",
      "metadata": {
        "id": "3z-SKjTMl567"
      },
      "source": [
        "'''\n",
        "'''"
      ]
    },
    {
      "cell_type": "code",
      "metadata": {
        "id": "2oyuxwRYl9DR"
      },
      "source": [
        "'''\n",
        "В этом примере переменная i принимает значения 1, 2, ..., n, и значение переменной sum последовательно увеличивается на указанные значения.\n",
        "\n",
        "Наконец, чтобы организовать цикл, в котором индексная переменная будет уменьшаться, необходимо использовать функцию range с тремя параметрами. \n",
        "   Первый параметр задает начальное значение индексной переменной, \n",
        "   второй параметр — значение, до которого будет изменяться индексная переменная (не включая его!), а \n",
        "   третий параметр — величину изменения индексной переменной. Например, сделать цикл по всем нечетным числам от 1 до 99 можно при помощи функции range(1, 100, 2), а сделать цикл по всем числам от 100 до 1 можно при помощи range(100, 0, -1).\n",
        "\n",
        "Более формально, цикл for i in range(a, b, d) при d > 0 задает значения индексной переменной i = a, i = a + d, i = a + 2 * d и так для всех значений, для которых i < b. Если же d < 0, то переменная цикла принимает все значения i > b\n",
        "'''\n",
        "\n",
        "for i in range(1, 100, 2):\n",
        "  print(i)\n",
        "print('End loop --------------------')\n",
        "\n",
        "for i in range(100, 1, -1):\n",
        "  print(i)\n",
        "print('End loop --------------------')\n",
        "\n"
      ],
      "execution_count": null,
      "outputs": []
    },
    {
      "cell_type": "markdown",
      "metadata": {
        "id": "sF8t_c6ymiaz"
      },
      "source": [
        "### **3. Настройка функции print()**\n",
        "* По умолчанию функция print() принимает несколько аргументов, выводит их через пробел, после чего ставит перевод строки. \n",
        "* Это поведение можно изменить, используя именованные параметры sep (разделитель) и end (окончание)."
      ]
    },
    {
      "cell_type": "code",
      "metadata": {
        "colab": {
          "base_uri": "https://localhost:8080/"
        },
        "id": "MbUhsnqPmvFo",
        "outputId": "3c136c59-d647-40a5-a924-707abac5ac81"
      },
      "source": [
        "print(1, 2, 3)\n",
        "print(4, 5, 6)\n",
        "print(1, 2, 3, sep=', ', end='. ')\n",
        "print(4, 5, 6, sep=', ', end='. ')\n",
        "print()\n",
        "print(1, 2, 3, sep='', end=' -- ')\n",
        "print(4, 5, 6, sep=' * ', end='.')\n",
        "print()\n",
        "# ----------------------------------------\n",
        "print('Enter number: ', sep = '', end = '')\n",
        "x = int(input())"
      ],
      "execution_count": null,
      "outputs": [
        {
          "output_type": "stream",
          "text": [
            "1 2 3\n",
            "4 5 6\n",
            "1, 2, 3. 4, 5, 6. \n",
            "123 -- 4 * 5 * 6.\n",
            "Enter number: 44\n"
          ],
          "name": "stdout"
        }
      ]
    },
    {
      "cell_type": "markdown",
      "metadata": {
        "id": "hhccePF5q12y"
      },
      "source": [
        "## Задачи"
      ]
    },
    {
      "cell_type": "code",
      "metadata": {
        "colab": {
          "base_uri": "https://localhost:8080/"
        },
        "id": "jttYP6ctrCpM",
        "outputId": "0bffaffc-f301-4df1-d58d-a211bf12be80"
      },
      "source": [
        "# Условие: Даны два целых числа A и B (при этом A ≤ B). Выведите все числа от A до B включительно.\n",
        "a = int(input())\n",
        "b = int(input())\n",
        "print('------------------------------------')\n",
        "for i in range(a,b+1):\n",
        "  print(i)\n",
        "print('------------------------------------')"
      ],
      "execution_count": null,
      "outputs": [
        {
          "output_type": "stream",
          "text": [
            "20\n",
            "20\n",
            "------------------------------------\n",
            "20\n",
            "------------------------------------\n"
          ],
          "name": "stdout"
        }
      ]
    },
    {
      "cell_type": "markdown",
      "metadata": {
        "id": "_u0WiWUZr98E"
      },
      "source": [
        "### [Задача «Ряд - 2»](https://pythontutor.ru/lessons/for_loop/problems/series_2/)\n",
        "\n",
        "**Условие**\n",
        "* Даны два целых числа A и В. \n",
        "* Выведите все числа от A до B включительно, \n",
        "* в порядке возрастания, если A < B, \n",
        "* или в порядке убывания в противном случае."
      ]
    },
    {
      "cell_type": "code",
      "metadata": {
        "id": "-5jl6TWSsKAq",
        "colab": {
          "base_uri": "https://localhost:8080/"
        },
        "outputId": "2792ed3f-2450-40f1-e75b-1065de93604e"
      },
      "source": [
        "print('------------------------------------')\n",
        "print('Enter a: ', sep = '', end = '')\n",
        "a = int(input())\n",
        "print('Enter b: ', sep = '', end = '')\n",
        "b = int(input())\n",
        "print('------------------------------------')\n",
        "if a < b:\n",
        "  d = 1\n",
        "  b += 1\n",
        "  print('a < b - range(a = ',a,', b = ',b,', d = ', d,')', sep = '')\n",
        "else:\n",
        "  d = -1\n",
        "  b -= 1\n",
        "  print('a > b - range(a = ',a,', b = ',b,', d = ', d,')', sep = '')\n",
        "print('------------------------------------')\n",
        "for i in range(a, b, d):\n",
        "  print(i)\n",
        "print('------------------------------------')\n"
      ],
      "execution_count": null,
      "outputs": [
        {
          "output_type": "stream",
          "text": [
            "------------------------------------\n",
            "Enter a: -3\n",
            "Enter b: -7\n",
            "------------------------------------\n",
            "a > b - range(a = -3, b = -8, d = -1)\n",
            "------------------------------------\n",
            "-3\n",
            "-4\n",
            "-5\n",
            "-6\n",
            "-7\n",
            "------------------------------------\n"
          ],
          "name": "stdout"
        }
      ]
    },
    {
      "cell_type": "markdown",
      "metadata": {
        "id": "HtCZoh5B2Vtt"
      },
      "source": [
        "### [Задача «Ряд - 3»](https://pythontutor.ru/lessons/for_loop/problems/series_3/)**\n",
        "\n",
        "**Условие**\n",
        "* Даны два целых числа A и В, A>B. \n",
        "* Выведите все нечётные числа от A до B включительно, в порядке убывания. \n",
        "* !!! - В этой задаче можно обойтись без инструкции if.\n"
      ]
    },
    {
      "cell_type": "code",
      "metadata": {
        "colab": {
          "base_uri": "https://localhost:8080/"
        },
        "id": "FotJY2Nu2n_4",
        "outputId": "83048e07-60a2-4824-f084-5583db42fed3"
      },
      "source": [
        "a = -18   # int(input())\n",
        "b = -29   # int(input())\n",
        "near_less_odd = a - 1 + (a % 2)   # ближайшее меньшее нечетное\n",
        "d = -2\n",
        "print('------------------------------------')\n",
        "print('A = ', a ,', near_less_odd = ',near_less_odd, sep = '')\n",
        "print('B = ',b, sep = '')\n",
        "print('A > B: range(a = ',near_less_odd,', b = ',b-1,', d = ', d,')', sep = '')\n",
        "print('------------------------------------')\n",
        "\n",
        "for i in range(near_less_odd, b-1, d):\n",
        "  # print(i, i // 2, i % 2)\n",
        "  print(i)"
      ],
      "execution_count": null,
      "outputs": [
        {
          "output_type": "stream",
          "text": [
            "------------------------------------\n",
            "A = -18, near_less_odd = -19\n",
            "B = -29\n",
            "A > B: range(a = -19, b = -30, d = -2)\n",
            "------------------------------------\n",
            "-19\n",
            "-21\n",
            "-23\n",
            "-25\n",
            "-27\n",
            "-29\n"
          ],
          "name": "stdout"
        }
      ]
    },
    {
      "cell_type": "markdown",
      "metadata": {
        "id": "SjYnkz-N7iBQ"
      },
      "source": [
        "### [**Задача «Сумма десяти чисел»**](https://pythontutor.ru/lessons/for_loop/problems/sum_of_ten_numbers/)\n",
        "\n",
        "**Условие**\n",
        "* Дано 10 целых чисел. Вычислите их сумму. \n",
        "* Напишите программу, использующую наименьшее число переменных."
      ]
    },
    {
      "cell_type": "code",
      "metadata": {
        "colab": {
          "base_uri": "https://localhost:8080/"
        },
        "id": "jruRiJyrkeFX",
        "outputId": "92baceaa-4d41-41d6-aab7-377f6aa10f78"
      },
      "source": [
        "vsum = 0  # init val of sum var\n",
        "lcnt = 0  # init val of loop cnt \n",
        "#for vint in (0, 1, 2, 3, 4, 5, 6, 7, 8, 9):\n",
        "#for vint in (1, 1, 1, 1, 1, 1, 1, 1, 1, 1):\n",
        "for vint in (0, 1, 2, 3, 4, 5, 6, 7, 8, 9, 10):\n",
        "  vsum += vint\n",
        "  lcnt += 1\n",
        "print('Summ of ',lcnt,'\\'s vars = ',vsum, sep = '')"
      ],
      "execution_count": null,
      "outputs": [
        {
          "output_type": "stream",
          "text": [
            "Summ of 11's vars = 55\n"
          ],
          "name": "stdout"
        }
      ]
    },
    {
      "cell_type": "markdown",
      "metadata": {
        "id": "tPmsQFgboby0"
      },
      "source": [
        "### [**Задача «Сумма N чисел»**](https://pythontutor.ru/lessons/for_loop/problems/sum_of_n_numbers/)\n",
        "**Условие**\n",
        "* Дано несколько чисел.  Вычислите их сумму. \n",
        "* Сначала вводите количество чисел N, \n",
        "* затем вводится ровно N целых чисел. \n",
        "\n",
        "* Какое наименьшее число переменных нужно для решения этой задачи?\n"
      ]
    },
    {
      "cell_type": "code",
      "metadata": {
        "colab": {
          "base_uri": "https://localhost:8080/"
        },
        "id": "id1AlcACo1iR",
        "outputId": "ff2ad512-158c-47ea-dcd3-6c79eab230fb"
      },
      "source": [
        "num_vars  = 0   # number of vars\n",
        "tot_sum   = 0   # total sum of vars\n",
        "cur_var   = 0   # current var\n",
        "print('----------------------------------------')\n",
        "print('Input Number of Vars: ', sep = '', end = '')\n",
        "num_vars = int(input())\n",
        "print()\n",
        "print('----------------------------------------')\n",
        "for i in range(1, num_vars+1, 1):\n",
        "  print('Input value of var[',i,']: ',sep = '', end = '')\n",
        "  cur_var = int(input())\n",
        "  tot_sum += cur_var\n",
        "print('----------------------------------------')\n",
        "print('Summ of ',num_vars,'\\'s vars euals = ',tot_sum, sep = '')"
      ],
      "execution_count": null,
      "outputs": [
        {
          "output_type": "stream",
          "text": [
            "----------------------------------------\n",
            "Input Number of Vars: 10\n",
            "\n",
            "----------------------------------------\n",
            "Input value of var[1]: -1\n",
            "Input value of var[2]: -2\n",
            "Input value of var[3]: -3\n",
            "Input value of var[4]: -4\n",
            "Input value of var[5]: -5\n",
            "Input value of var[6]: -6\n",
            "Input value of var[7]: -7\n",
            "Input value of var[8]: -9\n",
            "Input value of var[9]: -8\n",
            "Input value of var[10]: 0\n",
            "----------------------------------------\n",
            "Summ of 10's vars euals = -45\n"
          ],
          "name": "stdout"
        }
      ]
    },
    {
      "cell_type": "markdown",
      "metadata": {
        "id": "gq17Jx3CuPxD"
      },
      "source": [
        "### [**Задача «Сумма кубов»**](https://pythontutor.ru/lessons/for_loop/problems/sum_of_cubes/)\n",
        "\n",
        "**Условие**\n",
        "* По данному натуральному n вычислите сумму: $1^3 + 2^3 + ... + n^3$\n"
      ]
    },
    {
      "cell_type": "code",
      "metadata": {
        "colab": {
          "base_uri": "https://localhost:8080/"
        },
        "id": "DRdG-dNjuZk7",
        "outputId": "c0e4a1bb-0896-4b44-af5d-8afb03359e63"
      },
      "source": [
        "print('Input a lenghthr of list range: ', sep = '', end = '')\n",
        "lv = int(input())\n",
        "# print()\n",
        "sq = 0 # init val of summ of cubes\n",
        "print('----------------------------------------')\n",
        "for i in range(1, lv +1, 1):\n",
        "  sq += i*i*i\n",
        "  print(i, '^3 = ', i*i*i, '; Summ of ',i,' cubes = ', sq, sep = '') \n",
        "print('----------------------------------------')\n",
        "print('Summ of all cubes = ', sq, sep = '') \n",
        "\n",
        "\n",
        "\n",
        "\n"
      ],
      "execution_count": null,
      "outputs": [
        {
          "output_type": "stream",
          "text": [
            "Input a lenghthr of list range: 3\n",
            "----------------------------------------\n",
            "1^3 = 1; Summ of 1 cubes = 1\n",
            "2^3 = 8; Summ of 2 cubes = 9\n",
            "3^3 = 27; Summ of 3 cubes = 36\n",
            "----------------------------------------\n",
            "Summ of all cubes = 36\n"
          ],
          "name": "stdout"
        }
      ]
    },
    {
      "cell_type": "markdown",
      "metadata": {
        "id": "LEIbDTM5xui1"
      },
      "source": [
        "### [Задача «Факториал»](https://pythontutor.ru/lessons/for_loop/problems/factorial)\n",
        "\n",
        "**Условие**\n",
        "* Факториалом числа n называется произведение 1 × 2 × ... × n. Обозначение: n!.\n",
        "* По данному натуральному n вычислите значение n!. \n",
        "* ***Пользоваться математической библиотекой math в этой задаче запрещено.***"
      ]
    },
    {
      "cell_type": "code",
      "metadata": {
        "colab": {
          "base_uri": "https://localhost:8080/"
        },
        "id": "MxxpLedVx_iy",
        "outputId": "5b771144-dbe7-47f9-fa82-483f3eb4114e"
      },
      "source": [
        "f_range  = 0 # Factorial!\n",
        "f_val    = 1 # init val of factorial\n",
        "print('To calc Factorial(N!) Input N: ', sep = '', end = '')\n",
        "f_range = int(input())\n",
        "print('----------------------------------------')\n",
        "for i in range(1, f_range + 1, 1):\n",
        "  f_val *= i\n",
        "print('Factorial (',f_range,'!) = ', f_val, sep = '')\n"
      ],
      "execution_count": null,
      "outputs": [
        {
          "output_type": "stream",
          "text": [
            "To calc Factorial(N!) Input N: 4\n",
            "----------------------------------------\n",
            "Factorial (4!) = 24\n"
          ],
          "name": "stdout"
        }
      ]
    },
    {
      "cell_type": "markdown",
      "metadata": {
        "id": "oAQcXc9Dz9jT"
      },
      "source": [
        "### [**Задача «Сумма факториалов»**](https://pythontutor.ru/lessons/for_loop/problems/sum_of_factorials/)\n",
        "\n",
        "**Условие**\n",
        "* По данному натуральном n вычислите сумму 1!+2!+3!+...+n!. \n",
        "* В решении этой задачи можно использовать только один цикл. \n",
        "* **Пользоваться математической библиотекой math в этой задаче запрещено.**\n"
      ]
    },
    {
      "cell_type": "code",
      "metadata": {
        "colab": {
          "base_uri": "https://localhost:8080/"
        },
        "id": "11G7qAd10gN4",
        "outputId": "ba20bd48-9ee0-4e75-8fe8-e1567678b71d"
      },
      "source": [
        "n          = 0    # range of function\n",
        "cur_fct    = 1    # current factorial\n",
        "sum_fct    = 0    # summ of factorialc\n",
        "\n",
        "print('*******  Calculation summ of factorials: 1!+2!+3!+...+n!  *******', sep = '')\n",
        "print('Input n: ', sep = '', end = '')\n",
        "n = int(input())\n",
        "print('----------------------------------------')\n",
        "\n",
        "for i in range(1, n + 1, 1):\n",
        "  cur_fct  *= i\n",
        "  sum_fct  += cur_fct\n",
        "  print('Factorial of ',i,'! = ', cur_fct, '; Summ of ',i,' factorials = ', sum_fct, sep = '')\n",
        "\n",
        "print('Summ of ',i,' factorials = ', sum_fct, sep = '')"
      ],
      "execution_count": null,
      "outputs": [
        {
          "output_type": "stream",
          "text": [
            "*******  Calculation summ of factorials: 1!+2!+3!+...+n!  *******\n",
            "Input n: 4\n",
            "----------------------------------------\n",
            "Factorial of 1! = 1; Summ of 1 factorials = 1\n",
            "Factorial of 2! = 2; Summ of 2 factorials = 3\n",
            "Factorial of 3! = 6; Summ of 3 factorials = 9\n",
            "Factorial of 4! = 24; Summ of 4 factorials = 33\n",
            "Summ of 4 factorials = 33\n"
          ],
          "name": "stdout"
        }
      ]
    },
    {
      "cell_type": "markdown",
      "metadata": {
        "id": "C7WATSabClz0"
      },
      "source": [
        "### [Задача «Количество нулей»](https://pythontutor.ru/lessons/for_loop/problems/how_many_zeroes/)\n",
        "\n",
        "**Условие**\n",
        "* Дано N чисел: \n",
        "* сначала вводится число N, \n",
        "* затем вводится ровно N целых чисел. \n",
        "\n",
        "Подсчитайте количество нулей среди введенных чисел и выведите это количество. Вам нужно подсчитать количество чисел, равных нулю, а не количество цифр.\n"
      ]
    },
    {
      "cell_type": "code",
      "metadata": {
        "colab": {
          "base_uri": "https://localhost:8080/"
        },
        "id": "Q-nZfjq9DUW1",
        "outputId": "319e2df9-8d54-4adb-84a9-f582a600e44d"
      },
      "source": [
        "print('Enter number of N\\'s: ', sep = '', end = '')\n",
        "\n",
        "n = int(input())\n",
        "sumz = 0\n",
        "print('----------------------------------------')\n",
        "\n",
        "for i in range(1, n + 1, 1):\n",
        "  print('Input [',i,'] number: ',sep = '', end = '')\n",
        "  x = int(input())\n",
        "  if x == 0:\n",
        "    sumz += 1\n",
        "print('----------------------------------------')\n",
        "print('Number of Zero\\'s are: ', sumz, sep = '')"
      ],
      "execution_count": null,
      "outputs": [
        {
          "output_type": "stream",
          "text": [
            "Enter number of N's: 10\n",
            "----------------------------------------\n",
            "Input [1] number: 0\n",
            "Input [2] number: 4\n",
            "Input [3] number: 1\n",
            "Input [4] number: -7\n",
            "Input [5] number: 0\n",
            "Input [6] number: 4\n",
            "Input [7] number: 5\n",
            "Input [8] number: 1\n",
            "Input [9] number: 0\n",
            "Input [10] number: 0\n",
            "----------------------------------------\n",
            "Number of Zero's are: 4\n"
          ],
          "name": "stdout"
        }
      ]
    },
    {
      "cell_type": "markdown",
      "metadata": {
        "id": "HmK31fCBVNt4"
      },
      "source": [
        "### [Задача «Лесенка»](https://pythontutor.ru/lessons/for_loop/problems/ladder/)\n",
        "\n",
        "**Условие**\n",
        "* По данному натуральному n ≤ 9 выведите лесенку из n ступенек, \n",
        "* i-я ступенька состоит из чисел от 1 до i без пробелов."
      ]
    },
    {
      "cell_type": "code",
      "metadata": {
        "colab": {
          "base_uri": "https://localhost:8080/"
        },
        "id": "3q9SjULVVX9w",
        "outputId": "c015d132-e64a-4471-c9ad-cf0f5b57b08e"
      },
      "source": [
        "print('Enter number of steps :',sep = '', end = '')\n",
        "n = int(input())\n",
        "print('----------------------------------------')\n",
        "\n",
        "for i in range(1, n + 1, 1):\n",
        "  for j in range(1, i + 1, 1):\n",
        "    print(j, sep = '', end = '')\n",
        "  print()"
      ],
      "execution_count": null,
      "outputs": [
        {
          "output_type": "stream",
          "text": [
            "Enter number of steps :7\n",
            "----------------------------------------\n",
            "1\n",
            "12\n",
            "123\n",
            "1234\n",
            "12345\n",
            "123456\n",
            "1234567\n"
          ],
          "name": "stdout"
        }
      ]
    },
    {
      "cell_type": "markdown",
      "metadata": {
        "id": "F0_NPjMWYOo3"
      },
      "source": [
        "### [Задача «Потерянная карточка»](https://pythontutor.ru/lessons/for_loop/problems/lost_card/)\n",
        "\n",
        "**Условие**\n",
        "* Для настольной игры используются карточки с номерами от 1 до N. \n",
        "* Одна карточка потерялась. \n",
        "* Найдите ее, зная номера оставшихся карточек.\n",
        "* Дано число N, далее N − 1 номер оставшихся карточек (различные числа от 1 до N). \n",
        "* Программа должна вывести номер потерянной карточки.\n",
        "\n",
        "Для самых умных: массивами и аналогичными структурами данных пользоваться нельзя."
      ]
    },
    {
      "cell_type": "code",
      "metadata": {
        "colab": {
          "base_uri": "https://localhost:8080/"
        },
        "id": "0_csBwIWYOMf",
        "outputId": "b83301a9-7d74-4377-c1c9-b03556822358"
      },
      "source": [
        "print('Input Number of cards (1..N): ', sep = '', end = '')\n",
        "n            = int(input())\n",
        "missing_card = 0            \n",
        "print('----------------------------------------')\n",
        "\n",
        "for i in range(1, n+1, 1):\n",
        "  missing_card     += i     # summ o all cards in range\n",
        "\n",
        "print('Sum of [',n,'] cards equals =',missing_card, sep = '')\n",
        "\n",
        "for i in range(1, n, 1):\n",
        "  print('Input number of Card that present in the range (1..',n,'): ', sep = '', end = '')\n",
        "  missing_card -= int(input())\n",
        "  \n",
        "print('----------------------------------------')\n",
        "print('Mmissing card is -',missing_card)"
      ],
      "execution_count": null,
      "outputs": [
        {
          "output_type": "stream",
          "text": [
            "Input Number of cards (1..N): 3\n",
            "----------------------------------------\n",
            "Sum of [3] cards equals =6\n",
            "Input number of Card that present in the range (1..3): 3\n",
            "Input number of Card that present in the range (1..3): 1\n",
            "----------------------------------------\n",
            "Mmissing card is - 2\n"
          ],
          "name": "stdout"
        }
      ]
    },
    {
      "cell_type": "markdown",
      "metadata": {
        "id": "BPD2lAsGWRqR"
      },
      "source": [
        "# [**Занятие 5. Строки**](https://pythontutor.ru/lessons/str/)\n",
        "\n"
      ]
    },
    {
      "cell_type": "markdown",
      "metadata": {
        "id": "NS3ak5cjWjTL"
      },
      "source": [
        "## **1. Строки**\n",
        "\n",
        "Строка считывается со стандартного ввода функцией **input()**. Напомним, что для двух строк определена операция сложения (конкатенации), также определена операция умножения строки на число.\n",
        "\n",
        "Строка состоит из последовательности символов. Узнать количество символов (длину строки) можно при помощи функции **len**.\n",
        "\n",
        "Любой другой объект в Питоне можно перевести к строке, которая ему соответствует. Для этого нужно вызвать функцию **str()**, передав ей в качестве параметра объект, переводимый в строку.\n",
        "\n",
        "* На самом деле каждая строка, с точки зрения Питона, — это объект класса str. * Чтобы получить по объекту другой объект другого класса, как-то ему соответствующий, можно использовать функцию приведения. \n",
        "* Имя этой функции совпадает с именем класса, к которому мы приводим объект. (Для знатоков: эта функция — это конструктор объектов данного класса.) \n",
        "* **Пример**: int — класс для целых чисел. Перевод строки в число осуществляется функцией int()."
      ]
    },
    {
      "cell_type": "code",
      "metadata": {
        "colab": {
          "base_uri": "https://localhost:8080/"
        },
        "id": "jLLeW2ndWeX9",
        "outputId": "5d1f5767-671a-40da-c4fe-a7cfa1e0400e"
      },
      "source": [
        "s = input()\n",
        "print('Length of string \\\"',s,'\\\" is ',len(s), sep = '')\n",
        "\n",
        "t = input()\n",
        "number = int(t)\n",
        "\n",
        "u = str(number)\n",
        "\n",
        "print(s * 3)\n",
        "print(s + ' ' + u)"
      ],
      "execution_count": null,
      "outputs": [
        {
          "output_type": "stream",
          "text": [
            "qaz\n",
            "Length of string \"qaz\" is 3\n",
            "57\n",
            "qazqazqaz\n",
            "qaz 57\n"
          ],
          "name": "stdout"
        }
      ]
    },
    {
      "cell_type": "markdown",
      "metadata": {
        "id": "taFJlHv4ZALw"
      },
      "source": [
        "## **2. Срезы (slices)**\n",
        "Срез (slice) — извлечение из данной строки одного символа или некоторого фрагмента подстроки или подпоследовательности.\n",
        "\n",
        "Есть три формы срезов. \n",
        "* Самая простая форма среза: взятие одного символа строки, а именно, S[i] — это срез, состоящий из одного символа, который имеет номер i. При этом считается, что нумерация начинается с числа 0. То есть если S = 'Hello', то S[0] == 'H', S[1] == 'e', S[2] == 'l', S[3] == 'l', S[4] == 'o'.\n",
        "\n",
        "Заметим, что в Питоне нет отдельного типа для символов строки. Каждый объект, который получается в результате среза S[i] — это тоже строка типа str.\n",
        "Номера символов в строке (а также в других структурах данных: списках, кортежах) называются индексом.\n",
        "\n",
        "* Если указать отрицательное значение индекса, то номер будет отсчитываться с конца, начиная с номера -1. То есть S[-1] == 'o', S[-2] == 'l', S[-3] == 'l', S[-4] == 'e', S[-5] == 'H'.\n",
        "\n",
        "**Или в виде таблицы:**\n",
        "\n",
        "Строка S\t|H\t |e\t|l\t|l\t|o\n",
        "----------|----|--|--|--|--\n",
        "Индекс\t  |S[0]\t|S[1]\t|S[2]\t|S[3]\t|S[4] \n",
        "Индекс\t  |S[-5]\t|S[-4]\t|S[-3]\t|S[-2]\t|S[-1]\n",
        "\n",
        "Если же номер символа в срезе строки S больше либо равен len(S), или меньше, чем -len(S), то при обращении к этому символу строки произойдет ошибка IndexError: string index out of range.\n",
        "\n",
        "* **Срез с двумя параметрами:** S[a:b] возвращает подстроку из b - a символов, начиная с символа c индексом a, то есть до символа с индексом b, не включая его. Например, S[1:4] == 'ell', то же самое получится если написать S[-4:-1]. Можно использовать как положительные, так и отрицательные индексы в одном срезе, например, S[1:-1] — это строка без первого и последнего символа (срез начинается с символа с индексом 1 и заканчиватеся индексом -1, не включая его).\n",
        "\n",
        "При использовании такой формы среза ошибки IndexError никогда не возникает. Например, срез S[1:5] вернет строку 'ello', таким же будет результат, если сделать второй индекс очень большим, например, S[1:100] (если в строке не более 100 символов).\n",
        "\n",
        "Если опустить второй параметр (но поставить двоеточие), то срез берется до конца строки. Например, чтобы удалить из строки первый символ (его индекс равен 0), можно взять срез S[1:]. Аналогично если опустить первый параметр, то можно взять срез от начала строки. То есть удалить из строки последний символ можно при помощи среза S[:-1]. Срез S[:] совпадает с самой строкой S.\n",
        "\n",
        "Любые операции среза со строкой создают новые строки и никогда не меняют исходную строку. В Питоне строки вообще являются неизменяемыми, их невозможно изменить. Можно лишь в старую переменную присвоить новую строку.\n",
        "\n",
        "На самом деле в питоне нет и переменных. Есть лишь имена, которые связаны с какими-нибудь объектами. Можно сначала связать имя с одним объектом, а потом — с другим. Можно несколько имён связать с одним и тем же объектом.\n",
        "\n",
        "Если задать срез с тремя параметрами S[a:b:d], то третий параметр задает шаг, как в случае с функцией range, то есть будут взяты символы с индексами a, a + d, a + 2 * d и т. д. При задании значения третьего параметра, равному 2, в срез попадет кажый второй символ, а если взять значение среза, равное -1, то символы будут идти в обратном порядке. Например, можно перевернуть строку срезом S[::-1].\n"
      ]
    },
    {
      "cell_type": "code",
      "metadata": {
        "id": "FrAMy6fNcDUL",
        "colab": {
          "base_uri": "https://localhost:8080/"
        },
        "outputId": "8c1fc303-9892-4237-978d-60a224a0ea17"
      },
      "source": [
        "s = 'AbcdefG'\n",
        "\n",
        "print(s[1])\n",
        "print(s[-1])\n",
        "print(s[1:3])\n",
        "print(s[1:-1])\n",
        "print(s[:3])\n",
        "print(s[2:])\n",
        "print(s[:-1])\n",
        "\n",
        "print(s[::2])\n",
        "print(s[::-1])\n",
        "\n",
        "print(s[1::2])"
      ],
      "execution_count": null,
      "outputs": [
        {
          "output_type": "stream",
          "text": [
            "b\n",
            "G\n",
            "bc\n",
            "bcdef\n",
            "Abc\n",
            "cdefG\n",
            "Abcdef\n",
            "AceG\n",
            "GfedcbA\n",
            "bdf\n"
          ],
          "name": "stdout"
        }
      ]
    },
    {
      "cell_type": "code",
      "metadata": {
        "id": "cXBB-0bHf1vN",
        "colab": {
          "base_uri": "https://localhost:8080/"
        },
        "outputId": "2b008040-3c81-4d6f-907e-504aee335ca8"
      },
      "source": [
        "# Обратите внимание на то, как похож третий параметр среза на третий параметр функции range():\n",
        "\n",
        "s = 'AbCdEfGhIjKlM'\n",
        "\n",
        "print(s[0:10:2])\n",
        "\n",
        "for i in range(0, 10 , 2):\n",
        "  print(i, s[i])"
      ],
      "execution_count": null,
      "outputs": [
        {
          "output_type": "stream",
          "text": [
            "ACEGI\n",
            "0 A\n",
            "2 C\n",
            "4 E\n",
            "6 G\n",
            "8 I\n"
          ],
          "name": "stdout"
        }
      ]
    },
    {
      "cell_type": "markdown",
      "metadata": {
        "id": "yIc5LGOagfDv"
      },
      "source": [
        "## **3. Методы**\n",
        "* Метод — это функция, применяемая к объекту, в данном случае — к строке. \n",
        "* Метод вызывается в виде Имя_объекта.Имя_метода(параметры). \n",
        "* Например, S.find(\"e\") — это применение к строке S метода find с одним параметром \"e\".\n",
        "\n"
      ]
    },
    {
      "cell_type": "markdown",
      "metadata": {
        "id": "_78qbXjNg6dG"
      },
      "source": [
        "### **3.1. Методы find и rfind**\n",
        "\n",
        "* Метод find находит в данной строке (к которой применяется метод) данную подстроку (которая передается в качестве параметра). \n",
        "* Функция возвращает индекс первого вхождения искомой подстроки. \n",
        "* Если же подстрока не найдена, то метод возвращает значение -1."
      ]
    },
    {
      "cell_type": "code",
      "metadata": {
        "id": "Wa71kmF7hEW2",
        "colab": {
          "base_uri": "https://localhost:8080/"
        },
        "outputId": "e04991d8-6121-455e-95fc-fbfe07a43e49"
      },
      "source": [
        "s = 'Hello'\n",
        "\n",
        "print(s.find('e'))    # return 1\n",
        "\n",
        "print(s.find('l'))   # return 2\n",
        "print(s.find('L'))    # return -1\n",
        "\n",
        "# метод rfind возвращает индекс последнего вхождения данной строки (“поиск справа”).\n",
        "print(s.rfind('l'))   # return 3\n",
        "\n",
        "'''\n",
        "Если вызвать метод find с тремя параметрами S.find(T, a, b), то поиск будет осуществляться в срезе S[a:b]. \n",
        "Если указать только два параметра S.find(T, a), то поиск будет осуществляться в срезе S[a:], то есть начиная с символа с индексом a и до конца строки. \n",
        "Метод S.find(T, a, b) возращает индекс в строке S, а не индекс относительно среза.\n",
        "'''\n",
        "\n"
      ],
      "execution_count": null,
      "outputs": [
        {
          "output_type": "stream",
          "text": [
            "1\n",
            "2\n",
            "-1\n",
            "3\n"
          ],
          "name": "stdout"
        }
      ]
    },
    {
      "cell_type": "markdown",
      "metadata": {
        "id": "wBYil3Ma-ous"
      },
      "source": [
        "### 3.2. Метод replace\n",
        "\n",
        "* Метод replace заменяет все вхождения одной строки на другую. \n",
        "* Формат: S.replace(old, new) — заменить в строке S все вхождения подстроки old на подстроку new. "
      ]
    },
    {
      "cell_type": "code",
      "metadata": {
        "colab": {
          "base_uri": "https://localhost:8080/"
        },
        "id": "LlWGzPBX-13i",
        "outputId": "4e4ae325-9b1b-4e31-ef05-32e2f367c5dd"
      },
      "source": [
        "s = 'Hello'\n",
        "\n",
        "print(s.replace('l','L'))\n",
        "\n",
        "# Если методу replace задать еще один параметр: S.replace(old, new, count), \n",
        "# то заменены будут не все вхождения, а только не больше, чем первые count из них.\n",
        "\n",
        "print(s.replace('l','L',1))\n",
        "\n",
        "print('Abrakadabra'.replace('a', 'A', 1))\n",
        "# вернёт 'AbrAkAdabra'"
      ],
      "execution_count": null,
      "outputs": [
        {
          "output_type": "stream",
          "text": [
            "HeLLo\n",
            "HeLlo\n",
            "AbrAkadabra\n"
          ],
          "name": "stdout"
        }
      ]
    },
    {
      "cell_type": "markdown",
      "metadata": {
        "id": "gbi-hBEP_4iA"
      },
      "source": [
        "### 3.3. Метод count\n",
        "```python\n",
        "* Подсчитывает количество вхождений одной строки в другую строку. \n",
        "* Простейшая форма вызова S.count(T)  возвращает число вхождений строки T внутри строки S. \n",
        "* При этом подсчитываются только непересекающиеся вхождения print(('a' * 10).count('aa'))\n",
        "```"
      ]
    },
    {
      "cell_type": "code",
      "metadata": {
        "colab": {
          "base_uri": "https://localhost:8080/"
        },
        "id": "Ib42D3GR__nN",
        "outputId": "0862637f-2d7c-4210-df50-4ae87b561011"
      },
      "source": [
        "print('Abrakadabra'.count('a'))\n",
        "\n",
        "print(('a' * 10))\n",
        "print(('a' * 10).count('aa'))"
      ],
      "execution_count": null,
      "outputs": [
        {
          "output_type": "stream",
          "text": [
            "4\n",
            "aaaaaaaaaa\n",
            "5\n"
          ],
          "name": "stdout"
        }
      ]
    },
    {
      "cell_type": "markdown",
      "metadata": {
        "id": "lIngBvdeA1O6"
      },
      "source": [
        "## **Задачи**"
      ]
    },
    {
      "cell_type": "markdown",
      "metadata": {
        "id": "wtIRzgocA6PI"
      },
      "source": [
        "### [Задача «Делаем срезы»](https://pythontutor.ru/lessons/str/problems/slices/)\n",
        "\n",
        "**Условие**\n",
        "* Дана строка.\n",
        "* Сначала выведите третий символ этой строки.\n",
        "* Во второй строке выведите предпоследний символ этой строки.\n",
        "* В третьей строке выведите первые пять символов этой строки.\n",
        "* В четвертой строке выведите всю строку, кроме последних двух символов.\n",
        "* В пятой строке выведите все символы с четными индексами (считая, что индексация начинается с 0, поэтому символы выводятся начиная с первого).\n",
        "\n",
        "* В шестой строке выведите все символы с нечетными индексами, то есть начиная со второго символа строки.\n",
        "\n",
        "* В седьмой строке выведите все символы в обратном порядке.\n",
        "\n",
        "* В восьмой строке выведите все символы строки через один в обратном порядке, начиная с последнего.\n",
        "\n",
        "* В девятой строке выведите длину данной строки."
      ]
    },
    {
      "cell_type": "code",
      "metadata": {
        "colab": {
          "base_uri": "https://localhost:8080/"
        },
        "id": "mt4H-1DGBPEK",
        "outputId": "f49aa51d-1d3c-44f4-e939-de87ada3e805"
      },
      "source": [
        "s = 'Abrakadabra'\n",
        "\n",
        "print(s[3])       # Сначала выведите третий символ этой строки.\n",
        "print(s[-2])      # Во второй строке выведите предпоследний символ этой строки.\n",
        "print(s[:5])      # В третьей строке выведите первые пять символов этой строки.\n",
        "print(s[:-2])     # В четвертой строке выведите всю строку, кроме последних двух символов.\n",
        "\n",
        "print(s[::2])     # В пятой строке выведите все символы с четными индексами (считая, что индексация начинается с 0, поэтому символы выводятся начиная с первого).\n",
        "print(s[1::2])     # В шестой строке выведите все символы с нечетными индексами, то есть начиная со второго символа строки.\n",
        "print(s[::-1])      # В седьмой строке выведите все символы в обратном порядке.\n",
        "print(s[::-2])      # В восьмой строке выведите все символы строки через один в обратном порядке, начиная с последнего.\n",
        "print(len(s))      # В девятой строке выведите длину данной строки."
      ],
      "execution_count": null,
      "outputs": [
        {
          "output_type": "stream",
          "text": [
            "a\n",
            "r\n",
            "Abrak\n",
            "Abrakadab\n",
            "Arkdba\n",
            "baaar\n",
            "arbadakarbA\n",
            "abdkrA\n",
            "11\n"
          ],
          "name": "stdout"
        }
      ]
    },
    {
      "cell_type": "markdown",
      "metadata": {
        "id": "wBXQdgXHEViZ"
      },
      "source": [
        "### [Задача «Количество слов»](https://pythontutor.ru/lessons/str/problems/num_words/)\n",
        "\n",
        "**Условие**\n",
        "* Дана строка, состоящая из слов, разделенных пробелами. \n",
        "* Определите, сколько в ней слов. Используйте для решения задачи метод count."
      ]
    },
    {
      "cell_type": "code",
      "metadata": {
        "colab": {
          "base_uri": "https://localhost:8080/"
        },
        "id": "KbJKUK7DEkWU",
        "outputId": "354711ff-c369-48c9-b7a0-efeb2a952255"
      },
      "source": [
        "s = 'Hello World'\n",
        "s = 'One two three four five'\n",
        "\n",
        "print('In string \"',s ,'\" are - ',s.count(' ')+1, ' words', sep = '')\n"
      ],
      "execution_count": null,
      "outputs": [
        {
          "output_type": "stream",
          "text": [
            "In string \"One two three four five\" are - 5 words\n"
          ],
          "name": "stdout"
        }
      ]
    },
    {
      "cell_type": "markdown",
      "metadata": {
        "id": "nueBsv32Eccd"
      },
      "source": [
        "### [Задача «Две половинки»](https://pythontutor.ru/lessons/str/problems/two_halves/)\n",
        "\n",
        "**Условие**\n",
        "* Дана строка. \n",
        "* Разрежьте ее на две равные части (если длина строки — четная, а если длина строки нечетная, то длина первой части должна быть на один символ больше). \n",
        "* Переставьте эти две части местами, результат запишите в новую строку и выведите на экран.\n",
        "\n",
        "**При решении этой задачи не стоит пользоваться инструкцией if.**"
      ]
    },
    {
      "cell_type": "code",
      "metadata": {
        "id": "MQzzRBxTEnQk",
        "outputId": "bd687f18-d37c-4ba1-dd47-62787e502a31",
        "colab": {
          "base_uri": "https://localhost:8080/"
        }
      },
      "source": [
        "s = 'Hi'\n",
        "\n",
        "print(s)"
      ],
      "execution_count": 1,
      "outputs": [
        {
          "output_type": "stream",
          "text": [
            "Hi\n"
          ],
          "name": "stdout"
        }
      ]
    }
  ]
}