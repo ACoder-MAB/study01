{
  "nbformat": 4,
  "nbformat_minor": 0,
  "metadata": {
    "colab": {
      "name": "pythontutor_01.ipynb",
      "provenance": [],
      "collapsed_sections": [
        "aencvgsgB2bD",
        "32TIuI6A97xO",
        "oy4ApNCB-XHn",
        "eavpb5jKAavP",
        "LGFAVoJ7Jb8Y",
        "2cTPFR89ktEm",
        "xz-dewczCjsN",
        "LEIbDTM5xui1"
      ],
      "toc_visible": true,
      "include_colab_link": true
    },
    "kernelspec": {
      "name": "python3",
      "display_name": "Python 3"
    },
    "language_info": {
      "name": "python"
    }
  },
  "cells": [
    {
      "cell_type": "markdown",
      "metadata": {
        "id": "view-in-github",
        "colab_type": "text"
      },
      "source": [
        "<a href=\"https://colab.research.google.com/github/ACoder-MAB/study01/blob/main/pythontutor_01.ipynb\" target=\"_parent\"><img src=\"https://colab.research.google.com/assets/colab-badge.svg\" alt=\"Open In Colab\"/></a>"
      ]
    },
    {
      "cell_type": "markdown",
      "metadata": {
        "id": "QdPAF5tTAakt"
      },
      "source": [
        "# Вводная \n",
        "\n",
        "\n"
      ]
    },
    {
      "cell_type": "markdown",
      "metadata": {
        "id": "aencvgsgB2bD"
      },
      "source": [
        "## Ресурсы по теме\n",
        "https://github.com/ACoder-MAB/study01.git\n",
        "\n",
        "GitHub - ACoder-MAB / study01\n",
        "\n",
        "### Работа с блокнотами в Colab\n",
        "- [Общие сведения о Colaboratory](/notebooks/basic_features_overview.ipynb)\n",
        "- [Руководство для Markdown](/notebooks/markdown_guide.ipynb)\n",
        "- [Импорт библиотек и установка зависимостей](/notebooks/snippets/importing_libraries.ipynb)\n",
        "- [Сохранение и загрузка блокнотов в GitHub](https://colab.research.google.com/github/googlecolab/colabtools/blob/master/notebooks/colab-github-demo.ipynb)\n",
        "- [Интерактивные формы](/notebooks/forms.ipynb)\n",
        "- [Интерактивные виджеты](/notebooks/widgets.ipynb)\n",
        "- <img src=\"/img/new.png\" height=\"20px\" align=\"left\" hspace=\"4px\" alt=\"New\"></img>\n",
        " [TensorFlow 2 в Colab](/notebooks/tensorflow_version.ipynb)\n",
        "\n",
        "<a name=\"working-with-data\"></a>\n",
        "### Работа с данными\n",
        "- [Загрузка данных: Диск, Таблицы и Google Cloud Storage](/notebooks/io.ipynb) \n",
        "- [Диаграмма: визуализация данных](/notebooks/charts.ipynb)\n",
        "- [Начало работы с BigQuery](/notebooks/bigquery.ipynb)\n",
        "\n",
        "### Экспресс-курс по машинному обучению\n",
        "Вот несколько блокнотов из онлайн-курса по машинному обучению от Google. Ещё больше информации доступно на <a href=\"https://developers.google.com/machine-learning/crash-course/\">сайте курса</a>.\n",
        "- [Введение в pandas](/notebooks/mlcc/intro_to_pandas.ipynb)\n",
        "- [Концепции TensorFlow](/notebooks/mlcc/tensorflow_programming_concepts.ipynb)\n",
        "- [Начало работы с TensorFlow](/notebooks/mlcc/first_steps_with_tensor_flow.ipynb)\n",
        "- [Введение в нейросети](/notebooks/mlcc/intro_to_neural_nets.ipynb)\n",
        "- [Введение в разреженные данные и встраивания](/notebooks/mlcc/intro_to_sparse_data_and_embeddings.ipynb)\n",
        "\n",
        "<a name=\"using-accelerated-hardware\"></a>\n",
        "### Использование ускорителей\n",
        "- [TensorFlow с графическими процессорами](/notebooks/gpu.ipynb)\n",
        "- [TensorFlow с TPU](/notebooks/tpu.ipynb)\n",
        "\n",
        "### [Методы оптимизации](https://colab.research.google.com/github/alsprogrammer/optimization_course/blob/master/Task1.ipynb)\n",
        "\n",
        "**Основы оптимизации**\n",
        "\n",
        "В этой работе мы рассмотрим основы оптимизации, для чего она используется, и рассмотрим базовые подходы,а так же познакомимся с возможностями Jupyter Notebook и Google Colab.\n",
        "\n",
        "*  перейти по ссылке и рзаобрать примеры\n",
        "* найти другие примеры с описанием"
      ]
    },
    {
      "cell_type": "markdown",
      "metadata": {
        "id": "TwMx533EBZnR"
      },
      "source": [
        "# Занятие 1. Ввод и вывод данных"
      ]
    },
    {
      "cell_type": "markdown",
      "metadata": {
        "id": "32TIuI6A97xO"
      },
      "source": [
        "## Теория\n",
        "\n",
        "Для печати значений в Питоне есть функция print(). Внутри круглых скобок через запятую мы пишем то, что хотим вывести. Вот программа, которая делает несколько вычислений:\n",
        "\n",
        "разбор примеров с \n",
        "https://pythontutor.ru/lessons/inout_and_arithmetic_operations/"
      ]
    },
    {
      "cell_type": "markdown",
      "metadata": {
        "id": "FKk3hJfH465g"
      },
      "source": [
        "\n",
        "\n"
      ]
    },
    {
      "cell_type": "code",
      "metadata": {
        "id": "5j7sNUG_5Aju",
        "colab": {
          "base_uri": "https://localhost:8080/"
        },
        "outputId": "fa03c230-c3f9-499a-cfd3-1f3bce5ed79e"
      },
      "source": [
        "print(5 + 10)\n",
        "print(3 * 7, (17 - 2) * 8)\n",
        "print(2 ** 16)                  # две звёздочки означают возведение в степень\n",
        "print(37 / 3)                   # один слэш — это деление с ответом-дробью\n",
        "print(37 // 3)                  # два слэша считают частное от деления нацело\n",
        "                                # это как операция div в других языках\n",
        "print(37 % 3)                   # процент считает остаток от деления нацело\n",
        "                                # это как операция mod в других языках\n",
        "\n",
        "print( \"текст \", 3*7)"
      ],
      "execution_count": null,
      "outputs": [
        {
          "output_type": "stream",
          "text": [
            "15\n",
            "21 120\n",
            "65536\n",
            "12.333333333333334\n",
            "12\n",
            "1\n",
            "текст  21\n"
          ],
          "name": "stdout"
        }
      ]
    },
    {
      "cell_type": "markdown",
      "metadata": {
        "id": "OWWeowor6x-5"
      },
      "source": [
        "Для ввода данных в программу мы используем функцию input(). Она считывает одну строку.\n",
        "\n",
        "Вот программа, которая считывает имя пользователя и приветствует его:"
      ]
    },
    {
      "cell_type": "code",
      "metadata": {
        "colab": {
          "base_uri": "https://localhost:8080/"
        },
        "id": "AaT_8PMk65yO",
        "outputId": "b138e761-87af-41d9-db44-1c22b876ad20"
      },
      "source": [
        "print('Как вас зовут?')\n",
        "name = input()            #read line and put it in to the var\n",
        "print('Hello, ' + name + '!')\n"
      ],
      "execution_count": null,
      "outputs": [
        {
          "output_type": "stream",
          "text": [
            "Как вас зовут?\n",
            "1\n",
            "Hello, 1!\n"
          ],
          "name": "stdout"
        }
      ]
    },
    {
      "cell_type": "code",
      "metadata": {
        "colab": {
          "base_uri": "https://localhost:8080/"
        },
        "id": "7oepZ9WM8G7w",
        "outputId": "00dabbeb-c437-4173-916e-0e187348b62d"
      },
      "source": [
        "a = input()\n",
        "b = input()\n",
        "s = a + b\n",
        "print(s)\n",
        "\n",
        "a = int(a)\n",
        "b = int(b)\n",
        "s = a + b\n",
        "print(s)\n"
      ],
      "execution_count": null,
      "outputs": [
        {
          "output_type": "stream",
          "text": [
            "4\n",
            "5\n",
            "45\n",
            "9\n"
          ],
          "name": "stdout"
        }
      ]
    },
    {
      "cell_type": "markdown",
      "metadata": {
        "id": "oy4ApNCB-XHn"
      },
      "source": [
        "## Задачи"
      ]
    },
    {
      "cell_type": "markdown",
      "metadata": {
        "id": "TrmVCedl-gRB"
      },
      "source": [
        "Условие\n",
        "Напишите программу, которая считывает длины двух катетов в прямоугольном треугольнике и выводит его площадь. Каждое число записано в отдельной строке.\n"
      ]
    },
    {
      "cell_type": "code",
      "metadata": {
        "colab": {
          "base_uri": "https://localhost:8080/"
        },
        "id": "J-q7VfiC-huI",
        "outputId": "49546998-0e82-4ead-bac6-df97dcc89562"
      },
      "source": [
        "print('Введите 1-й катет прям.уг. треугольника')\n",
        "k1 = int(input())\n",
        "print('Введите 2-й катет прям.уг. треугольника')\n",
        "k2 = int(input())\n",
        "s = 1/2 * k1 * k2\n",
        "print('Полощадь треугольника =', s)\n",
        "\n"
      ],
      "execution_count": null,
      "outputs": [
        {
          "output_type": "stream",
          "text": [
            "Введите 1-й катет прям.уг. треугольника\n",
            "3\n",
            "Введите 2-й катет прям.уг. треугольника\n",
            "4\n",
            "Полощадь треугольника = 6.0\n"
          ],
          "name": "stdout"
        }
      ]
    },
    {
      "cell_type": "markdown",
      "metadata": {
        "id": "1gNhoxpFAH54"
      },
      "source": [
        "# [Занятие 2. Условия](https://pythontutor.ru/lessons/ifelse/)\n"
      ]
    },
    {
      "cell_type": "markdown",
      "metadata": {
        "id": "eavpb5jKAavP"
      },
      "source": [
        "## Теория\n",
        "Все ранее рассматриваемые программы имели линейную структуру: все инструкции выполнялись последовательно одна за одной, каждая записанная инструкция обязательно выполняется.\n",
        "\n",
        "Допустим мы хотим по данному числу x определить его абсолютную величину (модуль). Программа должна напечатать значение переменной x, если x>0 или же величину -x в противном случае. Линейная структура программы нарушается: в зависимости от справедливости условия x>0 должна быть выведена одна или другая величина. "
      ]
    },
    {
      "cell_type": "code",
      "metadata": {
        "colab": {
          "base_uri": "https://localhost:8080/"
        },
        "id": "Iq5OvmeKBxlL",
        "outputId": "02f32635-8e81-4782-ac88-30d56bf775eb"
      },
      "source": [
        "x = int(input())\n",
        "if x > 0:  \n",
        "      print(x)\n",
        "else:\n",
        "      print(-x)\n"
      ],
      "execution_count": null,
      "outputs": [
        {
          "output_type": "stream",
          "text": [
            "-99\n",
            "99\n"
          ],
          "name": "stdout"
        }
      ]
    },
    {
      "cell_type": "code",
      "metadata": {
        "colab": {
          "base_uri": "https://localhost:8080/"
        },
        "id": "wwg5guxnCxct",
        "outputId": "d7a50634-1b82-4f50-90ba-ed0786e2d848"
      },
      "source": [
        "# неполное ветвление\n",
        "x = int(input())\n",
        "if x < 0:\n",
        "    x = -x\n",
        "print(x)"
      ],
      "execution_count": null,
      "outputs": [
        {
          "output_type": "stream",
          "text": [
            "9\n",
            "9\n"
          ],
          "name": "stdout"
        }
      ]
    },
    {
      "cell_type": "code",
      "metadata": {
        "colab": {
          "base_uri": "https://localhost:8080/"
        },
        "id": "FrNUDEcYIlio",
        "outputId": "e2bab80c-a5d3-405c-d578-82c4bd4d542b"
      },
      "source": [
        "# (n % 2 == 0) (остаток от деления n на 2 равен 0)\n",
        "# Пример. Проверим, что хотя бы одно из чисел a или b оканчивается на 0:\n",
        "\n",
        "a = int(input())\n",
        "b = int(input())\n",
        "if a % 10 == 0 or b % 10 == 0:\n",
        "    print('YES')\n",
        "else:\n",
        "    print('NO')"
      ],
      "execution_count": null,
      "outputs": [
        {
          "output_type": "stream",
          "text": [
            "100\n",
            "1\n",
            "YES\n"
          ],
          "name": "stdout"
        }
      ]
    },
    {
      "cell_type": "markdown",
      "metadata": {
        "id": "LGFAVoJ7Jb8Y"
      },
      "source": [
        "## Задачи"
      ]
    },
    {
      "cell_type": "code",
      "metadata": {
        "colab": {
          "base_uri": "https://localhost:8080/"
        },
        "id": "3UYm7d8NJjHV",
        "outputId": "364770f5-bf50-4952-f937-fdfdc89e9b5a"
      },
      "source": [
        "# Даны два целых числа. Выведите значение наименьшего из них.\n",
        "a = int(input())\n",
        "b = int(input())\n",
        "\n",
        "if a > b:\n",
        "  print(a)\n",
        "else:\n",
        "  print(b)"
      ],
      "execution_count": null,
      "outputs": [
        {
          "output_type": "stream",
          "text": [
            "-10\n",
            "-99\n",
            "-10\n"
          ],
          "name": "stdout"
        }
      ]
    },
    {
      "cell_type": "code",
      "metadata": {
        "colab": {
          "base_uri": "https://localhost:8080/"
        },
        "id": "0RQAwZb2KG55",
        "outputId": "820fe7e5-ef38-41eb-a1a4-b8854adc8c43"
      },
      "source": [
        "# Списки\n",
        "int_list = [3,4,5]\n",
        "hg_list = [\"строка\", 0.1, True]\n",
        "list_of_lists = [int_list, hg_list, []]\n",
        "print(int_list)\n",
        "print(hg_list)\n",
        "print(list_of_lists)\n",
        "\n",
        "for i in "
      ],
      "execution_count": null,
      "outputs": [
        {
          "output_type": "stream",
          "text": [
            "[3, 4, 5]\n",
            "['строка', 0.1, True]\n",
            "[[3, 4, 5], ['строка', 0.1, True], []]\n",
            "3\n",
            "12\n"
          ],
          "name": "stdout"
        }
      ]
    },
    {
      "cell_type": "markdown",
      "metadata": {
        "id": "g70Pbznro4B3"
      },
      "source": [
        "**[Посчитать количество одинаковых элементов в списке](https://younglinux.info/python/task/list-dict)**\n"
      ]
    },
    {
      "cell_type": "code",
      "metadata": {
        "colab": {
          "base_uri": "https://localhost:8080/"
        },
        "id": "9C5cKH3JnZsY",
        "outputId": "bac638e9-306a-4f40-8c2b-cbbc90da4222"
      },
      "source": [
        "\"\"\" ВЕРНУТЬСЯ к примеру и разобрать!!! \"\"\"\n",
        "def fill_list(m1, m2, amount, l):\n",
        "    from random import randint\n",
        "    for i in range(amount):\n",
        "        l.append(randint(m1, m2))\n",
        " \n",
        " \n",
        "def analysis(your_list, your_dict):\n",
        "    for i in your_list:\n",
        "        if i in your_dict:\n",
        "            your_dict[i] += 1\n",
        "        else:\n",
        "            your_dict[i] = 1\n",
        " \n",
        " \n",
        "lst = []\n",
        "dct = {}\n",
        " \n",
        "mn = int(input('Минимум: '))\n",
        "mx = int(input('Максимум: '))\n",
        "qty = int(input('Количество элементов: '))\n",
        " \n",
        "fill_list(mn, mx, qty, lst)\n",
        "analysis(lst, dct)\n",
        " \n",
        "for item in sorted(dct):\n",
        "    print(\"'%d':%d\" % (item, dct[item]))"
      ],
      "execution_count": null,
      "outputs": [
        {
          "output_type": "stream",
          "text": [
            "Минимум: 50\n",
            "Максимум: 70\n",
            "Количество элементов: 33\n",
            "'51':3\n",
            "'52':1\n",
            "'53':1\n",
            "'54':4\n",
            "'57':2\n",
            "'59':2\n",
            "'60':1\n",
            "'61':1\n",
            "'62':1\n",
            "'63':3\n",
            "'64':3\n",
            "'65':4\n",
            "'66':1\n",
            "'67':2\n",
            "'68':1\n",
            "'70':3\n"
          ],
          "name": "stdout"
        }
      ]
    },
    {
      "cell_type": "markdown",
      "metadata": {
        "id": "149NhatVkivV"
      },
      "source": [
        "# [Занятие 3. Вычисления](https://pythontutor.ru/lessons/int_and_float/)\n"
      ]
    },
    {
      "cell_type": "markdown",
      "metadata": {
        "id": "2cTPFR89ktEm"
      },
      "source": [
        "## Целочисленная арифметика\n",
        "Для целых чисел определены операции: +, -, * и **. \n",
        "Операция деления / для целых чисел возвращает вещественное число (значение типа float). \n",
        "Также функция возведения в степень возвращает значение типа float, если показатель степени — отрицательное число.\n",
        "\n",
        "Но есть и специальная операция целочисленного деления, выполняющегося с отбрасыванием дробной части, которая обозначается // (она соответствует операции div в Паскале). Она возвращает целое число: целую часть частного. \n",
        "\n",
        "Другая близкая ей операция − это операция взятия остатка от деления, обозначаемая % (она соответствует операции mod в Паскале). Например:"
      ]
    },
    {
      "cell_type": "code",
      "metadata": {
        "colab": {
          "base_uri": "https://localhost:8080/"
        },
        "id": "Rp9uwVUXk8F2",
        "outputId": "48020247-06bc-4622-b333-a95aa8eb41e4"
      },
      "source": [
        "print( 17  / 3)    \n",
        "print( 17 // 3)    # целочисленного деления, выполняющегося с отбрасыванием дробной части\n",
        "print( 17 %  3)    # взятия остатка от деления, обозначаемая % (она соответствует операции mod в Паскале)\n",
        "\n",
        "print( 17  / 2,  17 // 2,  17 %  2, 16 % 2, 15 % 2, )    # взятия остатка от деления, обозначаемая % (она соответствует операции mod в Паскале)"
      ],
      "execution_count": null,
      "outputs": [
        {
          "output_type": "stream",
          "text": [
            "5.666666666666667\n",
            "5\n",
            "2\n",
            "8.5 8 1 0 1\n"
          ],
          "name": "stdout"
        }
      ]
    },
    {
      "cell_type": "code",
      "metadata": {
        "colab": {
          "base_uri": "https://localhost:8080/"
        },
        "id": "YxJgSK7Y_0zx",
        "outputId": "e0182e69-173a-4b3c-9b00-f1aee9f7d461"
      },
      "source": [
        "# Действительные числа\n",
        "# В этом разделе речь пойдет о действительных числах, имеющих тип float.\n",
        "x = float(input())\n",
        "print(x)\n"
      ],
      "execution_count": null,
      "outputs": [
        {
          "output_type": "stream",
          "text": [
            "5\n",
            "5.0\n"
          ],
          "name": "stdout"
        }
      ]
    },
    {
      "cell_type": "code",
      "metadata": {
        "colab": {
          "base_uri": "https://localhost:8080/"
        },
        "id": "uecXxFByA-Jf",
        "outputId": "c2ed7757-4a4e-4434-c743-bfe0c90d9a0b"
      },
      "source": [
        "# Библиотека math\n",
        "\n",
        "import math\n",
        "\n",
        "# округлять вещественные числа до ближайшего целого числа вверх.\n",
        "x = math.ceil(4.2)\n",
        "print(x)\n",
        "print(math.ceil(4.8))\n",
        "print(math.pi)\n",
        "\n"
      ],
      "execution_count": null,
      "outputs": [
        {
          "output_type": "stream",
          "text": [
            "5\n",
            "5\n",
            "3.141592653589793\n"
          ],
          "name": "stdout"
        }
      ]
    },
    {
      "cell_type": "code",
      "metadata": {
        "colab": {
          "base_uri": "https://localhost:8080/"
        },
        "id": "pvG241LfBsen",
        "outputId": "e97a5d25-960b-4e76-fdcb-ed94486d8db9"
      },
      "source": [
        "from math import ceil\n",
        "print(ceil(7/2))\n",
        "# print(pi)"
      ],
      "execution_count": null,
      "outputs": [
        {
          "output_type": "stream",
          "text": [
            "4\n"
          ],
          "name": "stdout"
        }
      ]
    },
    {
      "cell_type": "markdown",
      "metadata": {
        "id": "xz-dewczCjsN"
      },
      "source": [
        "## TASKS\n",
        "\n",
        "```python\n",
        "print(5 + 10)\n",
        "print(3 * 7, (17 - 2) * 8)\n",
        "print(2 ** 16)  # две звёздочки означают возведение в степень\n",
        "print(37 / 3)   # один слэш — это деление с ответом-дробью\n",
        "print(37 // 3)  # два слэша считают частное от деления нацело, это как операция div в других языках\n",
        "print(37 % 3)   # процент считает остаток от деления нацело - это как операция mod в других языках\n",
        "```"
      ]
    },
    {
      "cell_type": "code",
      "metadata": {
        "colab": {
          "base_uri": "https://localhost:8080/"
        },
        "id": "Nv1mnBKbn-YV",
        "outputId": "eff1056a-44b8-44ef-9c56-1c4e5bfd47be"
      },
      "source": [
        "print(5 + 10)\n",
        "print(3 * 7, (17 - 2) * 8)\n",
        "print(2 ** 16)  # две звёздочки означают возведение в степень\n",
        "print(3 / 2)   # один слэш — это деление с ответом-дробью\n",
        "print(3 // 2)  # два слэша считают частное от деления нацело, это как операция div в других языках\n",
        "print(3 % 2)   # процент считает остаток от деления нацело - это как операция mod в других языках"
      ],
      "execution_count": null,
      "outputs": [
        {
          "output_type": "stream",
          "text": [
            "15\n",
            "21 120\n",
            "65536\n",
            "1.5\n",
            "1\n",
            "1\n"
          ],
          "name": "stdout"
        }
      ]
    },
    {
      "cell_type": "code",
      "metadata": {
        "colab": {
          "base_uri": "https://localhost:8080/"
        },
        "id": "l2MviWyrCnQo",
        "outputId": "98308a59-f361-4a5c-9d4d-106ea2b98c9f"
      },
      "source": [
        "# Дано натуральное число. Выведите его последнюю цифру.\n",
        "# % процент считает остаток от деления нацело - это как операция mod в других языках\n",
        "\n",
        "x = int(input())\n",
        "print(x % 10)\n"
      ],
      "execution_count": null,
      "outputs": [
        {
          "output_type": "stream",
          "text": [
            "67\n",
            "7\n"
          ],
          "name": "stdout"
        }
      ]
    },
    {
      "cell_type": "code",
      "metadata": {
        "colab": {
          "base_uri": "https://localhost:8080/"
        },
        "id": "FYOtH6goEwEz",
        "outputId": "61bcabb3-50e5-49a3-8c25-16a2b2d325cf"
      },
      "source": [
        "''' Условие\n",
        "      Длина Московской кольцевой автомобильной дороги — 109 километров. \n",
        "      Байкер Вася стартует с нулевого километра МКАД и едет со скоростью v километров в час. \n",
        "      На какой отметке он остановится через t часов?\n",
        "\n",
        "Программа получает на вход значение v и t. Если v>0, то Вася движется в положительном направлении по МКАД, если же значение v<0, то в отрицательном.\n",
        "Программа должна вывести целое число от 0 до 108 — номер отметки, на которой остановится Вася.\n",
        "'''\n",
        "m = 109    # Длина Московской кольцевой автомобильной дороги — 109 километров\n",
        "\n",
        "print('Enter Velocity:')\n",
        "v = int(input())\n",
        "\n",
        "print('Enter Time in road:')\n",
        "t = int(input())\n",
        "\n",
        "if v > 0:      # v>0, то Вася движется в положительном направлении по МКАД\n",
        "  s = v*t % m  # остаток от деления нацело кол-ва кругов по МКАД\n",
        "else:\n",
        "  s = 109 - abs(v)*t % m\n",
        "\n",
        "print('The Biker stops on mark:',s,'km')\n"
      ],
      "execution_count": null,
      "outputs": [
        {
          "output_type": "stream",
          "text": [
            "Enter Velocity: %v\n",
            "-60\n",
            "Enter Time in road:\n",
            "4\n",
            "The Biker stops on mark: 87 km\n"
          ],
          "name": "stdout"
        }
      ]
    },
    {
      "cell_type": "code",
      "metadata": {
        "colab": {
          "base_uri": "https://localhost:8080/"
        },
        "id": "rkESmiapL1kk",
        "outputId": "9b226981-cd02-4e9e-8989-38f9600fe146"
      },
      "source": [
        "# Условие:   Дано положительное действительное число X. Выведите его дробную часть.\n",
        "\n",
        "x = float(input())\n",
        "print( round( x % 1, 4))         # Остаток от деления на единицу, даст нужный результат"
      ],
      "execution_count": null,
      "outputs": [
        {
          "output_type": "stream",
          "text": [
            "19.99\n",
            "0.99\n"
          ],
          "name": "stdout"
        }
      ]
    },
    {
      "cell_type": "markdown",
      "metadata": {
        "id": "7RN6Pm9KOLIh"
      },
      "source": [
        "> [Задача «Первая цифра после точки»](https://pythontutor.ru/lessons/int_and_float/problems/digit_after_separator/)"
      ]
    },
    {
      "cell_type": "code",
      "metadata": {
        "colab": {
          "base_uri": "https://localhost:8080/"
        },
        "id": "mEJAVP9EM9eD",
        "outputId": "31dd3a76-462d-4e52-8036-a20ab576acc7"
      },
      "source": [
        "# Условие: Дано положительное действительное число X. Выведите его первую цифру после десятичной точки.\n",
        "\n",
        "x = float(input())\n",
        "print(int(x * 10) % 10)"
      ],
      "execution_count": null,
      "outputs": [
        {
          "output_type": "stream",
          "text": [
            "1.79\n",
            "7\n"
          ],
          "name": "stdout"
        }
      ]
    },
    {
      "cell_type": "markdown",
      "metadata": {
        "id": "HmZhgey6Of7u"
      },
      "source": [
        "> [Задача «Конец уроков»](https://pythontutor.ru/lessons/int_and_float/problems/konec_urokov/)\n",
        "\n",
        "**Условие:**\n",
        "* В некоторой школе занятия начинаются в 9:00. \n",
        "* Продолжительность урока — 45 минут, \n",
        "* после 1-го, 3-го, 5-го и т.д. уроков перемена 5 минут, \n",
        "* а после 2-го, 4-го, 6-го и т.д. — 15 минут.\n",
        "\n",
        "**ВОПРОС:**\n",
        "Дан номер урока (число от 1 до 10). \n",
        "* Определите, когда заканчивается указанный урок.\n",
        "* Выведите два целых числа: время окончания урока в часах и минутах.\n",
        "\n"
      ]
    },
    {
      "cell_type": "code",
      "metadata": {
        "colab": {
          "base_uri": "https://localhost:8080/"
        },
        "id": "ziWsugfqPD7d",
        "outputId": "d661fe77-df06-499a-9435-817d387ff55e"
      },
      "source": [
        "# РЕШЕНИЕ\n",
        "\n",
        "less_dur      = 45    # Продолжительность 1 урока      = 45 мин\n",
        "turn_even_dur = 15    # Перемена после четного урока   = 15 мин\n",
        "turn_odd_dur  =  5    # перемена после нечетного урока =  5 мин\n",
        "\n",
        "print('-------------------------------------------------------')\n",
        "print('Enter lesson number (from 1 to 10):')\n",
        "num_less = int(input())\n",
        "\n",
        "print('Duration of All Lessons:',num_less *  45)\n",
        "print('Number of turns:' ,num_less - 1)\n",
        "print('-------------------------------------------------------')\n",
        "num_odd_turns  =   ( (num_less - 1) - ( (num_less - 1) // 2 ) ) # кол-во Нечетных перемен\n",
        "num_even_turns =   (num_less - 1) // 2                          # кол-во четных перемен\n",
        "print('Num of Odd Turns',  num_odd_turns )          \n",
        "print('Num of Even Turns', num_even_turns)                                 \n",
        "print('-------------------------------------------------------')\n",
        "total_les_tutn_dur = (num_less *  45 + num_odd_turns * 5 + num_even_turns * 15)\n",
        "les_end_time_hr  =  9 + total_les_tutn_dur // 60                # 9 + длительность уроков и перемен в часах\n",
        "les_end_time_min =  total_les_tutn_dur  % 60                    # остаток длительности в минутах\n",
        "print('Lesson',num_less,'Ends at ',  les_end_time_hr, ':', les_end_time_min)\n",
        "print('-------------------------------------------------------')"
      ],
      "execution_count": null,
      "outputs": [
        {
          "output_type": "stream",
          "text": [
            "Enter lesson number (from 1 to 10):\n",
            "5\n",
            "Duration of All Lessons: 225\n",
            "Number of turns: 4\n",
            "-------------------------------------------------------\n",
            "Num of Odd Turns 2\n",
            "Num of Even Turns 2\n",
            "-------------------------------------------------------\n",
            "Lesson 5 Ends at  13 : 25\n"
          ],
          "name": "stdout"
        }
      ]
    },
    {
      "cell_type": "code",
      "metadata": {
        "colab": {
          "base_uri": "https://localhost:8080/"
        },
        "id": "0VxCOSIWq-u4",
        "outputId": "0a003777-2aa3-44ef-acfb-40a062e46fe8"
      },
      "source": [
        "# Типовые примеры деления\n",
        "print('Деление 1/2 - Обычное деление', 1 / 2 , ', // Частное от деления нацело(div)', 1 // 2 , ', % Остаток от деления нацело (mod)', 1 % 2 )\n",
        "print('Деление 2/2 - Обычное деление', 2 / 2 , ', // Частное от деления нацело(div)', 2 // 2 , ', % Остаток от деления нацело (mod)', 2 % 2 )\n",
        "print('Деление 3/2 - Обычное деление', 3 / 2 , ', // Частное от деления нацело(div)', 3 // 2 , ', % Остаток от деления нацело (mod)', 3 % 2 )\n",
        "print('Деление 4/2 - Обычное деление', 4 / 2 , ', // Частное от деления нацело(div)', 4 // 2 , ', % Остаток от деления нацело (mod)', 4 % 2 )\n",
        "print('Деление 5/2 - Обычное деление', 5 / 2 , ', // Частное от деления нацело(div)', 5 // 2 , ', % Остаток от деления нацело (mod)', 5 % 2 )\n",
        "print('Деление 6/2 - Обычное деление', 6 / 2 , ', // Частное от деления нацело(div)', 6 // 2 , ', % Остаток от деления нацело (mod)', 6 % 2 )\n",
        "print('Деление 77/2 - Обычное деление', 77 / 2 , ', // Частное от деления нацело(div)', 77 // 2 , ', % Остаток от деления нацело (mod)', 77 % 2 )\n"
      ],
      "execution_count": null,
      "outputs": [
        {
          "output_type": "stream",
          "text": [
            "Деление 1/2 - Обычное деление 0.5 , // Частное от деления нацело(div) 0 , % Остаток от деления нацело (mod) 1\n",
            "Деление 2/2 - Обычное деление 1.0 , // Частное от деления нацело(div) 1 , % Остаток от деления нацело (mod) 0\n",
            "Деление 3/2 - Обычное деление 1.5 , // Частное от деления нацело(div) 1 , % Остаток от деления нацело (mod) 1\n",
            "Деление 4/2 - Обычное деление 2.0 , // Частное от деления нацело(div) 2 , % Остаток от деления нацело (mod) 0\n",
            "Деление 5/2 - Обычное деление 2.5 , // Частное от деления нацело(div) 2 , % Остаток от деления нацело (mod) 1\n",
            "Деление 6/2 - Обычное деление 3.0 , // Частное от деления нацело(div) 3 , % Остаток от деления нацело (mod) 0\n",
            "Деление 77/2 - Обычное деление 38.5 , // Частное от деления нацело(div) 38 , % Остаток от деления нацело (mod) 1\n"
          ],
          "name": "stdout"
        }
      ]
    },
    {
      "cell_type": "markdown",
      "metadata": {
        "id": "qcDsxLoszmID"
      },
      "source": [
        "> [Задача «Автопробег»](https://pythontutor.ru/lessons/int_and_float/problems/motor_rally/)\n",
        "\n",
        "**Условие**\n",
        "* За день машина проезжает n километров. \n",
        "\n",
        "**ВОПРОС** \n",
        "* Сколько дней нужно, чтобы проехать маршрут длиной m километров? \n",
        "* Программа получает на вход числа n и m."
      ]
    },
    {
      "cell_type": "code",
      "metadata": {
        "id": "IJQZ2QLZz_6v",
        "colab": {
          "base_uri": "https://localhost:8080/"
        },
        "outputId": "a38821d3-b2a7-4b41-ef15-0b4285f385c9"
      },
      "source": [
        "from math import ceil \n",
        "\n",
        "day_dist  = int(input())\n",
        "full_road = int(input())\n",
        "print('------------------------')\n",
        "\n",
        "print('Car need to drive', ceil(full_road / day_dist))"
      ],
      "execution_count": null,
      "outputs": [
        {
          "output_type": "stream",
          "text": [
            "700\n",
            "2100\n",
            "------------------------\n",
            "Car need to drive 3\n"
          ],
          "name": "stdout"
        }
      ]
    },
    {
      "cell_type": "markdown",
      "metadata": {
        "id": "sZn7M1um07xa"
      },
      "source": [
        "> [Задача «Автопробег»](https://pythontutor.ru/lessons/int_and_float/problems/motor_rally/)\n",
        "\n",
        "**Условие**\n",
        "* За день машина проезжает n километров. \n",
        "\n",
        "**ВОПРОС** \n",
        "* Сколько дней нужно, чтобы проехать маршрут длиной m километров? \n",
        "* Программа получает на вход числа n и m."
      ]
    },
    {
      "cell_type": "code",
      "metadata": {
        "colab": {
          "base_uri": "https://localhost:8080/"
        },
        "id": "MNeI-gZb07xg",
        "outputId": "a38821d3-b2a7-4b41-ef15-0b4285f385c9"
      },
      "source": [
        "from math import ceil \n",
        "\n",
        "day_dist  = int(input())\n",
        "full_road = int(input())\n",
        "print('------------------------')\n",
        "\n",
        "print('Car need to drive', ceil(full_road / day_dist))"
      ],
      "execution_count": null,
      "outputs": [
        {
          "output_type": "stream",
          "text": [
            "700\n",
            "2100\n",
            "------------------------\n",
            "Car need to drive 3\n"
          ],
          "name": "stdout"
        }
      ]
    },
    {
      "cell_type": "markdown",
      "metadata": {
        "id": "kdxGkJOCYP5d"
      },
      "source": [
        "[Задача «Стоимость покупки»](https://pythontutor.ru/lessons/int_and_float/problems/purchase_price/)\n",
        "\n",
        "**Условие**\n",
        "* Пирожок в столовой стоит a рублей и b копеек. \n",
        "* Определите, сколько рублей и копеек нужно заплатить за n пирожков. \n",
        "\n",
        "* Программа получает на вход три числа: a, b, n, \n",
        "* и должна вывести два числа: стоимость покупки в рублях и копейках."
      ]
    },
    {
      "cell_type": "code",
      "metadata": {
        "colab": {
          "base_uri": "https://localhost:8080/"
        },
        "id": "XgGd1I4OYimt",
        "outputId": "6eb5ef5d-c737-455d-e0c2-af8afeb9f178"
      },
      "source": [
        "print('Enter Price in Rub:')\n",
        "r = int(input())                    # Пирожок в столовой стоит r(a) рублей\n",
        "print('Enter Price in kops:')\n",
        "k = int(input())                    # ... и k(b) копеек.\n",
        "print('Enter number of Pie:')\n",
        "pn = int(input())                   # Кол-во Пирожоков\n",
        "print('------------------------------------------------------')\n",
        "Price_rub = pn*r + pn*k // 100\n",
        "Price_kop = pn*k % 100\n",
        "print('Total Price od Pies:', Price_rub, 'Rubs,', Price_kop, 'kops')\n",
        "print('------------------------------------------------------')\n"
      ],
      "execution_count": null,
      "outputs": [
        {
          "output_type": "stream",
          "text": [
            "Enter Price in Rub:\n",
            "2029\n",
            "Enter Price in kops:\n",
            "34\n",
            "Enter number of Pie:\n",
            "1848\n",
            "------------------------------------------------------\n",
            "Total Price od Pies: 3750220 Rubs, 32 kops\n",
            "------------------------------------------------------\n"
          ],
          "name": "stdout"
        }
      ]
    },
    {
      "cell_type": "markdown",
      "metadata": {
        "id": "1GNtOvZabi5R"
      },
      "source": [
        "# Занятие 4. Цикл for\n",
        "* Цикл for, также называемый циклом с параметром, в языке Питон богат возможностями. \n",
        "* В цикле for указывается переменная и множество значений, по которому будет пробегать переменная. \n",
        "* Множество значений может быть задано списком, кортежем, строкой или диапазоном."
      ]
    },
    {
      "cell_type": "code",
      "metadata": {
        "colab": {
          "base_uri": "https://localhost:8080/"
        },
        "id": "X4399c-Bb5LR",
        "outputId": "b2222e1e-5da4-44a7-aa41-5e1d14ba201e"
      },
      "source": [
        "# Вот простейший пример использования цикла, где в качестве множества значений используется кортеж:\n",
        "i = 1\n",
        "for color in 'red', 'orange', 'yellow', 'green', 'cyan', 'blue', 'violet':\n",
        "  print('#', i, ' color of rainbow is ', color, sep = '')   # sep – это разделитель, используемый при печати несколькими значениями. По умолчанию используется пробел ( sep=' ' )\n",
        "  i += 1                                                    # Инструкция i += 1 эквивалентна конструкции i = i + 1 (это просто сокращенная запись). \n",
        "                                                            # Такую сокращенную запись можно использовать для всех арифметических операций: *=, -=, /=, %=..."
      ],
      "execution_count": null,
      "outputs": [
        {
          "output_type": "stream",
          "text": [
            "#1 color of rainbow is red\n",
            "#2 color of rainbow is orange\n",
            "#3 color of rainbow is yellow\n",
            "#4 color of rainbow is green\n",
            "#5 color of rainbow is cyan\n",
            "#6 color of rainbow is blue\n",
            "#7 color of rainbow is violet\n"
          ],
          "name": "stdout"
        }
      ]
    },
    {
      "cell_type": "code",
      "metadata": {
        "colab": {
          "base_uri": "https://localhost:8080/"
        },
        "id": "TSPenTIGf1OE",
        "outputId": "4879931f-ad5a-4b84-e7a1-9bb5ff4291a9"
      },
      "source": [
        "for i in 1, 2, 3, 'one', 'two', 'three':\n",
        "  print(i)                                    # При первых трех итерациях цикла переменная i будет принимать значение типа int, при последующих трех — типа str"
      ],
      "execution_count": null,
      "outputs": [
        {
          "output_type": "stream",
          "text": [
            "1\n",
            "2\n",
            "3\n",
            "one\n",
            "two\n",
            "three\n"
          ],
          "name": "stdout"
        }
      ]
    },
    {
      "cell_type": "markdown",
      "metadata": {
        "id": "5L---2a9gdEH"
      },
      "source": [
        "### **2. Функция range**\n",
        "* Как правило, циклы for используются либо для повторения какой-либо последовательности действий заданное число раз, либо для изменения значения переменной в цикле от некоторого начального значения до некоторого конечного.\n",
        "\n",
        "Для повторения цикла некоторое заданное число раз n можно использовать цикл for вместе с функцией range:"
      ]
    },
    {
      "cell_type": "code",
      "metadata": {
        "colab": {
          "base_uri": "https://localhost:8080/"
        },
        "id": "2Mp6n_Eggesg",
        "outputId": "ba056927-c28f-4171-acd4-17bf0f90bbe2"
      },
      "source": [
        "print('------------------------------------------------------')\n",
        "for i in range(7):    # равносильно инструкции for i in 0, 1, 2, 3:\n",
        "  # здесь можно выполнять циклические действия\n",
        "  print('Loop index=', i, ', i**2=', i ** 2, sep = ''  )\n",
        "# цикл закончился, поскольку закончился блок с отступом\n",
        "print('------------------------------------------------------')\n",
        "print('End loop...')"
      ],
      "execution_count": null,
      "outputs": [
        {
          "output_type": "stream",
          "text": [
            "------------------------------------------------------\n",
            "Loop index=0, i**2=0\n",
            "Loop index=1, i**2=1\n",
            "Loop index=2, i**2=4\n",
            "Loop index=3, i**2=9\n",
            "Loop index=4, i**2=16\n",
            "Loop index=5, i**2=25\n",
            "Loop index=6, i**2=36\n",
            "------------------------------------------------------\n",
            "End loop...\n"
          ],
          "name": "stdout"
        }
      ]
    },
    {
      "cell_type": "code",
      "metadata": {
        "colab": {
          "base_uri": "https://localhost:8080/"
        },
        "id": "F-ezv2s_h8KS",
        "outputId": "9142b18e-35c0-4b90-8634-4d7900c77fc1"
      },
      "source": [
        "sum = 0\n",
        "n   = 5\n",
        "for i in range(1, n + 1):           # Вызов range(a, b) означает, что индексная переменная будеть принимать значения от a до b - 1\n",
        "  print(i)\n",
        "  sum += i\n",
        "print('------------------------------------------------------')\n",
        "print(sum)"
      ],
      "execution_count": null,
      "outputs": [
        {
          "output_type": "stream",
          "text": [
            "1\n",
            "2\n",
            "3\n",
            "4\n",
            "5\n",
            "------------------------------------------------------\n",
            "15\n"
          ],
          "name": "stdout"
        }
      ]
    },
    {
      "cell_type": "markdown",
      "metadata": {
        "id": "3z-SKjTMl567"
      },
      "source": [
        "'''\n",
        "'''"
      ]
    },
    {
      "cell_type": "code",
      "metadata": {
        "id": "2oyuxwRYl9DR"
      },
      "source": [
        "'''\n",
        "В этом примере переменная i принимает значения 1, 2, ..., n, и значение переменной sum последовательно увеличивается на указанные значения.\n",
        "\n",
        "Наконец, чтобы организовать цикл, в котором индексная переменная будет уменьшаться, необходимо использовать функцию range с тремя параметрами. \n",
        "   Первый параметр задает начальное значение индексной переменной, \n",
        "   второй параметр — значение, до которого будет изменяться индексная переменная (не включая его!), а \n",
        "   третий параметр — величину изменения индексной переменной. Например, сделать цикл по всем нечетным числам от 1 до 99 можно при помощи функции range(1, 100, 2), а сделать цикл по всем числам от 100 до 1 можно при помощи range(100, 0, -1).\n",
        "\n",
        "Более формально, цикл for i in range(a, b, d) при d > 0 задает значения индексной переменной i = a, i = a + d, i = a + 2 * d и так для всех значений, для которых i < b. Если же d < 0, то переменная цикла принимает все значения i > b\n",
        "'''\n",
        "\n",
        "for i in range(1, 100, 2):\n",
        "  print(i)\n",
        "print('End loop --------------------')\n",
        "\n",
        "for i in range(100, 1, -1):\n",
        "  print(i)\n",
        "print('End loop --------------------')\n",
        "\n"
      ],
      "execution_count": null,
      "outputs": []
    },
    {
      "cell_type": "markdown",
      "metadata": {
        "id": "sF8t_c6ymiaz"
      },
      "source": [
        "### **3. Настройка функции print()**\n",
        "* По умолчанию функция print() принимает несколько аргументов, выводит их через пробел, после чего ставит перевод строки. \n",
        "* Это поведение можно изменить, используя именованные параметры sep (разделитель) и end (окончание)."
      ]
    },
    {
      "cell_type": "code",
      "metadata": {
        "colab": {
          "base_uri": "https://localhost:8080/"
        },
        "id": "MbUhsnqPmvFo",
        "outputId": "3c136c59-d647-40a5-a924-707abac5ac81"
      },
      "source": [
        "print(1, 2, 3)\n",
        "print(4, 5, 6)\n",
        "print(1, 2, 3, sep=', ', end='. ')\n",
        "print(4, 5, 6, sep=', ', end='. ')\n",
        "print()\n",
        "print(1, 2, 3, sep='', end=' -- ')\n",
        "print(4, 5, 6, sep=' * ', end='.')\n",
        "print()\n",
        "# ----------------------------------------\n",
        "print('Enter number: ', sep = '', end = '')\n",
        "x = int(input())"
      ],
      "execution_count": null,
      "outputs": [
        {
          "output_type": "stream",
          "text": [
            "1 2 3\n",
            "4 5 6\n",
            "1, 2, 3. 4, 5, 6. \n",
            "123 -- 4 * 5 * 6.\n",
            "Enter number: 44\n"
          ],
          "name": "stdout"
        }
      ]
    },
    {
      "cell_type": "markdown",
      "metadata": {
        "id": "hhccePF5q12y"
      },
      "source": [
        "## Задачи"
      ]
    },
    {
      "cell_type": "code",
      "metadata": {
        "colab": {
          "base_uri": "https://localhost:8080/"
        },
        "id": "jttYP6ctrCpM",
        "outputId": "0bffaffc-f301-4df1-d58d-a211bf12be80"
      },
      "source": [
        "# Условие: Даны два целых числа A и B (при этом A ≤ B). Выведите все числа от A до B включительно.\n",
        "a = int(input())\n",
        "b = int(input())\n",
        "print('------------------------------------')\n",
        "for i in range(a,b+1):\n",
        "  print(i)\n",
        "print('------------------------------------')"
      ],
      "execution_count": null,
      "outputs": [
        {
          "output_type": "stream",
          "text": [
            "20\n",
            "20\n",
            "------------------------------------\n",
            "20\n",
            "------------------------------------\n"
          ],
          "name": "stdout"
        }
      ]
    },
    {
      "cell_type": "markdown",
      "metadata": {
        "id": "_u0WiWUZr98E"
      },
      "source": [
        "### [Задача «Ряд - 2»](https://pythontutor.ru/lessons/for_loop/problems/series_2/)\n",
        "\n",
        "**Условие**\n",
        "* Даны два целых числа A и В. \n",
        "* Выведите все числа от A до B включительно, \n",
        "* в порядке возрастания, если A < B, \n",
        "* или в порядке убывания в противном случае."
      ]
    },
    {
      "cell_type": "code",
      "metadata": {
        "id": "-5jl6TWSsKAq",
        "colab": {
          "base_uri": "https://localhost:8080/"
        },
        "outputId": "2792ed3f-2450-40f1-e75b-1065de93604e"
      },
      "source": [
        "print('------------------------------------')\n",
        "print('Enter a: ', sep = '', end = '')\n",
        "a = int(input())\n",
        "print('Enter b: ', sep = '', end = '')\n",
        "b = int(input())\n",
        "print('------------------------------------')\n",
        "if a < b:\n",
        "  d = 1\n",
        "  b += 1\n",
        "  print('a < b - range(a = ',a,', b = ',b,', d = ', d,')', sep = '')\n",
        "else:\n",
        "  d = -1\n",
        "  b -= 1\n",
        "  print('a > b - range(a = ',a,', b = ',b,', d = ', d,')', sep = '')\n",
        "print('------------------------------------')\n",
        "for i in range(a, b, d):\n",
        "  print(i)\n",
        "print('------------------------------------')\n"
      ],
      "execution_count": null,
      "outputs": [
        {
          "output_type": "stream",
          "text": [
            "------------------------------------\n",
            "Enter a: -3\n",
            "Enter b: -7\n",
            "------------------------------------\n",
            "a > b - range(a = -3, b = -8, d = -1)\n",
            "------------------------------------\n",
            "-3\n",
            "-4\n",
            "-5\n",
            "-6\n",
            "-7\n",
            "------------------------------------\n"
          ],
          "name": "stdout"
        }
      ]
    },
    {
      "cell_type": "markdown",
      "metadata": {
        "id": "HtCZoh5B2Vtt"
      },
      "source": [
        "### [Задача «Ряд - 3»](https://pythontutor.ru/lessons/for_loop/problems/series_3/)**\n",
        "\n",
        "**Условие**\n",
        "* Даны два целых числа A и В, A>B. \n",
        "* Выведите все нечётные числа от A до B включительно, в порядке убывания. \n",
        "* !!! - В этой задаче можно обойтись без инструкции if.\n"
      ]
    },
    {
      "cell_type": "code",
      "metadata": {
        "colab": {
          "base_uri": "https://localhost:8080/"
        },
        "id": "FotJY2Nu2n_4",
        "outputId": "83048e07-60a2-4824-f084-5583db42fed3"
      },
      "source": [
        "a = -18   # int(input())\n",
        "b = -29   # int(input())\n",
        "near_less_odd = a - 1 + (a % 2)   # ближайшее меньшее нечетное\n",
        "d = -2\n",
        "print('------------------------------------')\n",
        "print('A = ', a ,', near_less_odd = ',near_less_odd, sep = '')\n",
        "print('B = ',b, sep = '')\n",
        "print('A > B: range(a = ',near_less_odd,', b = ',b-1,', d = ', d,')', sep = '')\n",
        "print('------------------------------------')\n",
        "\n",
        "for i in range(near_less_odd, b-1, d):\n",
        "  # print(i, i // 2, i % 2)\n",
        "  print(i)"
      ],
      "execution_count": null,
      "outputs": [
        {
          "output_type": "stream",
          "text": [
            "------------------------------------\n",
            "A = -18, near_less_odd = -19\n",
            "B = -29\n",
            "A > B: range(a = -19, b = -30, d = -2)\n",
            "------------------------------------\n",
            "-19\n",
            "-21\n",
            "-23\n",
            "-25\n",
            "-27\n",
            "-29\n"
          ],
          "name": "stdout"
        }
      ]
    },
    {
      "cell_type": "markdown",
      "metadata": {
        "id": "SjYnkz-N7iBQ"
      },
      "source": [
        "### [**Задача «Сумма десяти чисел»**](https://pythontutor.ru/lessons/for_loop/problems/sum_of_ten_numbers/)\n",
        "\n",
        "**Условие**\n",
        "* Дано 10 целых чисел. Вычислите их сумму. \n",
        "* Напишите программу, использующую наименьшее число переменных."
      ]
    },
    {
      "cell_type": "code",
      "metadata": {
        "colab": {
          "base_uri": "https://localhost:8080/"
        },
        "id": "jruRiJyrkeFX",
        "outputId": "92baceaa-4d41-41d6-aab7-377f6aa10f78"
      },
      "source": [
        "vsum = 0  # init val of sum var\n",
        "lcnt = 0  # init val of loop cnt \n",
        "#for vint in (0, 1, 2, 3, 4, 5, 6, 7, 8, 9):\n",
        "#for vint in (1, 1, 1, 1, 1, 1, 1, 1, 1, 1):\n",
        "for vint in (0, 1, 2, 3, 4, 5, 6, 7, 8, 9, 10):\n",
        "  vsum += vint\n",
        "  lcnt += 1\n",
        "print('Summ of ',lcnt,'\\'s vars = ',vsum, sep = '')"
      ],
      "execution_count": null,
      "outputs": [
        {
          "output_type": "stream",
          "text": [
            "Summ of 11's vars = 55\n"
          ],
          "name": "stdout"
        }
      ]
    },
    {
      "cell_type": "markdown",
      "metadata": {
        "id": "tPmsQFgboby0"
      },
      "source": [
        "### [**Задача «Сумма N чисел»**](https://pythontutor.ru/lessons/for_loop/problems/sum_of_n_numbers/)\n",
        "**Условие**\n",
        "* Дано несколько чисел.  Вычислите их сумму. \n",
        "* Сначала вводите количество чисел N, \n",
        "* затем вводится ровно N целых чисел. \n",
        "\n",
        "* Какое наименьшее число переменных нужно для решения этой задачи?\n"
      ]
    },
    {
      "cell_type": "code",
      "metadata": {
        "colab": {
          "base_uri": "https://localhost:8080/"
        },
        "id": "id1AlcACo1iR",
        "outputId": "ff2ad512-158c-47ea-dcd3-6c79eab230fb"
      },
      "source": [
        "num_vars  = 0   # number of vars\n",
        "tot_sum   = 0   # total sum of vars\n",
        "cur_var   = 0   # current var\n",
        "print('----------------------------------------')\n",
        "print('Input Number of Vars: ', sep = '', end = '')\n",
        "num_vars = int(input())\n",
        "print()\n",
        "print('----------------------------------------')\n",
        "for i in range(1, num_vars+1, 1):\n",
        "  print('Input value of var[',i,']: ',sep = '', end = '')\n",
        "  cur_var = int(input())\n",
        "  tot_sum += cur_var\n",
        "print('----------------------------------------')\n",
        "print('Summ of ',num_vars,'\\'s vars euals = ',tot_sum, sep = '')"
      ],
      "execution_count": null,
      "outputs": [
        {
          "output_type": "stream",
          "text": [
            "----------------------------------------\n",
            "Input Number of Vars: 10\n",
            "\n",
            "----------------------------------------\n",
            "Input value of var[1]: -1\n",
            "Input value of var[2]: -2\n",
            "Input value of var[3]: -3\n",
            "Input value of var[4]: -4\n",
            "Input value of var[5]: -5\n",
            "Input value of var[6]: -6\n",
            "Input value of var[7]: -7\n",
            "Input value of var[8]: -9\n",
            "Input value of var[9]: -8\n",
            "Input value of var[10]: 0\n",
            "----------------------------------------\n",
            "Summ of 10's vars euals = -45\n"
          ],
          "name": "stdout"
        }
      ]
    },
    {
      "cell_type": "markdown",
      "metadata": {
        "id": "gq17Jx3CuPxD"
      },
      "source": [
        "### [**Задача «Сумма кубов»**](https://pythontutor.ru/lessons/for_loop/problems/sum_of_cubes/)\n",
        "\n",
        "**Условие**\n",
        "* По данному натуральному n вычислите сумму: $1^3 + 2^3 + ... + n^3$\n"
      ]
    },
    {
      "cell_type": "code",
      "metadata": {
        "colab": {
          "base_uri": "https://localhost:8080/"
        },
        "id": "DRdG-dNjuZk7",
        "outputId": "c0e4a1bb-0896-4b44-af5d-8afb03359e63"
      },
      "source": [
        "print('Input a lenghthr of list range: ', sep = '', end = '')\n",
        "lv = int(input())\n",
        "# print()\n",
        "sq = 0 # init val of summ of cubes\n",
        "print('----------------------------------------')\n",
        "for i in range(1, lv +1, 1):\n",
        "  sq += i*i*i\n",
        "  print(i, '^3 = ', i*i*i, '; Summ of ',i,' cubes = ', sq, sep = '') \n",
        "print('----------------------------------------')\n",
        "print('Summ of all cubes = ', sq, sep = '') \n",
        "\n",
        "\n",
        "\n",
        "\n"
      ],
      "execution_count": null,
      "outputs": [
        {
          "output_type": "stream",
          "text": [
            "Input a lenghthr of list range: 3\n",
            "----------------------------------------\n",
            "1^3 = 1; Summ of 1 cubes = 1\n",
            "2^3 = 8; Summ of 2 cubes = 9\n",
            "3^3 = 27; Summ of 3 cubes = 36\n",
            "----------------------------------------\n",
            "Summ of all cubes = 36\n"
          ],
          "name": "stdout"
        }
      ]
    },
    {
      "cell_type": "markdown",
      "metadata": {
        "id": "LEIbDTM5xui1"
      },
      "source": [
        "### [Задача «Факториал»](https://pythontutor.ru/lessons/for_loop/problems/factorial)\n",
        "\n",
        "**Условие**\n",
        "* Факториалом числа n называется произведение 1 × 2 × ... × n. Обозначение: n!.\n",
        "* По данному натуральному n вычислите значение n!. \n",
        "* ***Пользоваться математической библиотекой math в этой задаче запрещено.***"
      ]
    },
    {
      "cell_type": "code",
      "metadata": {
        "colab": {
          "base_uri": "https://localhost:8080/"
        },
        "id": "MxxpLedVx_iy",
        "outputId": "5b771144-dbe7-47f9-fa82-483f3eb4114e"
      },
      "source": [
        "f_range  = 0 # Factorial!\n",
        "f_val    = 1 # init val of factorial\n",
        "print('To calc Factorial(N!) Input N: ', sep = '', end = '')\n",
        "f_range = int(input())\n",
        "print('----------------------------------------')\n",
        "for i in range(1, f_range + 1, 1):\n",
        "  f_val *= i\n",
        "print('Factorial (',f_range,'!) = ', f_val, sep = '')\n"
      ],
      "execution_count": null,
      "outputs": [
        {
          "output_type": "stream",
          "text": [
            "To calc Factorial(N!) Input N: 4\n",
            "----------------------------------------\n",
            "Factorial (4!) = 24\n"
          ],
          "name": "stdout"
        }
      ]
    },
    {
      "cell_type": "markdown",
      "metadata": {
        "id": "oAQcXc9Dz9jT"
      },
      "source": [
        "### [**Задача «Сумма факториалов»**](https://pythontutor.ru/lessons/for_loop/problems/sum_of_factorials/)\n",
        "\n",
        "**Условие**\n",
        "* По данному натуральном n вычислите сумму 1!+2!+3!+...+n!. \n",
        "* В решении этой задачи можно использовать только один цикл. \n",
        "* **Пользоваться математической библиотекой math в этой задаче запрещено.**\n"
      ]
    },
    {
      "cell_type": "code",
      "metadata": {
        "colab": {
          "base_uri": "https://localhost:8080/"
        },
        "id": "11G7qAd10gN4",
        "outputId": "ba20bd48-9ee0-4e75-8fe8-e1567678b71d"
      },
      "source": [
        "n          = 0    # range of function\n",
        "cur_fct    = 1    # current factorial\n",
        "sum_fct    = 0    # summ of factorialc\n",
        "\n",
        "print('*******  Calculation summ of factorials: 1!+2!+3!+...+n!  *******', sep = '')\n",
        "print('Input n: ', sep = '', end = '')\n",
        "n = int(input())\n",
        "print('----------------------------------------')\n",
        "\n",
        "for i in range(1, n + 1, 1):\n",
        "  cur_fct  *= i\n",
        "  sum_fct  += cur_fct\n",
        "  print('Factorial of ',i,'! = ', cur_fct, '; Summ of ',i,' factorials = ', sum_fct, sep = '')\n",
        "\n",
        "print('Summ of ',i,' factorials = ', sum_fct, sep = '')"
      ],
      "execution_count": null,
      "outputs": [
        {
          "output_type": "stream",
          "text": [
            "*******  Calculation summ of factorials: 1!+2!+3!+...+n!  *******\n",
            "Input n: 4\n",
            "----------------------------------------\n",
            "Factorial of 1! = 1; Summ of 1 factorials = 1\n",
            "Factorial of 2! = 2; Summ of 2 factorials = 3\n",
            "Factorial of 3! = 6; Summ of 3 factorials = 9\n",
            "Factorial of 4! = 24; Summ of 4 factorials = 33\n",
            "Summ of 4 factorials = 33\n"
          ],
          "name": "stdout"
        }
      ]
    },
    {
      "cell_type": "markdown",
      "metadata": {
        "id": "C7WATSabClz0"
      },
      "source": [
        "### [Задача «Количество нулей»](https://pythontutor.ru/lessons/for_loop/problems/how_many_zeroes/)\n",
        "\n",
        "**Условие**\n",
        "* Дано N чисел: \n",
        "* сначала вводится число N, \n",
        "* затем вводится ровно N целых чисел. \n",
        "\n",
        "Подсчитайте количество нулей среди введенных чисел и выведите это количество. Вам нужно подсчитать количество чисел, равных нулю, а не количество цифр.\n"
      ]
    },
    {
      "cell_type": "code",
      "metadata": {
        "colab": {
          "base_uri": "https://localhost:8080/"
        },
        "id": "Q-nZfjq9DUW1",
        "outputId": "319e2df9-8d54-4adb-84a9-f582a600e44d"
      },
      "source": [
        "print('Enter number of N\\'s: ', sep = '', end = '')\n",
        "\n",
        "n = int(input())\n",
        "sumz = 0\n",
        "print('----------------------------------------')\n",
        "\n",
        "for i in range(1, n + 1, 1):\n",
        "  print('Input [',i,'] number: ',sep = '', end = '')\n",
        "  x = int(input())\n",
        "  if x == 0:\n",
        "    sumz += 1\n",
        "print('----------------------------------------')\n",
        "print('Number of Zero\\'s are: ', sumz, sep = '')"
      ],
      "execution_count": null,
      "outputs": [
        {
          "output_type": "stream",
          "text": [
            "Enter number of N's: 10\n",
            "----------------------------------------\n",
            "Input [1] number: 0\n",
            "Input [2] number: 4\n",
            "Input [3] number: 1\n",
            "Input [4] number: -7\n",
            "Input [5] number: 0\n",
            "Input [6] number: 4\n",
            "Input [7] number: 5\n",
            "Input [8] number: 1\n",
            "Input [9] number: 0\n",
            "Input [10] number: 0\n",
            "----------------------------------------\n",
            "Number of Zero's are: 4\n"
          ],
          "name": "stdout"
        }
      ]
    },
    {
      "cell_type": "markdown",
      "metadata": {
        "id": "HmK31fCBVNt4"
      },
      "source": [
        "### [Задача «Лесенка»](https://pythontutor.ru/lessons/for_loop/problems/ladder/)\n",
        "\n",
        "**Условие**\n",
        "* По данному натуральному n ≤ 9 выведите лесенку из n ступенек, \n",
        "* i-я ступенька состоит из чисел от 1 до i без пробелов."
      ]
    },
    {
      "cell_type": "code",
      "metadata": {
        "colab": {
          "base_uri": "https://localhost:8080/"
        },
        "id": "3q9SjULVVX9w",
        "outputId": "c015d132-e64a-4471-c9ad-cf0f5b57b08e"
      },
      "source": [
        "print('Enter number of steps :',sep = '', end = '')\n",
        "n = int(input())\n",
        "print('----------------------------------------')\n",
        "\n",
        "for i in range(1, n + 1, 1):\n",
        "  for j in range(1, i + 1, 1):\n",
        "    print(j, sep = '', end = '')\n",
        "  print()"
      ],
      "execution_count": null,
      "outputs": [
        {
          "output_type": "stream",
          "text": [
            "Enter number of steps :7\n",
            "----------------------------------------\n",
            "1\n",
            "12\n",
            "123\n",
            "1234\n",
            "12345\n",
            "123456\n",
            "1234567\n"
          ],
          "name": "stdout"
        }
      ]
    },
    {
      "cell_type": "markdown",
      "metadata": {
        "id": "F0_NPjMWYOo3"
      },
      "source": [
        "### [Задача «Потерянная карточка»](https://pythontutor.ru/lessons/for_loop/problems/lost_card/)\n",
        "\n",
        "**Условие**\n",
        "* Для настольной игры используются карточки с номерами от 1 до N. \n",
        "* Одна карточка потерялась. \n",
        "* Найдите ее, зная номера оставшихся карточек.\n",
        "* Дано число N, далее N − 1 номер оставшихся карточек (различные числа от 1 до N). \n",
        "* Программа должна вывести номер потерянной карточки.\n",
        "\n",
        "Для самых умных: массивами и аналогичными структурами данных пользоваться нельзя."
      ]
    },
    {
      "cell_type": "code",
      "metadata": {
        "colab": {
          "base_uri": "https://localhost:8080/"
        },
        "id": "0_csBwIWYOMf",
        "outputId": "b83301a9-7d74-4377-c1c9-b03556822358"
      },
      "source": [
        "print('Input Number of cards (1..N): ', sep = '', end = '')\n",
        "n            = int(input())\n",
        "missing_card = 0            \n",
        "print('----------------------------------------')\n",
        "\n",
        "for i in range(1, n+1, 1):\n",
        "  missing_card     += i     # summ o all cards in range\n",
        "\n",
        "print('Sum of [',n,'] cards equals =',missing_card, sep = '')\n",
        "\n",
        "for i in range(1, n, 1):\n",
        "  print('Input number of Card that present in the range (1..',n,'): ', sep = '', end = '')\n",
        "  missing_card -= int(input())\n",
        "  \n",
        "print('----------------------------------------')\n",
        "print('Mmissing card is -',missing_card)"
      ],
      "execution_count": null,
      "outputs": [
        {
          "output_type": "stream",
          "text": [
            "Input Number of cards (1..N): 3\n",
            "----------------------------------------\n",
            "Sum of [3] cards equals =6\n",
            "Input number of Card that present in the range (1..3): 3\n",
            "Input number of Card that present in the range (1..3): 1\n",
            "----------------------------------------\n",
            "Mmissing card is - 2\n"
          ],
          "name": "stdout"
        }
      ]
    },
    {
      "cell_type": "markdown",
      "metadata": {
        "id": "BPD2lAsGWRqR"
      },
      "source": [
        "# [**Занятие 5. Строки**](https://pythontutor.ru/lessons/str/)\n",
        "\n"
      ]
    },
    {
      "cell_type": "markdown",
      "metadata": {
        "id": "NS3ak5cjWjTL"
      },
      "source": [
        "## **1. Строки**\n",
        "\n",
        "Строка считывается со стандартного ввода функцией **input()**. Напомним, что для двух строк определена операция сложения (конкатенации), также определена операция умножения строки на число.\n",
        "\n",
        "Строка состоит из последовательности символов. Узнать количество символов (длину строки) можно при помощи функции **len**.\n",
        "\n",
        "Любой другой объект в Питоне можно перевести к строке, которая ему соответствует. Для этого нужно вызвать функцию **str()**, передав ей в качестве параметра объект, переводимый в строку.\n",
        "\n",
        "* На самом деле каждая строка, с точки зрения Питона, — это объект класса str. * Чтобы получить по объекту другой объект другого класса, как-то ему соответствующий, можно использовать функцию приведения. \n",
        "* Имя этой функции совпадает с именем класса, к которому мы приводим объект. (Для знатоков: эта функция — это конструктор объектов данного класса.) \n",
        "* **Пример**: int — класс для целых чисел. Перевод строки в число осуществляется функцией int()."
      ]
    },
    {
      "cell_type": "code",
      "metadata": {
        "colab": {
          "base_uri": "https://localhost:8080/"
        },
        "id": "jLLeW2ndWeX9",
        "outputId": "5d1f5767-671a-40da-c4fe-a7cfa1e0400e"
      },
      "source": [
        "s = input()\n",
        "print('Length of string \\\"',s,'\\\" is ',len(s), sep = '')\n",
        "\n",
        "t = input()\n",
        "number = int(t)\n",
        "\n",
        "u = str(number)\n",
        "\n",
        "print(s * 3)\n",
        "print(s + ' ' + u)"
      ],
      "execution_count": null,
      "outputs": [
        {
          "output_type": "stream",
          "text": [
            "qaz\n",
            "Length of string \"qaz\" is 3\n",
            "57\n",
            "qazqazqaz\n",
            "qaz 57\n"
          ],
          "name": "stdout"
        }
      ]
    },
    {
      "cell_type": "markdown",
      "metadata": {
        "id": "taFJlHv4ZALw"
      },
      "source": [
        "## **2. Срезы (slices)**\n",
        "Срез (slice) — извлечение из данной строки одного символа или некоторого фрагмента подстроки или подпоследовательности.\n",
        "\n",
        "Есть три формы срезов. \n",
        "* Самая простая форма среза: взятие одного символа строки, а именно, S[i] — это срез, состоящий из одного символа, который имеет номер i. При этом считается, что нумерация начинается с числа 0. То есть если S = 'Hello', то S[0] == 'H', S[1] == 'e', S[2] == 'l', S[3] == 'l', S[4] == 'o'.\n",
        "\n",
        "Заметим, что в Питоне нет отдельного типа для символов строки. Каждый объект, который получается в результате среза S[i] — это тоже строка типа str.\n",
        "Номера символов в строке (а также в других структурах данных: списках, кортежах) называются индексом.\n",
        "\n",
        "* Если указать отрицательное значение индекса, то номер будет отсчитываться с конца, начиная с номера -1. То есть S[-1] == 'o', S[-2] == 'l', S[-3] == 'l', S[-4] == 'e', S[-5] == 'H'.\n",
        "\n",
        "**Или в виде таблицы:**\n",
        "\n",
        "Строка S\t|H\t |e\t|l\t|l\t|o\n",
        "----------|----|--|--|--|--\n",
        "Индекс\t  |S[0]\t|S[1]\t|S[2]\t|S[3]\t|S[4] \n",
        "Индекс\t  |S[-5]\t|S[-4]\t|S[-3]\t|S[-2]\t|S[-1]\n",
        "\n",
        "Если же номер символа в срезе строки S больше либо равен len(S), или меньше, чем -len(S), то при обращении к этому символу строки произойдет ошибка IndexError: string index out of range.\n",
        "\n",
        "* **Срез с двумя параметрами:** S[a:b] возвращает подстроку из b - a символов, начиная с символа c индексом a, то есть до символа с индексом b, не включая его. Например, S[1:4] == 'ell', то же самое получится если написать S[-4:-1]. Можно использовать как положительные, так и отрицательные индексы в одном срезе, например, S[1:-1] — это строка без первого и последнего символа (срез начинается с символа с индексом 1 и заканчиватеся индексом -1, не включая его).\n",
        "\n",
        "При использовании такой формы среза ошибки IndexError никогда не возникает. Например, срез S[1:5] вернет строку 'ello', таким же будет результат, если сделать второй индекс очень большим, например, S[1:100] (если в строке не более 100 символов).\n",
        "\n",
        "Если опустить второй параметр (но поставить двоеточие), то срез берется до конца строки. Например, чтобы удалить из строки первый символ (его индекс равен 0), можно взять срез S[1:]. Аналогично если опустить первый параметр, то можно взять срез от начала строки. То есть удалить из строки последний символ можно при помощи среза S[:-1]. Срез S[:] совпадает с самой строкой S.\n",
        "\n",
        "Любые операции среза со строкой создают новые строки и никогда не меняют исходную строку. В Питоне строки вообще являются неизменяемыми, их невозможно изменить. Можно лишь в старую переменную присвоить новую строку.\n",
        "\n",
        "На самом деле в питоне нет и переменных. Есть лишь имена, которые связаны с какими-нибудь объектами. Можно сначала связать имя с одним объектом, а потом — с другим. Можно несколько имён связать с одним и тем же объектом.\n",
        "\n",
        "Если задать срез с тремя параметрами S[a:b:d], то третий параметр задает шаг, как в случае с функцией range, то есть будут взяты символы с индексами a, a + d, a + 2 * d и т. д. При задании значения третьего параметра, равному 2, в срез попадет кажый второй символ, а если взять значение среза, равное -1, то символы будут идти в обратном порядке. Например, можно перевернуть строку срезом S[::-1].\n"
      ]
    },
    {
      "cell_type": "code",
      "metadata": {
        "id": "FrAMy6fNcDUL",
        "colab": {
          "base_uri": "https://localhost:8080/"
        },
        "outputId": "8c1fc303-9892-4237-978d-60a224a0ea17"
      },
      "source": [
        "s = 'AbcdefG'\n",
        "\n",
        "print(s[1])\n",
        "print(s[-1])\n",
        "print(s[1:3])\n",
        "print(s[1:-1])\n",
        "print(s[:3])\n",
        "print(s[2:])\n",
        "print(s[:-1])\n",
        "\n",
        "print(s[::2])\n",
        "print(s[::-1])\n",
        "\n",
        "print(s[1::2])"
      ],
      "execution_count": null,
      "outputs": [
        {
          "output_type": "stream",
          "text": [
            "b\n",
            "G\n",
            "bc\n",
            "bcdef\n",
            "Abc\n",
            "cdefG\n",
            "Abcdef\n",
            "AceG\n",
            "GfedcbA\n",
            "bdf\n"
          ],
          "name": "stdout"
        }
      ]
    },
    {
      "cell_type": "code",
      "metadata": {
        "id": "cXBB-0bHf1vN",
        "colab": {
          "base_uri": "https://localhost:8080/"
        },
        "outputId": "2b008040-3c81-4d6f-907e-504aee335ca8"
      },
      "source": [
        "# Обратите внимание на то, как похож третий параметр среза на третий параметр функции range():\n",
        "\n",
        "s = 'AbCdEfGhIjKlM'\n",
        "\n",
        "print(s[0:10:2])\n",
        "\n",
        "for i in range(0, 10 , 2):\n",
        "  print(i, s[i])"
      ],
      "execution_count": null,
      "outputs": [
        {
          "output_type": "stream",
          "text": [
            "ACEGI\n",
            "0 A\n",
            "2 C\n",
            "4 E\n",
            "6 G\n",
            "8 I\n"
          ],
          "name": "stdout"
        }
      ]
    },
    {
      "cell_type": "markdown",
      "metadata": {
        "id": "yIc5LGOagfDv"
      },
      "source": [
        "## **3. Методы**\n",
        "* Метод — это функция, применяемая к объекту, в данном случае — к строке. \n",
        "* Метод вызывается в виде Имя_объекта.Имя_метода(параметры). \n",
        "* Например, S.find(\"e\") — это применение к строке S метода find с одним параметром \"e\".\n",
        "\n"
      ]
    },
    {
      "cell_type": "markdown",
      "metadata": {
        "id": "_78qbXjNg6dG"
      },
      "source": [
        "### **3.1. Методы find и rfind**\n",
        "\n",
        "* Метод find находит в данной строке (к которой применяется метод) данную подстроку (которая передается в качестве параметра). \n",
        "* Функция возвращает индекс первого вхождения искомой подстроки. \n",
        "* Если же подстрока не найдена, то метод возвращает значение -1."
      ]
    },
    {
      "cell_type": "code",
      "metadata": {
        "id": "Wa71kmF7hEW2",
        "colab": {
          "base_uri": "https://localhost:8080/"
        },
        "outputId": "e04991d8-6121-455e-95fc-fbfe07a43e49"
      },
      "source": [
        "s = 'Hello'\n",
        "\n",
        "print(s.find('e'))    # return 1\n",
        "\n",
        "print(s.find('l'))   # return 2\n",
        "print(s.find('L'))    # return -1\n",
        "\n",
        "# метод rfind возвращает индекс последнего вхождения данной строки (“поиск справа”).\n",
        "print(s.rfind('l'))   # return 3\n",
        "\n",
        "'''\n",
        "Если вызвать метод find с тремя параметрами S.find(T, a, b), то поиск будет осуществляться в срезе S[a:b]. \n",
        "Если указать только два параметра S.find(T, a), то поиск будет осуществляться в срезе S[a:], то есть начиная с символа с индексом a и до конца строки. \n",
        "Метод S.find(T, a, b) возращает индекс в строке S, а не индекс относительно среза.\n",
        "'''\n",
        "\n"
      ],
      "execution_count": null,
      "outputs": [
        {
          "output_type": "stream",
          "text": [
            "1\n",
            "2\n",
            "-1\n",
            "3\n"
          ],
          "name": "stdout"
        }
      ]
    },
    {
      "cell_type": "markdown",
      "metadata": {
        "id": "wBYil3Ma-ous"
      },
      "source": [
        "### 3.2. Метод replace\n",
        "\n",
        "* Метод replace заменяет все вхождения одной строки на другую. \n",
        "* Формат: S.replace(old, new) — заменить в строке S все вхождения подстроки old на подстроку new. "
      ]
    },
    {
      "cell_type": "code",
      "metadata": {
        "colab": {
          "base_uri": "https://localhost:8080/"
        },
        "id": "LlWGzPBX-13i",
        "outputId": "4e4ae325-9b1b-4e31-ef05-32e2f367c5dd"
      },
      "source": [
        "s = 'Hello'\n",
        "\n",
        "print(s.replace('l','L'))\n",
        "\n",
        "# Если методу replace задать еще один параметр: S.replace(old, new, count), \n",
        "# то заменены будут не все вхождения, а только не больше, чем первые count из них.\n",
        "\n",
        "print(s.replace('l','L',1))\n",
        "\n",
        "print('Abrakadabra'.replace('a', 'A', 1))\n",
        "# вернёт 'AbrAkAdabra'"
      ],
      "execution_count": null,
      "outputs": [
        {
          "output_type": "stream",
          "text": [
            "HeLLo\n",
            "HeLlo\n",
            "AbrAkadabra\n"
          ],
          "name": "stdout"
        }
      ]
    },
    {
      "cell_type": "markdown",
      "metadata": {
        "id": "gbi-hBEP_4iA"
      },
      "source": [
        "### 3.3. Метод count\n",
        "```python\n",
        "* Подсчитывает количество вхождений одной строки в другую строку. \n",
        "* Простейшая форма вызова S.count(T)  возвращает число вхождений строки T внутри строки S. \n",
        "* При этом подсчитываются только непересекающиеся вхождения print(('a' * 10).count('aa'))\n",
        "```"
      ]
    },
    {
      "cell_type": "code",
      "metadata": {
        "colab": {
          "base_uri": "https://localhost:8080/"
        },
        "id": "Ib42D3GR__nN",
        "outputId": "0862637f-2d7c-4210-df50-4ae87b561011"
      },
      "source": [
        "print('Abrakadabra'.count('a'))\n",
        "\n",
        "print(('a' * 10))\n",
        "print(('a' * 10).count('aa'))"
      ],
      "execution_count": null,
      "outputs": [
        {
          "output_type": "stream",
          "text": [
            "4\n",
            "aaaaaaaaaa\n",
            "5\n"
          ],
          "name": "stdout"
        }
      ]
    },
    {
      "cell_type": "markdown",
      "metadata": {
        "id": "lIngBvdeA1O6"
      },
      "source": [
        "## **Задачи**"
      ]
    },
    {
      "cell_type": "markdown",
      "metadata": {
        "id": "wtIRzgocA6PI"
      },
      "source": [
        "### [Задача «Делаем срезы»](https://pythontutor.ru/lessons/str/problems/slices/)\n",
        "\n",
        "**Условие**\n",
        "* Дана строка.\n",
        "* Сначала выведите третий символ этой строки.\n",
        "* Во второй строке выведите предпоследний символ этой строки.\n",
        "* В третьей строке выведите первые пять символов этой строки.\n",
        "* В четвертой строке выведите всю строку, кроме последних двух символов.\n",
        "* В пятой строке выведите все символы с четными индексами (считая, что индексация начинается с 0, поэтому символы выводятся начиная с первого).\n",
        "\n",
        "* В шестой строке выведите все символы с нечетными индексами, то есть начиная со второго символа строки.\n",
        "\n",
        "* В седьмой строке выведите все символы в обратном порядке.\n",
        "\n",
        "* В восьмой строке выведите все символы строки через один в обратном порядке, начиная с последнего.\n",
        "\n",
        "* В девятой строке выведите длину данной строки."
      ]
    },
    {
      "cell_type": "code",
      "metadata": {
        "colab": {
          "base_uri": "https://localhost:8080/"
        },
        "id": "mt4H-1DGBPEK",
        "outputId": "f49aa51d-1d3c-44f4-e939-de87ada3e805"
      },
      "source": [
        "s = 'Abrakadabra'\n",
        "\n",
        "print(s[3])       # Сначала выведите третий символ этой строки.\n",
        "print(s[-2])      # Во второй строке выведите предпоследний символ этой строки.\n",
        "print(s[:5])      # В третьей строке выведите первые пять символов этой строки.\n",
        "print(s[:-2])     # В четвертой строке выведите всю строку, кроме последних двух символов.\n",
        "\n",
        "print(s[::2])     # В пятой строке выведите все символы с четными индексами (считая, что индексация начинается с 0, поэтому символы выводятся начиная с первого).\n",
        "print(s[1::2])     # В шестой строке выведите все символы с нечетными индексами, то есть начиная со второго символа строки.\n",
        "print(s[::-1])      # В седьмой строке выведите все символы в обратном порядке.\n",
        "print(s[::-2])      # В восьмой строке выведите все символы строки через один в обратном порядке, начиная с последнего.\n",
        "print(len(s))      # В девятой строке выведите длину данной строки."
      ],
      "execution_count": null,
      "outputs": [
        {
          "output_type": "stream",
          "text": [
            "a\n",
            "r\n",
            "Abrak\n",
            "Abrakadab\n",
            "Arkdba\n",
            "baaar\n",
            "arbadakarbA\n",
            "abdkrA\n",
            "11\n"
          ],
          "name": "stdout"
        }
      ]
    },
    {
      "cell_type": "markdown",
      "metadata": {
        "id": "wBXQdgXHEViZ"
      },
      "source": [
        "### [Задача «Количество слов»](https://pythontutor.ru/lessons/str/problems/num_words/)\n",
        "\n",
        "**Условие**\n",
        "* Дана строка, состоящая из слов, разделенных пробелами. \n",
        "* Определите, сколько в ней слов. Используйте для решения задачи метод count."
      ]
    },
    {
      "cell_type": "code",
      "metadata": {
        "colab": {
          "base_uri": "https://localhost:8080/"
        },
        "id": "KbJKUK7DEkWU",
        "outputId": "354711ff-c369-48c9-b7a0-efeb2a952255"
      },
      "source": [
        "s = 'Hello World'\n",
        "s = 'One two three four five'\n",
        "\n",
        "print('In string \"',s ,'\" are - ',s.count(' ')+1, ' words', sep = '')\n"
      ],
      "execution_count": null,
      "outputs": [
        {
          "output_type": "stream",
          "text": [
            "In string \"One two three four five\" are - 5 words\n"
          ],
          "name": "stdout"
        }
      ]
    },
    {
      "cell_type": "markdown",
      "metadata": {
        "id": "nueBsv32Eccd"
      },
      "source": [
        "### [Задача «Две половинки»](https://pythontutor.ru/lessons/str/problems/two_halves/)\n",
        "\n",
        "**Условие**\n",
        "* Дана строка. \n",
        "* Разрежьте ее на две равные части (если длина строки — четная, а если длина строки нечетная, то длина первой части должна быть на один символ больше). \n",
        "* Переставьте эти две части местами, результат запишите в новую строку и выведите на экран.\n",
        "\n",
        "**При решении этой задачи не стоит пользоваться инструкцией if.**"
      ]
    },
    {
      "cell_type": "code",
      "metadata": {
        "id": "MQzzRBxTEnQk",
        "colab": {
          "base_uri": "https://localhost:8080/"
        },
        "outputId": "6ff78907-0304-47c7-976a-bc40d62ae65a"
      },
      "source": [
        "s     = '123456789'\n",
        "s     = 'Hi'\n",
        "s     = 'asdfghj'\n",
        "posm  = int(len(s) // 2 + len(s) % 2)   # если длина строки четная = половине строки\n",
        "                                        # если длина строки нечетная, то длина первой части должна быть на один символ больше\n",
        "'''\n",
        "print(posm)\n",
        "print(len(s), len(s) // 2, len(s) % 2, s)\n",
        "print(s[:posm] )\n",
        "print(s[posm:])\n",
        "'''\n",
        "\n",
        "print(s[posm:] + s[:posm])\n"
      ],
      "execution_count": null,
      "outputs": [
        {
          "output_type": "stream",
          "text": [
            "ghjasdf\n"
          ],
          "name": "stdout"
        }
      ]
    },
    {
      "cell_type": "markdown",
      "metadata": {
        "id": "OA7Lc4ZXrNeb"
      },
      "source": [
        "### [Задача «Переставить два слова»](https://pythontutor.ru/lessons/str/problems/swap_two_words/)\n",
        "\n",
        "**Условие**\n",
        "* Дана строка, состоящая ровно из двух слов, разделенных пробелом.\n",
        "* Переставьте эти слова местами. \n",
        "* Результат запишите в строку и выведите получившуюся строку.\n",
        "\n",
        "**При решении этой задачи не стоит пользоваться циклами и инструкцией if.**"
      ]
    },
    {
      "cell_type": "code",
      "metadata": {
        "colab": {
          "base_uri": "https://localhost:8080/"
        },
        "id": "oishBW1AreaS",
        "outputId": "09ac89b3-9ee3-4c03-b212-f3962be64e2a"
      },
      "source": [
        "s = 'Q WERRTYUIOP'\n",
        "s = 'sadfahsjkldfhasjkdfhaklsjdfhjkl asdlkfhasdjklfhaslkdfjhalskdfgalsdf'\n",
        "\n",
        "'''\n",
        "print(s.find(' '))\n",
        "\n",
        "print(s[:s.find(' ')])\n",
        "print(s[s.find(' ')+1:])\n",
        "''' \n",
        "\n",
        "print(s[s.find(' ')+1:] +' '+ s[:s.find(' ')])\n"
      ],
      "execution_count": null,
      "outputs": [
        {
          "output_type": "stream",
          "text": [
            "asdlkfhasdjklfhaslkdfjhalskdfgalsdf sadfahsjkldfhasjkdfhaklsjdfhjkl\n"
          ],
          "name": "stdout"
        }
      ]
    },
    {
      "cell_type": "markdown",
      "metadata": {
        "id": "MHQsm79_DZUr"
      },
      "source": [
        "### [Задача «Первое и последнее вхождения» и ДАЛЕЕ](https://pythontutor.ru/lessons/str/problems/first_and_last_occurences/)\n",
        "\n",
        "**Условие**\n",
        "* Дана строка. Если в этой строке буква f встречается только один раз, выведите её индекс. \n",
        "* Если она встречается два и более раз, выведите индекс её первого и последнего появления. \n",
        "* Если буква f в данной строке не встречается, ничего не выводите.\n",
        "\n",
        "**При решении этой задачи не стоит использовать циклы.**"
      ]
    },
    {
      "cell_type": "code",
      "metadata": {
        "colab": {
          "base_uri": "https://localhost:8080/"
        },
        "id": "n9LP1a0mEJa2",
        "outputId": "3e6275e0-087e-4e33-aff7-a276e603b9d3"
      },
      "source": [
        "s = 'afafafafafafafa'\n",
        "\n",
        "# print(s.find('f'))\n",
        "\n",
        "vfirst = s.find('f')  \n",
        "vlast  = s.rfind('f') \n",
        "\n",
        "# print(vfirst, vlast)\n",
        "\n",
        "if vlast > vfirst:\n",
        "  print('First position of ''f'' = ', vfirst, ', Last position of ''f'' = ', vlast)\n",
        "else:\n",
        "  if vlast > 0:\n",
        "     print('Position of ''f'' = ', vfirst) \n"
      ],
      "execution_count": null,
      "outputs": [
        {
          "output_type": "stream",
          "text": [
            "First position of f =  1 , Last position of f =  13\n"
          ],
          "name": "stdout"
        }
      ]
    },
    {
      "cell_type": "code",
      "metadata": {
        "colab": {
          "base_uri": "https://localhost:8080/"
        },
        "id": "qWs2w3wWkNHQ",
        "outputId": "9bf65a37-cd66-4186-b7c3-7f21a85de466"
      },
      "source": [
        "'''*****************************************************************************\n",
        "Задача «Второе вхождение»\n",
        "Условие\n",
        "Дана строка. \n",
        "Найдите в этой строке второе вхождение буквы f, и выведите индекс этого вхождения. \n",
        "  Если буква f в данной строке встречается только один раз, выведите число -1, а \n",
        "  если не встречается ни разу, выведите число -2.\n",
        "*****************************************************************************'''\n",
        "s    = 'ofofofofofofofofo'\n",
        "\n",
        "cntf  = s.count('f')   # count(f)\n",
        "posff = s.find('f')    # position of first f\n",
        "\n",
        "'''\n",
        "print(cntf)\n",
        "print(posff)\n",
        "print(s[posff + 1:])\n",
        "print(s.find('f',posff + 1))\n",
        "'''\n",
        "if cntf > 1:\n",
        "  print(s.find('f',posff + 1))   # Метод S.find(T, a, b) возращает индекс в строке S, а не индекс относительно среза\n",
        "else:\n",
        "  print(cntf - 2)                # Если f встречается 1 раз то вывод = -1 \n",
        "                                 # Если f встречается 0 раз то вывод = -2\n",
        "\n"
      ],
      "execution_count": null,
      "outputs": [
        {
          "output_type": "stream",
          "text": [
            "3\n"
          ],
          "name": "stdout"
        }
      ]
    },
    {
      "cell_type": "code",
      "metadata": {
        "colab": {
          "base_uri": "https://localhost:8080/"
        },
        "id": "sD31S234p5WV",
        "outputId": "c9243d74-d6b5-4d6a-804d-5cb9d8f8347b"
      },
      "source": [
        "'''*****************************************************************************\n",
        "Задача «Удаление фрагмента»\n",
        "Условие\n",
        "* Дана строка, в которой буква h встречается минимум два раза. \n",
        "* Удалите из этой строки первое и последнее вхождение буквы h, а\n",
        "  также все символы, находящиеся между ними.\n",
        "*****************************************************************************'''\n",
        "\n",
        "# s = 'qwertyhasdfghzxcvb'\n",
        "s = 'In the hole in the ground there lived a hobbit'\n",
        "\n",
        "fh = s.find('h')\n",
        "lh = s.rfind('h')\n",
        "\n",
        "print(fh, lh)\n",
        "\n",
        "print(s[:fh] + s[lh + 1:])\n"
      ],
      "execution_count": null,
      "outputs": [
        {
          "output_type": "stream",
          "text": [
            "4 40\n",
            "In tobbit\n"
          ],
          "name": "stdout"
        }
      ]
    },
    {
      "cell_type": "code",
      "metadata": {
        "colab": {
          "base_uri": "https://localhost:8080/"
        },
        "id": "sjmwTQY8tK6k",
        "outputId": "d15f1d7d-db9d-405e-e90a-2b610312d1d2"
      },
      "source": [
        "'''*****************************************************************************\n",
        "Задача «Обращение фрагмента»\n",
        "Условие\n",
        "* Дана строка, в которой буква h встречается как минимум два раза. \n",
        "\n",
        "* Разверните последовательность символов, \n",
        "  заключенную между первым и последним появлением буквы h, \n",
        "  в противоположном порядке.\n",
        "*****************************************************************************'''\n",
        "\n",
        "s = 'In the hole in the ground there lived a hobbit'\n",
        "# s = 'habh'\n",
        "s = 'habcdefgijklmnh'\n",
        "\n",
        "fh = s.find('h')      # first h\n",
        "lh = s.rfind('h')     # last  h\n",
        "\n",
        "s2 = s[fh+1 : lh]     # substring between first and last 'h'\n",
        "\n",
        "print(s2)\n",
        "print(fh, lh )\n",
        "\n",
        "s3 = s2[::-1] # inverted substring between first and last 'h'\n",
        "\n",
        "print(s[:fh+1] + s3 + s[lh:])\n",
        "\n",
        "\n"
      ],
      "execution_count": null,
      "outputs": [
        {
          "output_type": "stream",
          "text": [
            "abcdefgijklmn\n",
            "0 14\n",
            "hnmlkjigfedcbah\n"
          ],
          "name": "stdout"
        }
      ]
    },
    {
      "cell_type": "code",
      "metadata": {
        "colab": {
          "base_uri": "https://localhost:8080/"
        },
        "id": "8M_syPzwV5ya",
        "outputId": "31fec1dc-dfb1-4483-f668-2dc78c00a5a4"
      },
      "source": [
        "'''*****************************************************************************\n",
        "Занятие 5. Строки\n",
        "Задача «Замена подстроки»\n",
        "\n",
        "Условие\n",
        " * Дана строка. \n",
        " * Замените в этой строке все цифры 1 на слово one.\n",
        "*****************************************************************************'''\n",
        "\n",
        "s = '1+1=2'\n",
        "s = 'Hello, 2345678990'\n",
        "s = '1'\n",
        "\n",
        "print(s.replace('1','one'))"
      ],
      "execution_count": null,
      "outputs": [
        {
          "output_type": "stream",
          "text": [
            "one\n"
          ],
          "name": "stdout"
        }
      ]
    },
    {
      "cell_type": "code",
      "metadata": {
        "colab": {
          "base_uri": "https://localhost:8080/"
        },
        "id": "gI-4597sWe7Z",
        "outputId": "cd1f9577-fe67-47b7-b76b-f64f163c727c"
      },
      "source": [
        "'''*****************************************************************************\n",
        "Занятие 5. Строки\n",
        "Задача «Удаление символа»\n",
        "\n",
        "Условие\n",
        "* Дана строка. Удалите из этой строки все символы @.\n",
        "*****************************************************************************'''\n",
        "\n",
        "s = 'dfa;sdkfj;ajva;bvna\\'sdasdfasdglJLHJKFHLDKJFh'\n",
        "s = '@W@E@E@E@R'\n",
        "s = 'H@K@M@J@M@L'\n",
        "\n",
        "print(s.replace('@',''))\n"
      ],
      "execution_count": null,
      "outputs": [
        {
          "output_type": "stream",
          "text": [
            "HKMJML\n"
          ],
          "name": "stdout"
        }
      ]
    },
    {
      "cell_type": "code",
      "metadata": {
        "colab": {
          "base_uri": "https://localhost:8080/"
        },
        "id": "a7HE4sFmJG4B",
        "outputId": "35c7823e-c6e6-4aa6-b4bf-2c1f72a65e45"
      },
      "source": [
        "'''*****************************************************************************\n",
        "Задача «Замена внутри фрагмента»\n",
        "Условие\n",
        "\n",
        "* Дана строка. Замените в этой строке все появления буквы h на букву H, \n",
        "  кроме первого и последнего вхождения.\n",
        "*****************************************************************************'''\n",
        "\n",
        "s = 'qwertyhahsdhfghzxcvb'\n",
        "\n",
        "fh = s.find('h')\n",
        "lh = s.rfind('h')\n",
        "\n",
        "s1 = s[fh+1:lh]      # substr from fh to lh\n",
        "\n",
        "# print(fh , lh, s1)\n",
        "\n",
        "print(s[:fh + 1] + s1.replace('h','H') + s[lh:])"
      ],
      "execution_count": null,
      "outputs": [
        {
          "output_type": "stream",
          "text": [
            "qwertyhaHsdHfghzxcvb\n"
          ],
          "name": "stdout"
        }
      ]
    },
    {
      "cell_type": "markdown",
      "metadata": {
        "id": "MHbTDOvQNe4F"
      },
      "source": [
        "### [Задача «Удалить каждый третий символ»](https://pythontutor.ru/lessons/str/problems/delete_every_third_char/)\n",
        "\n",
        "**Условие**\n",
        "* Дана строка. \n",
        "* Удалите из нее все символы, чьи индексы делятся на 3."
      ]
    },
    {
      "cell_type": "code",
      "metadata": {
        "colab": {
          "base_uri": "https://localhost:8080/"
        },
        "id": "H8mk-YwKNmn3",
        "outputId": "bab9db95-bd18-431e-d7fb-2d720d6a843e"
      },
      "source": [
        "s = 'qwer'\n",
        "s1 = ''\n",
        "for i in range(0, len(s), 1):\n",
        "  if i % 3 != 0:\n",
        "    s1 += s[i]\n",
        "    # print(i, s[i], i % 3, s1)\n",
        "print(s1)"
      ],
      "execution_count": null,
      "outputs": [
        {
          "output_type": "stream",
          "text": [
            "1 w 1 w\n",
            "2 e 2 we\n",
            "we\n"
          ],
          "name": "stdout"
        }
      ]
    },
    {
      "cell_type": "markdown",
      "metadata": {
        "id": "w7y8I3aTw4er"
      },
      "source": [
        "# [**Занятие 6. Цикл while**](https://pythontutor.ru/lessons/while/)\n",
        "\n",
        "* Цикл while (“пока”) позволяет выполнить одну и ту же последовательность действий, пока проверяемое условие истинно. \n",
        "* Условие записывается до тела цикла и проверяется до выполнения тела цикла.\n",
        "* Как правило, цикл while используется, когда невозможно определить точное значение количества проходов исполнения цикла.\n",
        "\n",
        "Синтаксис цикла while в простейшем случае выглядит так:\n",
        "```python\n",
        "while условие:\n",
        "    блок инструкций\n",
        "```\n",
        "\n",
        "\n"
      ]
    },
    {
      "cell_type": "code",
      "metadata": {
        "id": "og4r2XYBxAzw"
      },
      "source": [
        ""
      ],
      "execution_count": null,
      "outputs": []
    },
    {
      "cell_type": "code",
      "metadata": {
        "colab": {
          "base_uri": "https://localhost:8080/"
        },
        "id": "q-vhNi6KxtkB",
        "outputId": "4f53b877-715d-42d8-da6f-1bf34b359d84"
      },
      "source": [
        "i = 1\n",
        "\n",
        "while i <= 10:\n",
        "  print('step ', i,', ', i,'^2 = ', i ** 2, sep = '')\n",
        "  i += 1\n"
      ],
      "execution_count": null,
      "outputs": [
        {
          "output_type": "stream",
          "text": [
            "step 1, 1^2 = 1\n",
            "step 2, 2^2 = 4\n",
            "step 3, 3^2 = 9\n",
            "step 4, 4^2 = 16\n",
            "step 5, 5^2 = 25\n",
            "step 6, 6^2 = 36\n",
            "step 7, 7^2 = 49\n",
            "step 8, 8^2 = 64\n",
            "step 9, 9^2 = 81\n",
            "step 10, 10^2 = 100\n"
          ],
          "name": "stdout"
        }
      ]
    },
    {
      "cell_type": "code",
      "metadata": {
        "colab": {
          "base_uri": "https://localhost:8080/"
        },
        "id": "GJcEU3O5yeeq",
        "outputId": "c90f2841-cc20-4fa7-a84e-458767b43944"
      },
      "source": [
        "# Вот еще один пример использования цикла while \n",
        "# для определения количества цифр натурального числа n:\n",
        "\n",
        "n = int(input())\n",
        "length = 0\n",
        "\n",
        "while n > 0:\n",
        "  n //= 10     # это эквивалентно n = n // 10\n",
        "  length += 1\n",
        "  print(n, length)\n",
        "print('-----------------------------')\n",
        "print(length)"
      ],
      "execution_count": null,
      "outputs": [
        {
          "output_type": "stream",
          "text": [
            "189\n",
            "18 1\n",
            "1 2\n",
            "0 3\n",
            "-----------------------------\n",
            "3\n"
          ],
          "name": "stdout"
        }
      ]
    },
    {
      "cell_type": "markdown",
      "metadata": {
        "id": "zTDBrDAEz91I"
      },
      "source": [
        "## **2. Инструкции управления циклом**\n",
        "\n",
        "После тела цикла можно написать слово else: и после него блок операций, который будет выполнен один раз после окончания цикла, когда проверяемое условие станет неверно:"
      ]
    },
    {
      "cell_type": "code",
      "metadata": {
        "colab": {
          "base_uri": "https://localhost:8080/"
        },
        "id": "vYdZKLR-0Bw0",
        "outputId": "d45660a7-634c-424a-eb3a-aabcf6943f0a"
      },
      "source": [
        "i = 1\n",
        "\n",
        "while i <= 10:\n",
        "  print(i)\n",
        "  i += 1\n",
        "else:\n",
        "  print('Loop finished, i =',i)"
      ],
      "execution_count": null,
      "outputs": [
        {
          "output_type": "stream",
          "text": [
            "1\n",
            "2\n",
            "3\n",
            "4\n",
            "5\n",
            "6\n",
            "7\n",
            "8\n",
            "9\n",
            "10\n",
            "Loop finished, i = 11\n"
          ],
          "name": "stdout"
        }
      ]
    },
    {
      "cell_type": "code",
      "metadata": {
        "colab": {
          "base_uri": "https://localhost:8080/"
        },
        "id": "GqRjwnD20jR6",
        "outputId": "3265d86a-1100-47a4-c311-139ec78118ae"
      },
      "source": [
        "'''\n",
        " Если во время выполнения Питон встречает инструкцию break внутри цикла, \n",
        " то он сразу же прекращает выполнение этого цикла и выходит из него. \n",
        " При этом ветка else исполняться не будет. \n",
        " \n",
        " Разумеется, инструкцию break осмыленно вызывать только внутри инструкции if, \n",
        " то есть она должна выполняться только при выполнении какого-то особенного условия.\n",
        " '''\n",
        "\n",
        "a = int(input())\n",
        "\n",
        "while a != 0:\n",
        "  if a < 0:\n",
        "    print('The loop was interrupted brcause has been entered the negative number:', a)\n",
        "    break\n",
        "  a = int(input())\n",
        "else:\n",
        "  print('Not a single negative number has been inputted')"
      ],
      "execution_count": null,
      "outputs": [
        {
          "output_type": "stream",
          "text": [
            "-7\n",
            "The loop was interrupted brcause has been entered the negative number: -7\n"
          ],
          "name": "stdout"
        }
      ]
    },
    {
      "cell_type": "code",
      "metadata": {
        "colab": {
          "base_uri": "https://localhost:8080/"
        },
        "id": "--CAC8ij24TD",
        "outputId": "bf922104-7539-4ba1-8970-6c5e6f3544f7"
      },
      "source": [
        "n = int(input())\n",
        "\n",
        "for i in range(n):\n",
        "  a = int(input())\n",
        "  if a < 0:\n",
        "    print('Negative number has been entered', a)\n",
        "    break\n",
        "else:\n",
        "  print('Ни одного отрицательного числа не встретилось')\n"
      ],
      "execution_count": null,
      "outputs": [
        {
          "output_type": "stream",
          "text": [
            "3\n",
            "-1\n",
            "Negative number has been entered -1\n"
          ],
          "name": "stdout"
        }
      ]
    },
    {
      "cell_type": "code",
      "metadata": {
        "colab": {
          "base_uri": "https://localhost:8080/"
        },
        "id": "Uc5QPpmQ4SZ6",
        "outputId": "4d5a4581-a69f-4b1f-c157-7576f1e2f94b"
      },
      "source": [
        "'''\n",
        "Другая инструкция управления циклом — continue (продолжение цикла). \n",
        "Если эта инструкция встречается где-то посередине цикла, то пропускаются все оставшиеся инструкции до конца цикла, \n",
        "и исполнение цикла продолжается со следующей итерации.\n",
        "\n",
        "Если инструкции break и continue содержатся внутри нескольких вложенных циклов, \n",
        "то они влияют лишь на исполнение самого внутреннего цикла. \n",
        "Вот не самый интеллектуальный пример, который это демонстрирует:\n",
        "'''\n",
        "cnt = 0\n",
        "\n",
        "for i in range(3):\n",
        "\n",
        "  for j in range(5):\n",
        "    cnt += 1\n",
        "#    print('i = ', i, ', j = ', j, ', mvg cnt = ', cnt, sep = '')\n",
        "\n",
        "    if j > i:\n",
        "      print('Break loop on cond j > i;','    i = ', i, ', j = ', j, ', mv_cnt = ', cnt, sep = '')\n",
        "      break\n",
        "    print('i = ', i, ', j = ', j, ', mv_cnt = ', cnt, sep = '')\n",
        "\n",
        "print('--------------------------')\n",
        "print('Total', cnt)"
      ],
      "execution_count": null,
      "outputs": [
        {
          "output_type": "stream",
          "text": [
            "i = 2, j = 3, mv_cnt = 9\n",
            "--------------------------\n",
            "Total 9\n"
          ],
          "name": "stdout"
        }
      ]
    },
    {
      "cell_type": "markdown",
      "metadata": {
        "id": "xWMYHrfj9c71"
      },
      "source": [
        "**Увлечение инструкциями break и continue не поощряется**, если можно обойтись без их использования. \n",
        "Вот типичный **пример плохого использования** инструкции break (данный код считает количество знаков в числе)."
      ]
    },
    {
      "cell_type": "code",
      "metadata": {
        "colab": {
          "base_uri": "https://localhost:8080/"
        },
        "id": "YeXK8sVY_PgI",
        "outputId": "e1132bdf-9d3b-4ba5-a8ec-a991fc268a25"
      },
      "source": [
        "n = int(input())\n",
        "\n",
        "len = 0\n",
        "\n",
        "while True:\n",
        "   len +=  1\n",
        "   n //= 10 \n",
        "   print(len, n)\n",
        "   \n",
        "   if n == 0:\n",
        "     break\n",
        "print('length of number =', len)"
      ],
      "execution_count": null,
      "outputs": [
        {
          "output_type": "stream",
          "text": [
            "33\n",
            "1 3\n",
            "2 0\n",
            "length of number = 2\n"
          ],
          "name": "stdout"
        }
      ]
    },
    {
      "cell_type": "code",
      "metadata": {
        "colab": {
          "base_uri": "https://localhost:8080/"
        },
        "id": "wFyK6XyzD64Q",
        "outputId": "b079196d-03d3-4fd4-f280-052cfc4b0b89"
      },
      "source": [
        "n = int(input())\n",
        "len = 0\n",
        "\n",
        "while n != 0:\n",
        "  len += 1\n",
        "  n //= 10\n",
        "  # print(len, n)\n",
        "print('length of number are ', len, 'digits')\n"
      ],
      "execution_count": null,
      "outputs": [
        {
          "output_type": "stream",
          "text": [
            "8787365823768762873548736542893765238562837562837562356293745623897456923847562938756\n",
            "length of number are  85 digits\n"
          ],
          "name": "stdout"
        }
      ]
    },
    {
      "cell_type": "code",
      "metadata": {
        "colab": {
          "base_uri": "https://localhost:8080/",
          "height": 214
        },
        "id": "OUHXTDvEE6_r",
        "outputId": "093a8bfd-78b6-4810-cf59-96ccef41f285"
      },
      "source": [
        "# Впрочем, на Питоне можно предложить и более изящное решение:\n",
        "\n",
        "n = int(input())\n",
        "print('Длина числа равна', len(str(n)))\n"
      ],
      "execution_count": null,
      "outputs": [
        {
          "output_type": "stream",
          "text": [
            "567\n"
          ],
          "name": "stdout"
        },
        {
          "output_type": "error",
          "ename": "TypeError",
          "evalue": "ignored",
          "traceback": [
            "\u001b[0;31m---------------------------------------------------------------------------\u001b[0m",
            "\u001b[0;31mTypeError\u001b[0m                                 Traceback (most recent call last)",
            "\u001b[0;32m<ipython-input-50-4505e84c24be>\u001b[0m in \u001b[0;36m<module>\u001b[0;34m()\u001b[0m\n\u001b[1;32m      2\u001b[0m \u001b[0;34m\u001b[0m\u001b[0m\n\u001b[1;32m      3\u001b[0m \u001b[0mn\u001b[0m \u001b[0;34m=\u001b[0m \u001b[0mint\u001b[0m\u001b[0;34m(\u001b[0m\u001b[0minput\u001b[0m\u001b[0;34m(\u001b[0m\u001b[0;34m)\u001b[0m\u001b[0;34m)\u001b[0m\u001b[0;34m\u001b[0m\u001b[0;34m\u001b[0m\u001b[0m\n\u001b[0;32m----> 4\u001b[0;31m \u001b[0mprint\u001b[0m\u001b[0;34m(\u001b[0m\u001b[0;34m'Длина числа равна'\u001b[0m\u001b[0;34m,\u001b[0m \u001b[0mlen\u001b[0m\u001b[0;34m(\u001b[0m\u001b[0mstr\u001b[0m\u001b[0;34m(\u001b[0m\u001b[0mn\u001b[0m\u001b[0;34m)\u001b[0m\u001b[0;34m)\u001b[0m\u001b[0;34m)\u001b[0m\u001b[0;34m\u001b[0m\u001b[0;34m\u001b[0m\u001b[0m\n\u001b[0m",
            "\u001b[0;31mTypeError\u001b[0m: 'int' object is not callable"
          ]
        }
      ]
    },
    {
      "cell_type": "markdown",
      "metadata": {
        "id": "Wlp-1lV9Hk9W"
      },
      "source": [
        "## **3. Множественное присваивание**\n",
        "\n",
        "В Питоне можно за одну инструкцию присваивания изменять значение сразу нескольких переменных. Делается это так:\n"
      ]
    },
    {
      "cell_type": "code",
      "metadata": {
        "colab": {
          "base_uri": "https://localhost:8080/"
        },
        "id": "XzptNTjyH5w_",
        "outputId": "7b6837da-22f3-4580-dc26-b7331039caee"
      },
      "source": [
        "a, b = 0, 1    # множественное присваивание меняет значение двух переменных одновременно!!!\n",
        "\n",
        "print(a, b)\n",
        "\n",
        "a, b = b, a\n",
        "\n",
        "print(a, b)"
      ],
      "execution_count": null,
      "outputs": [
        {
          "output_type": "stream",
          "text": [
            "0 1\n",
            "1 0\n"
          ],
          "name": "stdout"
        }
      ]
    },
    {
      "cell_type": "markdown",
      "metadata": {
        "id": "DDISNGC9Ilsw"
      },
      "source": [
        "## **ЗАДАЧИ**"
      ]
    },
    {
      "cell_type": "markdown",
      "metadata": {
        "id": "uYc2YmJ-I6fS"
      },
      "source": [
        "### [Задача «Список квадратов»](https://pythontutor.ru/lessons/while/problems/list_of_squares/)\n",
        "\n",
        "**Условие**\n",
        "* По данному целому числу N распечатайте все квадраты натуральных чисел, \n",
        "  не превосходящие N, в порядке возрастания."
      ]
    },
    {
      "cell_type": "code",
      "metadata": {
        "colab": {
          "base_uri": "https://localhost:8080/"
        },
        "id": "OLeTe5oUJGBJ",
        "outputId": "7f65f651-83e5-4ad9-ec93-c7734db3e405"
      },
      "source": [
        "n = int(99)\n",
        "\n",
        "# For loop realisation ------------------------------------\n",
        "print('------------- For loop realisation ---------------')\n",
        "n2 = 1\n",
        "for i in range(1, n, 1):\n",
        "  n2 = i ** 2\n",
        "  if n2 > n:\n",
        "    break\n",
        "  print(i,'^2 = ', n2, sep = '')\n",
        "print('--------------------------------------------------')\n",
        "print('....')\n",
        "\n",
        "# While loop realisation ------------------------------------\n",
        "print('------------- While loop realisation ---------------')\n",
        "n2 = 1\n",
        "cnt = 1\n",
        "while True:\n",
        "  n2 = cnt ** 2\n",
        "  if n2 > n:\n",
        "    break\n",
        "  print(cnt,'^2 = ', n2, sep = '')\n",
        "  cnt += 1\n",
        "print('--------------------------------------------------')\n",
        "\n",
        "# While loop realisation ------------------------------------\n",
        "print('------------- Optimal While loop realisation ---------')\n",
        "cnt = 1\n",
        "while cnt ** 2 < n:\n",
        "  print(cnt,'^2 = ', cnt ** 2, sep = '')\n",
        "  cnt += 1\n",
        "print('--------------------------------------------------')\n"
      ],
      "execution_count": null,
      "outputs": [
        {
          "output_type": "stream",
          "text": [
            "------------- For loop realisation ---------------\n",
            "1^2 = 1\n",
            "2^2 = 4\n",
            "3^2 = 9\n",
            "4^2 = 16\n",
            "5^2 = 25\n",
            "6^2 = 36\n",
            "7^2 = 49\n",
            "8^2 = 64\n",
            "9^2 = 81\n",
            "--------------------------------------------------\n",
            "....\n",
            "------------- While loop realisation ---------------\n",
            "1^2 = 1\n",
            "2^2 = 4\n",
            "3^2 = 9\n",
            "4^2 = 16\n",
            "5^2 = 25\n",
            "6^2 = 36\n",
            "7^2 = 49\n",
            "8^2 = 64\n",
            "9^2 = 81\n",
            "--------------------------------------------------\n",
            "------------- OPtimal While loop realisation ---------\n",
            "1^2 = 1\n",
            "2^2 = 4\n",
            "3^2 = 9\n",
            "4^2 = 16\n",
            "5^2 = 25\n",
            "6^2 = 36\n",
            "7^2 = 49\n",
            "8^2 = 64\n",
            "9^2 = 81\n",
            "--------------------------------------------------\n"
          ],
          "name": "stdout"
        }
      ]
    },
    {
      "cell_type": "markdown",
      "metadata": {
        "id": "9KrS6k6RPiv9"
      },
      "source": [
        "### **Задача «Минимальный делитель»** и другие"
      ]
    },
    {
      "cell_type": "code",
      "metadata": {
        "colab": {
          "base_uri": "https://localhost:8080/"
        },
        "id": "CNEbV3cmPndb",
        "outputId": "57a0cccf-9547-41c9-e7f1-8aaaf4136520"
      },
      "source": [
        "''' \n",
        "Условие\n",
        "Дано целое число, не меньшее 2. \n",
        "Выведите его наименьший натуральный делитель, отличный от 1.\n",
        "'''\n",
        "\n",
        "n = int(15) # int(input())\n",
        "mnd = 1\n",
        "\n",
        "while mnd < n:\n",
        "  mnd += 1 \n",
        "  if n %  mnd == 0:\n",
        "    print(mnd)\n",
        "    break"
      ],
      "execution_count": null,
      "outputs": [
        {
          "output_type": "stream",
          "text": [
            "3\n"
          ],
          "name": "stdout"
        }
      ]
    },
    {
      "cell_type": "code",
      "metadata": {
        "colab": {
          "base_uri": "https://localhost:8080/"
        },
        "id": "J3SJ_gGASN92",
        "outputId": "3a08d957-1a13-4d9d-b5bb-e26a1199d40c"
      },
      "source": [
        "# more optimal decision !!!\n",
        "\n",
        "n  = int(179)\n",
        "i  = 2\n",
        "\n",
        "while n % i:\n",
        "  i += 1\n",
        "print(i)"
      ],
      "execution_count": null,
      "outputs": [
        {
          "output_type": "stream",
          "text": [
            "179\n"
          ],
          "name": "stdout"
        }
      ]
    },
    {
      "cell_type": "code",
      "metadata": {
        "colab": {
          "base_uri": "https://localhost:8080/"
        },
        "id": "mWlBl-cCWMo9",
        "outputId": "4db9181c-bbcf-4ba6-cac6-ba64dc867663"
      },
      "source": [
        "'''\n",
        "Задача «Степень двойки»\n",
        "Условие\n",
        "По данному натуральному числу N найдите наибольшую целую степень двойки, не превосходящую N. \n",
        "Выведите показатель степени и саму степень.\n",
        "\n",
        "Операцией возведения в степень пользоваться нельзя!\n",
        "'''\n",
        "\n",
        "n   = int(input())\n",
        "stp = 1\n",
        "\n",
        "while 2 ** stp < n:\n",
        "  # print(stp, 2 ** stp)\n",
        "  stp += 1\n",
        "\n",
        "print(stp-1, 2 ** (stp-1))"
      ],
      "execution_count": null,
      "outputs": [
        {
          "output_type": "stream",
          "text": [
            "15431543\n",
            "23 8388608\n"
          ],
          "name": "stdout"
        }
      ]
    },
    {
      "cell_type": "code",
      "metadata": {
        "colab": {
          "base_uri": "https://localhost:8080/"
        },
        "id": "wufBemjOYHTX",
        "outputId": "ea46322a-8525-4d71-f892-3e91f334abc9"
      },
      "source": [
        "'''\n",
        "Задача «Утренняя пробежка»\n",
        "Условие\n",
        "\n",
        "* В первый день спортсмен пробежал x километров, \n",
        "* а затем он каждый день увеличивал пробег на 10% от предыдущего значения. \n",
        "\n",
        "По данному числу y определите номер дня, на который пробег спортсмена составит не менее y километров.\n",
        "\n",
        "Программа получает на вход действительные числа x и y и должна вывести одно натуральное число.\n",
        "'''\n",
        "\n",
        "x, y = float(1), int(1000)\n",
        "\n",
        "# print(x,y)\n",
        "dn = int(1)\n",
        "\n",
        "# print(x, y, dn)\n",
        "\n",
        "while x <= y:\n",
        "  x = x * 1.1\n",
        "  dn += 1\n",
        "  # print(x)\n",
        "print(dn)\n",
        "  "
      ],
      "execution_count": null,
      "outputs": [
        {
          "output_type": "stream",
          "text": [
            "74\n"
          ],
          "name": "stdout"
        }
      ]
    },
    {
      "cell_type": "code",
      "metadata": {
        "colab": {
          "base_uri": "https://localhost:8080/"
        },
        "id": "AgQJcdX2bTZj",
        "outputId": "6e787dd9-125d-4aed-9db5-2f0a39a9048d"
      },
      "source": [
        "'''\n",
        "Задача «Длина последовательности»\n",
        "\n",
        "Условие\n",
        "* Программа получает на вход последовательность целых неотрицательных чисел, \n",
        "  каждое число записано в отдельной строке. \n",
        "* Последовательность завершается числом 0, \n",
        "  при считывании которого программа должна закончить свою работу \n",
        "  и вывести количество членов последовательности (не считая завершающего числа 0). \n",
        "\n",
        "* Числа, следующие за числом 0, считывать не нужно\n",
        "'''\n",
        "\n",
        "n = int(input())\n",
        "cnt = 1\n",
        "\n",
        "while n != 0:\n",
        "  n = int(input())\n",
        "  cnt += 1\n",
        "print('Result =',cnt-1)"
      ],
      "execution_count": null,
      "outputs": [
        {
          "output_type": "stream",
          "text": [
            "5\n",
            "2\n",
            "8\n",
            "0\n",
            "Result = 3\n"
          ],
          "name": "stdout"
        }
      ]
    },
    {
      "cell_type": "code",
      "metadata": {
        "colab": {
          "base_uri": "https://localhost:8080/"
        },
        "id": "k-FDyLR3ijos",
        "outputId": "19a0a79a-e96f-462a-f5f5-83aa000e2573"
      },
      "source": [
        "'''\n",
        "Задача «Сумма последовательности»\n",
        "Условие\n",
        "\n",
        "* Определите сумму всех элементов последовательности, завершающейся числом 0. \n",
        "\n",
        "!! В этой и во всех следующих задачах числа, следующие за первым нулем, учитывать не нужно.\n",
        "'''\n",
        "\n",
        "n = int(input())\n",
        "sum = 0\n",
        "while n != 0:\n",
        "  sum += n\n",
        "  # print(sum)\n",
        "  n = int(input())\n",
        "\n",
        "print('Result =', sum)\n",
        "  "
      ],
      "execution_count": null,
      "outputs": [
        {
          "output_type": "stream",
          "text": [
            "1\n",
            "2\n",
            "3\n",
            "4\n",
            "5\n",
            "6\n",
            "7\n",
            "0\n",
            "Result = 28\n"
          ],
          "name": "stdout"
        }
      ]
    },
    {
      "cell_type": "code",
      "metadata": {
        "colab": {
          "base_uri": "https://localhost:8080/"
        },
        "id": "D9POZO2Fj8Wz",
        "outputId": "ecf4335d-654d-4c5b-baa4-839ff10c506f"
      },
      "source": [
        "'''\n",
        "Задача «Среднее значение последовательности»\n",
        "\n",
        "Условие\n",
        " 1. Определите среднее значение всех элементов последовательности\n",
        " 2. Определите значение наибольшего элемента последовательности.\n",
        " 3. Определите индекс наибольшего элемента последовательности. \n",
        "    Если наибольших элементов несколько, выведите индекс первого из них. Нумерация элементов начинается с нуля\n",
        " 4. Определите количество четных элементов в последовательности\n",
        " 5. Определите, сколько элементов последовательности больше предыдущего элемента.\n",
        " 6. Определите значение второго по величине элемента в этой последовательности. \n",
        " 7. сколько элементов этой последовательности равны ее наибольшему элементу.\n",
        "\n",
        "!!! В этой и во всех следующих задачах числа, следующие за первым нулем, учитывать не нужно.\n",
        "'''\n",
        "\n",
        "n = int(input())\n",
        "\n",
        "sec_inx      = 0    # number of elements in sequence\n",
        "sec_sum      = 0    # сумму всех элементов последовательности, завершающейся числом 0\n",
        "sec_avg      = 0    # среднее значение всех элементов последовательности\n",
        "sec_max      = 0    # наибольший элемент последовательности.\n",
        "sec_max_idx  = 0    # индекс наибольшего элемента последовательности\n",
        "sec_odd_cnt  = 0    \n",
        "sec_cnt_min  = 0  \n",
        "sec_priv     = 0\n",
        "prev_max     = 0   # значение второго по величине элемента в этой последовательности.\n",
        "cnt_max      = 1\n",
        "\n",
        "\n",
        "\n",
        "while n != 0:\n",
        "  sec_inx   += 1      # Индекс текущего элемента последовательности.\n",
        "  sec_sum   += n      # Сумма всех элементов последовательности.\n",
        "\n",
        "  # 3. Определение индекса наибольшего элемента последовательности. \n",
        "  if n > sec_max:                # если появился ноывй максимум то:----------\n",
        "    prev_max    = sec_max        # 6. сохраняем прошлый максимум\n",
        "    sec_max     = n              # 2. Значение наибольшего элемента последовательности.\n",
        "    sec_max_idx = sec_inx - 1    # 3. Индекс наибольшего элемента последовательности.\n",
        "  else:\n",
        "    if prev_max < n < sec_max:   # 6. если новый элемент между прошлым макс и новым макс это новый прошлый макс!!!!!\n",
        "      prev_max = n\n",
        "  # 3. -----------------------------------------------------------\n",
        "\n",
        "  # 4. Определите количество четных элементов в последовательности\n",
        "  sec_odd_cnt += n % 2  \n",
        "  # print(sec_inx, sec_odd_cnt)\n",
        "  # 4. ------------------------------------------------------------\n",
        "    \n",
        "  # 5. Определите, сколько элементов последовательности больше предыдущего элемента.\n",
        "  if n > sec_priv:\n",
        "    sec_priv = n\n",
        "    sec_cnt_min += 1\n",
        "  # 5. -----------------------------------------------------------------------------\n",
        "\n",
        "  n = int(input())\n",
        "\n",
        "  # 7. сколько элементов этой последовательности равны ее наибольшему элементу1\n",
        "  # print(n, sec_max, prev_max, cnt_max)\n",
        "  if sec_max == n:\n",
        "    cnt_max +=1\n",
        "  # 7. -----------------------------------------------------------------------------\n",
        "\n",
        "print('Sequence: sec_index = ',sec_inx, ', sec_sum =',sec_sum)\n",
        "print('----------------------------------------------------------')\n",
        "print('1. Avg of sequence   =', sec_sum / sec_inx)\n",
        "print('2. Max of sequence   =', sec_max)\n",
        "print('3. Index of sec Max  =', sec_max_idx)\n",
        "print('4. Count of even     =', sec_inx - sec_odd_cnt)\n",
        "print('5. Count of min priv =', sec_cnt_min -1)\n",
        "print('6. Prev max =', prev_max)\n",
        "print('7. Cnt of max =', cnt_max)\n"
      ],
      "execution_count": null,
      "outputs": [
        {
          "output_type": "stream",
          "text": [
            "5\n",
            "4\n",
            "3\n",
            "2\n",
            "1\n",
            "5\n",
            "0\n",
            "Sequence: sec_index =  6 , sec_sum = 20\n",
            "----------------------------------------------------------\n",
            "1. Avg of sequence   = 3.3333333333333335\n",
            "2. Max of sequence   = 5\n",
            "3. Index of sec Max  = 0\n",
            "4. Count of even     = 2\n",
            "5. Count of min priv = 0\n",
            "6. Prev max = 4\n",
            "7. Cnt of max = 2\n"
          ],
          "name": "stdout"
        }
      ]
    },
    {
      "cell_type": "markdown",
      "metadata": {
        "id": "EiFpyMjghyzH"
      },
      "source": [
        "### [ЗадачИ про «Числа Фибоначчи»](https://pythontutor.ru/lessons/while/problems/kth_fibonacci/)\n",
        "\n",
        "**Условие**\n",
        "* Последовательность Фибоначчи определяется так:\n",
        "  φ0 = 0,  φ1 = 1,  φn = φn−1 + φn−2.\n",
        "\n",
        "* По данному числу n определите n-е число Фибоначчи φn.\n",
        "* Эту задачу можно решать и циклом for."
      ]
    },
    {
      "cell_type": "code",
      "metadata": {
        "colab": {
          "base_uri": "https://localhost:8080/"
        },
        "id": "ilMPRe8riKUR",
        "outputId": "62d99eff-6f19-4dbd-9de6-2d2fc36a01dc"
      },
      "source": [
        "# числа Леонардо Пизанского (известного как Фибоначчи).\n",
        "#  0, 1, 1, 2, 3, 5, 8, 13, 21, 34, 55, \n",
        "\n",
        "fnm1, fn = 0, 1\n",
        "\n",
        "print('Input number for Fibonacci: ', end = '')\n",
        "n = int(input())\n",
        "\n",
        "\n",
        "# start calculate from 2nd step because of firsts 2 are constants\n",
        "if n == 0:\n",
        "  print('Fibonacci of φ[',n,'] = ',0, sep = '')\n",
        "else:\n",
        "  for i in range(2, n+1, 1):\n",
        "    #print('in  step[', i,'] :', fn, fnm1, fnm2)\n",
        "\n",
        "    fnm1, fn = fn, fnm1 + fn # подсмотрено тут http://pythoshka.ru/p206.html\n",
        "\n",
        "    # мое решение --------- тоже работает\n",
        "    #fnm2 = fnm1  \n",
        "    #fnm1 = fn\n",
        "    #fn   = fnm1 + fnm2\n",
        "\n",
        "    print('Fibonacci of φ[',i,'] = ',fn, sep = '')\n",
        "  print('--------------------------------------')\n",
        "  print('Fibonacci of φ[',i,'] = ',fn, sep = '')\n"
      ],
      "execution_count": null,
      "outputs": [
        {
          "output_type": "stream",
          "text": [
            "Input number for Fibonacci: 5\n",
            "Fibonacci of φ[2] = 1\n",
            "Fibonacci of φ[3] = 2\n",
            "Fibonacci of φ[4] = 3\n",
            "Fibonacci of φ[5] = 5\n",
            "--------------------------------------\n",
            "Fibonacci of φ[5] = 5\n"
          ],
          "name": "stdout"
        }
      ]
    },
    {
      "cell_type": "code",
      "metadata": {
        "colab": {
          "base_uri": "https://localhost:8080/"
        },
        "id": "5dGgcbU9jc7O",
        "outputId": "9428aa92-87a5-429f-ef67-723af8ba1727"
      },
      "source": [
        "'''\n",
        "Задача «Номер числа Фибоначчи»\n",
        "\n",
        "Условие\n",
        "* Дано натуральное число A. \n",
        "* Определите, каким по счету числом Фибоначчи оно является, то есть выведите такое число n, что φn = A. \n",
        "* Если А не является числом Фибоначчи, выведите число -1.\n",
        "'''\n",
        "\n",
        "# числа Леонардо Пизанского (известного как Фибоначчи).\n",
        "#  0, 1, 1, 2, 3, 5, 8, 13, 21, 34, 55, \n",
        "\n",
        "print('Enter n for Fibonacci:')\n",
        "n = int(input())\n",
        "\n",
        "if n == 0:\n",
        "  print('Position of Fibonacci of φ[',n,'] = ', 1, sep = '')\n",
        "\n",
        "else:\n",
        "  fn, fnm1, fcnt = 1, 0, 1\n",
        "\n",
        "  while fn < n:\n",
        "    fnm1, fn = fn, fn + fnm1\n",
        "    fcnt += 1\n",
        "    # print(fn, fnm1, fcnt)\n",
        "    #print('Position of Fibonacci - ',n,' is ',fcnt, sep = '')\n",
        "    \n",
        "    #if fcnt > 15:\n",
        "    #  break\n",
        "  \n",
        "  if fn == n:\n",
        "   print('Position of Fibonacci of φ[',n,'] = ', fcnt, sep = '')\n",
        "  else:\n",
        "    print('Position of Fibonacci of φ[',n,'] = ', -1, sep = '')\n",
        "\n",
        "\n"
      ],
      "execution_count": null,
      "outputs": [
        {
          "output_type": "stream",
          "text": [
            "Enter n for Fibonacci:\n",
            "9\n",
            "Position of Fibonacci of φ[9] = -1\n"
          ],
          "name": "stdout"
        }
      ]
    },
    {
      "cell_type": "markdown",
      "metadata": {
        "id": "iElDSWxD0ZMI"
      },
      "source": [
        "### Максимальное число идущих подряд равных элементов"
      ]
    },
    {
      "cell_type": "code",
      "metadata": {
        "colab": {
          "base_uri": "https://localhost:8080/"
        },
        "id": "kilaiBEHp0yY",
        "outputId": "f9fc2dd6-735c-43a2-a12a-00cf00718b7c"
      },
      "source": [
        "'''\n",
        "Задача «Максимальное число идущих подряд равных элементов»\n",
        "\n",
        "Условие\n",
        "* Дана последовательность натуральных чисел, завершающаяся числом 0. \n",
        "* Определите, какое наибольшее число подряд идущих элементов этой последовательности равны друг другу.\n",
        "\n",
        "'''\n",
        "cur, prev, cnt, max, n = 0, 0, 1, 1, -1\n",
        "\n",
        "while n != 0:\n",
        "  print('Input n: ', sep = '', end = '')\n",
        "  n = int(input())\n",
        "  \n",
        "  cur, prev = prev, n\n",
        "  \n",
        "  if cur == prev:\n",
        "    cnt += 1\n",
        "    #print('In_IF1: cnt =', cnt, 'max =', max)\n",
        "  \n",
        "    if max < cnt:\n",
        "      max = cnt\n",
        "      #print('In_IF2: cnt =', cnt, 'max =', max)\n",
        "  else:\n",
        "    cnt = 1\n",
        "    #print('In_El1: cnt =', cnt, 'max =', max)\n",
        "  \n",
        "print('Максимальное число идущих подряд равных элементов =', max)\n"
      ],
      "execution_count": null,
      "outputs": [
        {
          "output_type": "stream",
          "text": [
            "Input n: 1\n",
            "In_El1: cnt = 1 max = 1\n",
            "Input n: 2\n",
            "In_El1: cnt = 1 max = 1\n",
            "Input n: 2\n",
            "In_IF1: cnt = 2 max = 1\n",
            "In_IF2: cnt = 2 max = 2\n",
            "Input n: 0\n",
            "In_El1: cnt = 1 max = 2\n",
            "Максимальное число идущих подряд равных элементов = 2\n"
          ],
          "name": "stdout"
        }
      ]
    },
    {
      "cell_type": "markdown",
      "metadata": {
        "id": "Ua4K6MJx0cyD"
      },
      "source": [
        "### Задача «Стандартное отклонение»\n",
        "\n",
        "**Условие**\n",
        "* Дана последовательность натуральных чисел x1, x2, ..., xn. \n",
        "* Стандартным отклонением называется величина\n",
        "   $σ= \\sqrt { \\frac { (x_1−s)^2+(x_2−s)^2+…+(x_n−s)^2}  {n−1} } $\n",
        "* где $s= \\frac {x_1+x_2+…+x_n}{n} $ — среднее арифметическое последовательности.\n",
        "\n",
        "* Определите стандартное отклонение для данной последовательности натуральных чисел, завершающейся числом 0."
      ]
    },
    {
      "cell_type": "code",
      "metadata": {
        "colab": {
          "base_uri": "https://localhost:8080/"
        },
        "id": "c1-Orr6V0fDv",
        "outputId": "d6aa6018-b986-4af9-d743-ce498dea36a9"
      },
      "source": [
        "from math import sqrt\n",
        "\n",
        "cnt, x_i = 1, 0\n",
        "avg_x_i, sum_sq, sum_x_i = 0, 0, 0  # Avg(x_i), Sum(x_i), Sum(x_i^2)\n",
        "StDiv    = 0\n",
        "\n",
        "print('Enter sequence:')\n",
        "print('x[',cnt,'] = ', sep = '', end = '')\n",
        "x_i = int(input())\n",
        "2\n",
        "\n",
        "while x_i != 0:\n",
        "\n",
        "  sum_x_i  += x_i        # Summ of x_i\n",
        "  sum_sq   += x_i*x_i    # Summ of x_i^2\n",
        "  cnt      += 1          # Count of x_i\n",
        " \n",
        "  print('x[',cnt,'] = ', sep = '', end = '')\n",
        "  x_i = int(input())\n",
        "\n",
        "cnt      -= 1\n",
        "avg_x_i = sum_x_i / cnt\n",
        "print('For [',cnt,'] elements of sequence: Sum(x) = ',sum_x_i, ', Sum(x^2) = ', sum_sq, ', Avg(x) = ',avg_x_i,   sep = '')\n",
        "\n",
        "# КАК НАЙТИ Сигму !\n",
        "# 1. упрощаем выражение: x_1^2 + x_2^2 + cnt*avg_x_i^2 - 2*avg_x_i*(x_1 + x_2)\n",
        "#     \n",
        "# 2. StDiv = sqrt ( { Sum(x^2) + ( cnt*avg_x_i^2 ) + (2*avg_x_i * Sum(x) ) } / {cnt - 1} )\n",
        "# Вуаля - считаем!!!\n",
        "\n",
        "StDiv = sqrt ( (sum_sq + ( cnt * avg_x_i * avg_x_i ) - ( 2 * avg_x_i * sum_x_i) ) / (cnt - 1) )\n",
        "\n",
        "print('StDiv = ', StDiv)\n",
        "\n",
        "# Это было не совсем просто, но вышло!"
      ],
      "execution_count": null,
      "outputs": [
        {
          "output_type": "stream",
          "text": [
            "Enter sequence:\n",
            "x[1] = 3\n",
            "x[2] = 9\n",
            "x[3] = 5\n",
            "x[4] = 2\n",
            "x[5] = 0\n",
            "For [4] elements of sequence: Sum(x) = 19, Sum(x^2) = 119, Avg(x) = 4.75\n",
            "StDiv =  3.095695936834452\n"
          ],
          "name": "stdout"
        }
      ]
    },
    {
      "cell_type": "markdown",
      "metadata": {
        "id": "vFKPggK1rdqG"
      },
      "source": [
        "# [Занятие 7. Списки](https://pythontutor.ru/lessons/lists/)\n",
        "\n",
        "* Для хранения таких данных можно использовать структуру данных, называемую в Питоне список (в большинстве же языков программирования используется другой термин “массив”). \n",
        "* Список представляет собой последовательность элементов, пронумерованных от 0, как символы в строке. \n",
        "* Список можно задать перечислением элементов списка в квадратных скобках, например, список можно задать так:\n"
      ]
    },
    {
      "cell_type": "markdown",
      "metadata": {
        "id": "sTOEFs8s8WWB"
      },
      "source": [
        "##  **1. Списки**"
      ]
    },
    {
      "cell_type": "code",
      "metadata": {
        "id": "5GIwFtJXvkiP",
        "colab": {
          "base_uri": "https://localhost:8080/"
        },
        "outputId": "ebbf2cf8-9362-4483-f2c2-8a21b5f66394"
      },
      "source": [
        "# В списке Primes — 6 элементов, а именно: \n",
        "# Primes[0] == 2, Primes[1] == 3, Primes[2] == 5, Primes[3] == 7, Primes[4] == 11, Primes[5] == 13. \n",
        "\n",
        "# Список Rainbow состоит из 7 элементов, каждый из которых является строкой.\n",
        "\n",
        "# Также как и символы в строке, элементы списка можно индексировать отрицательными числами с конца, \n",
        "# например, Primes[-1] == 13, Primes[-6] == 2.\n",
        "\n",
        "Primes = [2, 3, 5, 7, 11, 13]\n",
        "Rainbow = ['Red', 'Orange', 'Yellow', 'Green', 'Blue', 'Indigo', 'Violet']\n",
        "\n",
        "print('len(Primes) =',len(Primes), 'len(Rainbow) =',len(Rainbow))\n",
        "\n",
        "print(Rainbow[0])\n",
        "Rainbow[0] = 'Красный'\n",
        "print(Rainbow[0])\n",
        "\n",
        "for i in range(0, len(Rainbow), 1):\n",
        "  print('Rainbow[',i+1,'] = ', Rainbow[i], sep = '')\n"
      ],
      "execution_count": null,
      "outputs": [
        {
          "output_type": "stream",
          "text": [
            "len(Primes) = 6 len(Rainbow) = 7\n",
            "Red\n",
            "Красный\n",
            "Rainbow[1] = Красный\n",
            "Rainbow[2] = Orange\n",
            "Rainbow[3] = Yellow\n",
            "Rainbow[4] = Green\n",
            "Rainbow[5] = Blue\n",
            "Rainbow[6] = Indigo\n",
            "Rainbow[7] = Violet\n"
          ],
          "name": "stdout"
        }
      ]
    },
    {
      "cell_type": "code",
      "metadata": {
        "colab": {
          "base_uri": "https://localhost:8080/"
        },
        "id": "uj5BMwSN8m5A",
        "outputId": "3180b688-7f8c-4687-e231-80261e073f3f"
      },
      "source": [
        "'''\n",
        "Рассмотрим несколько способов создания и считывания списков. \n",
        "Прежде всего, можно создать пустой список (не содержащий элементов, длины 0), \n",
        "а в конец списка можно добавлять элементы при помощи метода append. \n",
        "\n",
        "Например, пусть программа получает на вход количество элементов в списке n, а потом n элементов списка по одному в отдельной строке. \n",
        "Вот пример входных данных в таком формате:\n",
        "'''\n",
        "\n",
        "a = []            # empty list\n",
        "print('Load range of list \\'a\\': ', sep = '', end = '')\n",
        "n = int(input())  # load length of list\n",
        "\n",
        "for i in range(n):\n",
        "  print('Input: a[',i,'] = ', sep = '', end = '')\n",
        "  a.append(int(input()))\n",
        "  \n",
        "  print('Length of list \\'a\\' = ', len(a), ', Consists of list \\'a\\' = ', a,  sep = '')\n",
        "\n",
        "  # new_element = int(input())  # read a new element\n",
        "  # a.append(new_element)       # load new element into list \"a\"\n",
        "  # a.append(int(input()))\n",
        "  # print('After  load: a[',i,'] = ',a[i], sep = '')\n",
        "print('----------------------------------------------------------------------')\n",
        "print('List \\'a\\' consists of : ',a, sep = '')\n",
        "\n",
        "\n"
      ],
      "execution_count": null,
      "outputs": [
        {
          "output_type": "stream",
          "text": [
            "Load range of list 'a': 5\n",
            "Input: a[0] = 234\n",
            "Length of list 'a' = 1, Consists of list 'a' = [234]\n",
            "Input: a[1] = 3\n",
            "Length of list 'a' = 2, Consists of list 'a' = [234, 3]\n",
            "Input: a[2] = 7\n",
            "Length of list 'a' = 3, Consists of list 'a' = [234, 3, 7]\n",
            "Input: a[3] = 8\n",
            "Length of list 'a' = 4, Consists of list 'a' = [234, 3, 7, 8]\n",
            "Input: a[4] = 00098\n",
            "Length of list 'a' = 5, Consists of list 'a' = [234, 3, 7, 8, 98]\n",
            "List 'a' consists of : [234, 3, 7, 8, 98]\n"
          ],
          "name": "stdout"
        }
      ]
    },
    {
      "cell_type": "code",
      "metadata": {
        "colab": {
          "base_uri": "https://localhost:8080/"
        },
        "id": "gaC-KdOW_4_P",
        "outputId": "85889d96-76a5-43c8-90af-9d9e664d154a"
      },
      "source": [
        "# То же самое можно записать, сэкономив переменную n:\n",
        "\n",
        "a = []\n",
        "for i in range(int(input())):\n",
        "  a.append(int(input()))\n",
        "print(a)"
      ],
      "execution_count": null,
      "outputs": [
        {
          "output_type": "stream",
          "text": [
            "4\n",
            "123\n",
            "3456\n",
            "7789\n",
            "09\n",
            "[123, 3456, 7789, 9]\n"
          ],
          "name": "stdout"
        }
      ]
    },
    {
      "cell_type": "code",
      "metadata": {
        "colab": {
          "base_uri": "https://localhost:8080/"
        },
        "id": "jtUM-enwAQs1",
        "outputId": "b4b04f31-6645-4bb7-901c-753de75ed12c"
      },
      "source": [
        "# Для списков целиком определены следующие операции: \n",
        "#  1) конкатенация списков (сложение списков, т. е. приписывание к одному списку другого) \n",
        "#  2) повторение списков   (умножение списка на число). \n",
        "\n",
        "# Например:\n",
        "\n",
        "a = [1, 2, 3]\n",
        "b = [4, 5]\n",
        "\n",
        "print('list a:', a)\n",
        "print('list b:', b)\n",
        "\n",
        "print('--------------------------')\n",
        "c = a + b\n",
        "d = b * 3\n",
        "print('c = a + b:', c)\n",
        "print('d = b * 3:', d)\n",
        "\n",
        "print('--------------------------')\n",
        "print([7, 8] + [9])\n",
        "print([0, 1] * 3)\n",
        "\n",
        "print([0] * 3)"
      ],
      "execution_count": null,
      "outputs": [
        {
          "output_type": "stream",
          "text": [
            "list a: [1, 2, 3]\n",
            "list b: [4, 5]\n",
            "--------------------------\n",
            "c = a + b: [1, 2, 3, 4, 5]\n",
            "d = b * 3: [4, 5, 4, 5, 4, 5]\n",
            "--------------------------\n",
            "[7, 8, 9]\n",
            "[0, 1, 0, 1, 0, 1]\n",
            "[0, 0, 0]\n"
          ],
          "name": "stdout"
        }
      ]
    },
    {
      "cell_type": "code",
      "metadata": {
        "colab": {
          "base_uri": "https://localhost:8080/"
        },
        "id": "h2KlPmLTvrJ1",
        "outputId": "8845d540-7d17-4aa2-b852-c160e7d29398"
      },
      "source": [
        "#  Это позволяет по-другому организовать процесс считывания списков: \n",
        "#   1. сначала считать размер списка и создать список из нужного числа элементов, \n",
        "#   2. затем организовать цикл по переменной i начиная с числа 0 и внутри цикла считывается i-й элемент списка:\n",
        "\n",
        "print('Enter range of list: ', end = '')\n",
        "a = [0] * int(input())\n",
        "\n",
        "print('len(a) = 4',len(a), ', list \\'a\\' =',a)\n",
        "\n",
        "for i in range(len(a)):\n",
        "  print('Load: a[',i,'] = ', sep = '', end = '')\n",
        "  a[i] = int(input())\n",
        "\n",
        "print('len(a) =',len(a), ', list \\'a\\' =',a)"
      ],
      "execution_count": null,
      "outputs": [
        {
          "output_type": "stream",
          "text": [
            "Enter range of list: 5\n",
            "len(a) =  5 , list 'a' = [0, 0, 0, 0, 0]\n",
            "Load: a[0] = 23\n",
            "Load: a[1] = 43\n",
            "Load: a[2] = 5\n",
            "Load: a[3] = 65\n",
            "Load: a[4] = 76\n",
            "len(a) = 5 , list 'a' = [23, 43, 5, 65, 76]\n"
          ],
          "name": "stdout"
        }
      ]
    },
    {
      "cell_type": "code",
      "metadata": {
        "colab": {
          "base_uri": "https://localhost:8080/"
        },
        "id": "EzfNnhauxJpA",
        "outputId": "70f3f709-a82d-467f-c0f2-4a27dd615585"
      },
      "source": [
        "# examples of print lists\n",
        "\n",
        "# 1 - in a column\n",
        "a = [1, 2, 3, 4, 5, 6, 7]\n",
        "\n",
        "for elem in a:\n",
        "  print(elem, sep = '', end = ' ')\n",
        "  # print(a[i])\n"
      ],
      "execution_count": null,
      "outputs": [
        {
          "output_type": "stream",
          "text": [
            "1 2 3 4 5 6 7 "
          ],
          "name": "stdout"
        }
      ]
    },
    {
      "cell_type": "code",
      "metadata": {
        "colab": {
          "base_uri": "https://localhost:8080/"
        },
        "id": "TNMxc0E7yWHP",
        "outputId": "e39aeccf-9d87-498a-dc99-4959c522327c"
      },
      "source": [
        "######## !!!!!!!!!! Очень важная часть идеологии Питона - это цикл for !!!!!!!!!!!!!! ##############\n",
        "'''\n",
        "Обратите особое внимание на последний пример! Очень важная часть идеологии Питона — это цикл for, \n",
        "который предоставляет удобный способ перебрать все элементы некоторой последовательности. \n",
        "\n",
        "В этом отличие Питона от Паскаля, где вам обязательно надо перебирать именно индексы элементов, а не сами элементы.\n",
        "Последовательностями в Питоне являются строки, списки, значения функции range() (это не списки), и ещё кое-какие другие объекты.\n",
        "\n",
        "Приведем пример, демонстрирующий использование цикла for в ситуации, когда из строки надо выбрать все цифры и сложить их в массив как числа.\n",
        "'''\n",
        "#######################################################################################################\n",
        "\n",
        "\n",
        "# дано: s = 'ab12c59p7dk'\n",
        "# надо: извлечь цифры в список digits,\n",
        "# чтобы стало так:\n",
        "# digits == [1, 2, 5, 9, 7]\n",
        "\n",
        "s    = 'ab12c59p7dk'\n",
        "print(s)\n",
        "digs = []\n",
        "\n",
        "for symbol in s:\n",
        "  print('for each symbol in s - ',symbol)\n",
        "  if '1234567890'.find(symbol) != -1:\n",
        "    print('digit detected -', symbol)\n",
        "    digs.append(int(symbol))\n",
        "    print('list \\'digs\\' appended - ', digs)\n",
        "print(s)\n",
        "print(digs)\n"
      ],
      "execution_count": null,
      "outputs": [
        {
          "output_type": "stream",
          "text": [
            "ab12c59p7dk\n",
            "for each symbol in s -  a\n",
            "for each symbol in s -  b\n",
            "for each symbol in s -  1\n",
            "digit detected - 1\n",
            "list 'digs' appended -  [1]\n",
            "for each symbol in s -  2\n",
            "digit detected - 2\n",
            "list 'digs' appended -  [1, 2]\n",
            "for each symbol in s -  c\n",
            "for each symbol in s -  5\n",
            "digit detected - 5\n",
            "list 'digs' appended -  [1, 2, 5]\n",
            "for each symbol in s -  9\n",
            "digit detected - 9\n",
            "list 'digs' appended -  [1, 2, 5, 9]\n",
            "for each symbol in s -  p\n",
            "for each symbol in s -  7\n",
            "digit detected - 7\n",
            "list 'digs' appended -  [1, 2, 5, 9, 7]\n",
            "for each symbol in s -  d\n",
            "for each symbol in s -  k\n",
            "ab12c59p7dk\n",
            "[1, 2, 5, 9, 7]\n"
          ],
          "name": "stdout"
        }
      ]
    },
    {
      "cell_type": "markdown",
      "metadata": {
        "id": "iHryyQDG0Snt"
      },
      "source": [
        "## **2. Методы split и join**\n",
        "\n",
        "* Элементы списка могут вводиться по одному в строке, в этом случае строку целиком можно считать функцией \n",
        "```python \n",
        "  input() \n",
        "```\n",
        "* После этого можно использовать метод строки \n",
        "```python \n",
        "  split() \n",
        "``` \n",
        "возвращающий список строк, которые получатся, если исходную строку разрезать на части по пробелам. "
      ]
    },
    {
      "cell_type": "code",
      "metadata": {
        "colab": {
          "base_uri": "https://localhost:8080/"
        },
        "id": "xnXAdYXM0yMM",
        "outputId": "e8844b20-9ffd-4df8-e356-0768a1e61f77"
      },
      "source": [
        "# на вход подаётся строка\n",
        "# 1 2 3\n",
        "s = input()    # s == '1 2 3'\n",
        "a = s.split()  # a == ['1', '2', '3']\n",
        "print(a)"
      ],
      "execution_count": null,
      "outputs": [
        {
          "output_type": "stream",
          "text": [
            "12 vb 5j 0-\n",
            "['12', 'vb', '5j', '0-']\n"
          ],
          "name": "stdout"
        }
      ]
    },
    {
      "cell_type": "code",
      "metadata": {
        "id": "PIRFSLkw7ZIc",
        "colab": {
          "base_uri": "https://localhost:8080/"
        },
        "outputId": "c4f24203-b01d-43dc-b15b-473b9e7b053f"
      },
      "source": [
        "'''\n",
        "Если при запуске этой программы ввести строку 1 2 3, то список a будет равен ['1', '2', '3']. \n",
        "\n",
        "Обратите внимание, что список будет состоять из строк, а не из чисел. \n",
        "\n",
        "Если хочется получить список именно из чисел, то можно затем элементы списка по одному преобразовать в числа:\n",
        "'''\n",
        "\n",
        "a = input().split()\n",
        "print('list a = ',a)\n",
        "for i in range(len(a)):\n",
        "  a[i] = int(a[i])\n",
        "print(a)"
      ],
      "execution_count": null,
      "outputs": [
        {
          "output_type": "stream",
          "text": [
            "09 89 911\n",
            "list a =  ['09', '89', '911']\n",
            "[9, 89, 911]\n"
          ],
          "name": "stdout"
        }
      ]
    },
    {
      "cell_type": "code",
      "metadata": {
        "id": "7golXtM-9FRS",
        "colab": {
          "base_uri": "https://localhost:8080/"
        },
        "outputId": "17320f39-446d-468b-e122-d44a5a24a1de"
      },
      "source": [
        "# ######################### — генераторы —  ####################################\n",
        "#\n",
        "#  Используя специальную магию Питона — генераторы — \n",
        "#      то же самое можно сделать в одну строку:\n",
        "#\n",
        "################################################################################\n",
        "\n",
        "a = [int(s) for s in input().split()]\n",
        "print(a)"
      ],
      "execution_count": null,
      "outputs": [
        {
          "output_type": "stream",
          "text": [
            "3 4 5 6 77\n",
            "[3, 4, 5, 6, 77]\n"
          ],
          "name": "stdout"
        }
      ]
    },
    {
      "cell_type": "code",
      "metadata": {
        "id": "Cz40jaFH981W",
        "colab": {
          "base_uri": "https://localhost:8080/"
        },
        "outputId": "86536a4e-ecb5-468a-cdad-807c73e0a9ae"
      },
      "source": [
        "'''\n",
        "У метода split() есть необязательный параметр, который определяет, \n",
        "какая строка будет использоваться в качестве разделителя между элементами списка. \n",
        "\n",
        "Например, вызов метода split('.') вернет список, полученный разрезанием исходной строки по символам '.':\n",
        "'''\n",
        "\n",
        "a = input().split('.')\n",
        "b = '192.168.0.1'.split('.')\n",
        "print(a)\n",
        "print(b)"
      ],
      "execution_count": null,
      "outputs": [
        {
          "output_type": "stream",
          "text": [
            "1.2.3\n",
            "['1', '2', '3']\n",
            "['192', '168', '0', '1']\n"
          ],
          "name": "stdout"
        }
      ]
    },
    {
      "cell_type": "code",
      "metadata": {
        "id": "rNbazRMc-mUd",
        "colab": {
          "base_uri": "https://localhost:8080/"
        },
        "outputId": "d76ec5de-87d4-4197-cf3f-b4135c466898"
      },
      "source": [
        "# ############################## — join —  #####################################\n",
        "'''\n",
        "В Питоне можно вывести список строк при помощи однострочной команды. \n",
        "Для этого используется метод строки join. \n",
        " * У этого метода один параметр: список строк. \n",
        "В результате возвращается строка, полученная соединением элементов переданного списка в одну строку, \n",
        "при этом между элементами списка вставляется разделитель, равный той строке, к которой применяется метод. \n",
        "Мы знаем, что вы не поняли предыдущее предложение с первого раза. Поэтому смотрите примеры:\n",
        "'''\n",
        "################################################################################\n",
        "\n",
        "a = ['red','green','blue']\n",
        "print(' '.join(a))\n",
        "print(''.join(a))\n",
        "print('***'.join(a))\n",
        "\n",
        "# Если же список состоит из чисел, то придется использовать еще тёмную магию генераторов. \n",
        "# Вывести элементы списка чисел, разделяя их пробелами, можно так:\n",
        "\n",
        "a = [1, 2, 3, 4, 5]\n",
        "print(' - '.join([str(i) for i in a]))"
      ],
      "execution_count": null,
      "outputs": [
        {
          "output_type": "stream",
          "text": [
            "red green blue\n",
            "redgreenblue\n",
            "red***green***blue\n",
            "1 - 2 - 3 - 4 - 5\n"
          ],
          "name": "stdout"
        }
      ]
    },
    {
      "cell_type": "markdown",
      "metadata": {
        "id": "ictv7vsKBCEG"
      },
      "source": [
        "## **3. Генераторы списков**\n",
        "\n",
        "Для создания списка, заполненного одинаковыми элементами, можно использовать оператор повторения списка, например:"
      ]
    },
    {
      "cell_type": "code",
      "metadata": {
        "id": "nHZvGB3vBK-1",
        "colab": {
          "base_uri": "https://localhost:8080/"
        },
        "outputId": "3c832487-5036-4d97-b9f3-fb81e0a5cc5b"
      },
      "source": [
        "n = 5\n",
        "a = [0]  * n\n",
        "\n",
        "print('n =',n, '; list \\'a = [0]  * n\\' = ',a)"
      ],
      "execution_count": null,
      "outputs": [
        {
          "output_type": "stream",
          "text": [
            "n = 5 ; list 'a = [0]  * n'  : [0, 0, 0, 0, 0]\n"
          ],
          "name": "stdout"
        }
      ]
    },
    {
      "cell_type": "code",
      "metadata": {
        "id": "hrjoM-QgBnDC",
        "colab": {
          "base_uri": "https://localhost:8080/"
        },
        "outputId": "bea7357d-03a8-41e0-e3a9-981461739f41"
      },
      "source": [
        "################ ГЕНЕРАТОР #####################################################\n",
        "# \n",
        "# [выражение for переменная in последовательность] \n",
        "#\n",
        "################################################################################\n",
        "'''\n",
        "где \n",
        " * переменная — идентификатор некоторой переменной, \n",
        " * последовательность — последовательность значений, который принимает данная переменная \n",
        "   (это может быть список, строка или объект, полученный при помощи функции range), \n",
        " * выражение — некоторое выражение, как правило, зависящее от использованной в генераторе переменной, которым будут заполнены элементы списка.\n",
        "\n",
        "Вот несколько примеров использования генераторов.\n",
        "Создать список, состоящий из n нулей можно и при помощи генератора:\n",
        "'''\n",
        "\n",
        "a = [0 for i in range(5)]\n",
        "print(a)\n",
        "\n",
        "n = 5\n",
        "a = [i ** 2 for i in range(1, n + 1)]\n",
        "print(a)\n",
        "\n",
        "# Вот так можно получить список, заполненный случайными числами от 1 до 9 \n",
        "# (используя функцию randrange из модуля random):\n",
        "from random import randrange\n",
        "n = 20\n",
        "a = [randrange(0,11) for i in range(n)]\n",
        "print(a)\n",
        "\n",
        "'''\n",
        "А в этом примере список будет состоять из строк, считанных со стандартного ввода: \n",
        "  сначала нужно ввести число элементов списка (это значение будет использовано в качестве аргумента функции range), \n",
        "  потом — заданное количество строк:\n",
        "'''\n",
        "a = [input() for i in range(int(input()))]\n",
        "print(a)"
      ],
      "execution_count": null,
      "outputs": [
        {
          "output_type": "stream",
          "text": [
            "3\n",
            "4\n",
            "5\n",
            "5\n",
            "['4', '5', '5']\n"
          ],
          "name": "stdout"
        }
      ]
    },
    {
      "cell_type": "markdown",
      "metadata": {
        "id": "7ZlW93AEE8fV"
      },
      "source": [
        "## **4. Срезы**\n",
        "\n",
        "Со списками, так же как и со строками, можно делать срезы.\n",
        "\n",
        "**А именно:**\n",
        "\n",
        "* A[i:j]  срез из j-i элементов A[i], A[i+1], ..., A[j-1].\n",
        "* A[i:j:-1]  срез из i-j элементов A[i], A[i-1], ..., A[j+1] (то есть меняется порядок элементов).\n",
        "\n",
        "* A[i:j:k]  срез с шагом k: A[i], A[i+k], A[i+2*k],... . Если значение k<0, то элементы идут в противоположном порядке.\n",
        "\n",
        "* Каждое из чисел i или j может отсутствовать, что означает “начало строки” или “конец строки”\n",
        "\n",
        "**Списки, в отличии от строк, являются изменяемыми объектами:** \n",
        "* можно отдельному элементу списка присвоить новое значение. \n",
        "* Но можно менять и целиком срезы.\n",
        "\n",
        "Например:"
      ]
    },
    {
      "cell_type": "code",
      "metadata": {
        "id": "tJevyE6AFhpG",
        "colab": {
          "base_uri": "https://localhost:8080/"
        },
        "outputId": "14e90ab4-9792-48b8-8da4-9885f576e4c7"
      },
      "source": [
        "A = [1, 2, 3, 4, 5]\n",
        "print(A)\n",
        "print('A[2:4] = ',A[2:4]) # A[i:j]  срез из j-i элементов A[i], A[i+1], ..., A[j-1].\n",
        "\n",
        "A[2:4] = [7, 8, 9]        # Получится список, у которого вместо двух элементов среза A[2:4] \n",
        "                          # вставлен новый список уже из трех элементов. \n",
        "print(A)                  # Теперь список стал равен [1, 2, 7, 8, 9, 5]\n",
        "\n",
        "A = [1, 2, 3, 4, 5, 6,  7]\n",
        "A[::-2] = [10, 20, 30, 40]\n",
        "\n",
        "print(A)"
      ],
      "execution_count": null,
      "outputs": [
        {
          "output_type": "stream",
          "text": [
            "[40, 2, 30, 4, 20, 6, 10]\n"
          ],
          "name": "stdout"
        }
      ]
    },
    {
      "cell_type": "markdown",
      "metadata": {
        "id": "wbdH2FUrKlr7"
      },
      "source": [
        "**Операции со списками**\n",
        "\n",
        "Со списками можно легко делать много разных операций.\n",
        "\n",
        "* x in A\tПроверить, содержится ли элемент в списке. Возвращает True или False\n",
        "* x not in A\tТо же самое, что not(x in A)\n",
        "* min(A)\tНаименьший элемент списка\n",
        "* max(A)\tНаибольший элемент списка\n",
        "* A.index(x)\tИндекс первого вхождения элемента x в список, при его отсутствии генерирует исключение ValueError\n",
        "* A.count(x)\tКоличество вхождений элемента x в список"
      ]
    },
    {
      "cell_type": "markdown",
      "metadata": {
        "id": "mW-bPVoWK1IW"
      },
      "source": [
        "## **ЗАДАЧИ**"
      ]
    },
    {
      "cell_type": "markdown",
      "metadata": {
        "id": "f9v8serMLBgJ"
      },
      "source": [
        "### [Задача «Четные индексы»](https://pythontutor.ru/lessons/lists/problems/even_indices/)\n"
      ]
    },
    {
      "cell_type": "code",
      "metadata": {
        "colab": {
          "base_uri": "https://localhost:8080/"
        },
        "id": "c57bUvbrLJRj",
        "outputId": "3ff3c058-ba17-4a09-cdb9-ca8ba6e7f8c5"
      },
      "source": [
        "# Условие\n",
        "# Выведите все элементы списка с четными индексами (то есть A[0], A[2], A[4], ...).\n",
        "\n",
        "a = ''.split()\n",
        "a = '1 2 3 4 5'\n",
        "a = '4 5 3 4 2 3'\n",
        "a = '90 45 3 43'\n",
        "a = '40 64 -80 -98 -68 56 85 87 -68 -78'\n",
        "a = '-1 -11 -40 3 -47 -37 -18 -100 6 -29 14 -1 -89 -20 -36 7 5 78 -5 85'\n",
        "a = '-46 35 72 -79 38 -32 1 23 -84 -84 50 -46 -57 -44 72 33 91 -6 88 91 -12 -76 -78 95 63 45 54 13 58 -19 30 48 -98 37 97'\n",
        "\n",
        "a = a.split()\n",
        "\n",
        "\n",
        "print(a)\n",
        "\n",
        "for i in range(0, len(a), 2):\n",
        "  print(a[i])"
      ],
      "execution_count": null,
      "outputs": [
        {
          "output_type": "stream",
          "text": [
            "['-46', '35', '72', '-79', '38', '-32', '1', '23', '-84', '-84', '50', '-46', '-57', '-44', '72', '33', '91', '-6', '88', '91', '-12', '-76', '-78', '95', '63', '45', '54', '13', '58', '-19', '30', '48', '-98', '37', '97']\n",
            "-46\n",
            "72\n",
            "38\n",
            "1\n",
            "-84\n",
            "50\n",
            "-57\n",
            "72\n",
            "91\n",
            "88\n",
            "-12\n",
            "-78\n",
            "63\n",
            "54\n",
            "58\n",
            "30\n",
            "-98\n",
            "97\n"
          ],
          "name": "stdout"
        }
      ]
    },
    {
      "cell_type": "markdown",
      "metadata": {
        "id": "fq_OvDjYOE_j"
      },
      "source": [
        "### [Задача «Четные элементы»](https://pythontutor.ru/lessons/lists/problems/even_elements/)\n",
        "\n",
        "**Условие**\n",
        "* Выведите все четные элементы списка. \n",
        "* При этом используйте цикл for, перебирающий элементы списка, а не их индексы!"
      ]
    },
    {
      "cell_type": "code",
      "metadata": {
        "colab": {
          "base_uri": "https://localhost:8080/"
        },
        "id": "VgGqLkPjOQaE",
        "outputId": "98e47c38-0e2c-4c7e-d47a-fc6f32fcf8ff"
      },
      "source": [
        "a = '1 2 2 3 3 3 4'\n",
        "a = '1 2 3 4 5'\n",
        "a = '44 -51 32 -60 -7 -67 62 91 26 -14'\n",
        "\n",
        "a = a.split()\n",
        "\n",
        "print('list \\'a\\' =', a)\n",
        "print('-------------------------------')\n",
        "\n",
        "# n = len(a)-1\n",
        "\n",
        "for elem in a:\n",
        "  if int(elem) % 2 == 0:\n",
        "    print(elem)\n",
        "\n",
        "  # print(elem, n, n % 2, n // 2)\n",
        "  # n -= 1"
      ],
      "execution_count": null,
      "outputs": [
        {
          "output_type": "stream",
          "text": [
            "list 'a' = ['44', '-51', '32', '-60', '-7', '-67', '62', '91', '26', '-14']\n",
            "-------------------------------\n",
            "44\n",
            "32\n",
            "-60\n",
            "62\n",
            "26\n",
            "-14\n"
          ],
          "name": "stdout"
        }
      ]
    },
    {
      "cell_type": "markdown",
      "metadata": {
        "id": "f2aE7g45rIP_"
      },
      "source": [
        "### [Задача «Больше предыдущего»](https://pythontutor.ru/lessons/lists/problems/increasing_neighbours/)\n",
        "\n",
        "**Условие**\n",
        "* Дан список чисел. \n",
        "* Выведите все элементы списка, которые больше предыдущего элемента.\n",
        "\n",
        "Во всех задачах считывайте входные данные через input() и выводите ответ через print()."
      ]
    },
    {
      "cell_type": "code",
      "metadata": {
        "colab": {
          "base_uri": "https://localhost:8080/"
        },
        "id": "JSB-3C0drSzp",
        "outputId": "b3792158-4350-43af-9277-d49a786579b5"
      },
      "source": [
        "a = '1 5 2 4 3'\n",
        "a = '1 2 3 4 5'\n",
        "a = '5 1 5 1 5'\n",
        "a = '2147483647 0 1 2 3'\n",
        "a = '-9 29 -100 64 26 73 -96 28 -92 11 -14'\n",
        "a = a.split()\n",
        "print('list \\'a\\' =',a, '; len(a) =', len(a))\n",
        "print('---------------------------------------------')\n",
        "\n",
        "print('a[',0,'] = ', a[0], sep ='')\n",
        "for i in range(1, len(a)):\n",
        "  print('a[',i,'] = ', a[i], sep ='')\n",
        "\n",
        "  if a[i] > a[i-1]:\n",
        "    print('detected element ',a[i],' - larger then previous ',a[i-1], sep = '')"
      ],
      "execution_count": null,
      "outputs": [
        {
          "output_type": "stream",
          "text": [
            "list 'a' = ['-9', '29', '-100', '64', '26', '73', '-96', '28', '-92', '11', '-14'] ; len(a) = 11\n",
            "---------------------------------------------\n",
            "a[0] = -9\n",
            "a[1] = 29\n",
            "detected element 29 - larger then previous -9\n",
            "a[2] = -100\n",
            "a[3] = 64\n",
            "detected element 64 - larger then previous -100\n",
            "a[4] = 26\n",
            "a[5] = 73\n",
            "detected element 73 - larger then previous 26\n",
            "a[6] = -96\n",
            "a[7] = 28\n",
            "detected element 28 - larger then previous -96\n",
            "a[8] = -92\n",
            "a[9] = 11\n",
            "detected element 11 - larger then previous -92\n",
            "a[10] = -14\n"
          ],
          "name": "stdout"
        }
      ]
    },
    {
      "cell_type": "markdown",
      "metadata": {
        "id": "TCeh6nXmdi20"
      },
      "source": [
        "### [Задача «Соседи одного знака»](https://pythontutor.ru/lessons/lists/problems/same_sign_neighbours/)\n",
        "\n",
        "**Условие**\n",
        "* Дан список чисел. \n",
        "* Если в нем есть два соседних элемента одного знака, выведите эти числа. \n",
        "* Если соседних элементов одного знака нет — не выводите ничего. \n",
        "* Если таких пар соседей несколько — выведите первую пару.\n",
        "\n",
        "*Во всех задачах считывайте входные данные через input() и выводите ответ через print().*"
      ]
    },
    {
      "cell_type": "code",
      "metadata": {
        "colab": {
          "base_uri": "https://localhost:8080/"
        },
        "id": "x6EzXA-KdwPT",
        "outputId": "e143830c-19fa-4643-bb47-ba79fbd16f39"
      },
      "source": [
        "a = '-1 2 3 -1 -2' # ok\n",
        "a = '1 2 -3 -4 -5' # ok\n",
        "a = '-1 2 -3 4 -5 6' # ok\n",
        "a = '1 -1 1 -1 -1 1 -1 1 -1 1' # ok\n",
        "a = '1 -1 1 -1 1 1 -1 1 -1 1'\n",
        "\n",
        "a = a.split(' ')\n",
        "print('list \\'a\\' =',a, '; len(a) =', len(a))\n",
        "print('---------------------------------------------------')\n",
        "\n",
        "# print('a[',0,'] = ', a[0], sep ='')\n",
        "for i in range(0, len(a)):\n",
        "  a[i] = int(a[i])\n",
        "  print('a[',i,'] = ', a[i], sep ='')\n",
        "\n",
        "  if i > 0 and ( (a[i-1] < 0 and a[i] < 0) or (a[i-1] > 0 and a[i] > 0) ):  # выводит все пары а надо только первую\n",
        "    print('Group detected:', a[i-1], a[i])\n",
        "    break"
      ],
      "execution_count": null,
      "outputs": [
        {
          "output_type": "stream",
          "text": [
            "list 'a' = ['1', '-1', '1', '-1', '1', '1', '-1', '1', '-1', '1'] ; len(a) = 10\n",
            "---------------------------------------------------\n",
            "a[0] = 1\n",
            "a[1] = -1\n",
            "a[2] = 1\n",
            "a[3] = -1\n",
            "a[4] = 1\n",
            "a[5] = 1\n",
            "Group detected: 1 1\n"
          ],
          "name": "stdout"
        }
      ]
    },
    {
      "cell_type": "markdown",
      "metadata": {
        "id": "drG-EBMWiCO_"
      },
      "source": [
        "### [Задача «Больше своих соседей»](https://pythontutor.ru/lessons/lists/problems/more_than_neighbours/)\n",
        "\n",
        "**Условие**\n",
        "* Дан список чисел. \n",
        "* Определите, сколько в этом списке элементов, которые больше двух своих соседей, и выведите количество таких элементов. \n",
        "* Крайние элементы списка никогда не учитываются, поскольку у них недостаточно соседей.\n",
        "\n",
        "*Во всех задачах считывайте входные данные через input() и выводите ответ через print().*"
      ]
    },
    {
      "cell_type": "code",
      "metadata": {
        "colab": {
          "base_uri": "https://localhost:8080/"
        },
        "id": "sOB-lgzdiRKS",
        "outputId": "70150ea4-e6c2-4fa8-e45a-d7c7977dd41d"
      },
      "source": [
        "a = '1 5 1 5 1'\n",
        "a = '5 4 3 2 1'\n",
        "a = '1 5 1 5 1'\n",
        "a = '2147483647 0 1 0 2147483647'\n",
        "\n",
        "a = a.split(' ')\n",
        "print('list \\'a\\' =',a, '; len(a) =', len(a))\n",
        "print('---------------------------------------------------')\n",
        "\n",
        "cnt = int(0)\n",
        "\n",
        "for i in range(len(a)):\n",
        "  print('a[',i,'] = ', a[i], sep ='')\n",
        "  #print('-- if block ----------------------------------------')\n",
        "  #print('Current index = ',i,'. a[', i-1,'] =', a[i-1], ', a[', i,'] = ', a[i], ', a[', i+1,'] = ', a[i+1], sep = '')\n",
        "  #print('-- if block ----------------------------------------')\n",
        "  if (i > 0 and i < len(a) - 1) and ( a[i-1] < a[i] > a[i+1]):\n",
        "    print('       Detected ', a[i])\n",
        "    cnt += 1\n",
        "print('---------------------------------------------------------------')\n",
        "print('Count of numbers that more than two of their neighbors =', cnt)"
      ],
      "execution_count": null,
      "outputs": [
        {
          "output_type": "stream",
          "text": [
            "list 'a' = ['2147483647', '0', '1', '0', '2147483647'] ; len(a) = 5\n",
            "---------------------------------------------------\n",
            "a[0] = 2147483647\n",
            "a[1] = 0\n",
            "a[2] = 1\n",
            "       Detected  1\n",
            "a[3] = 0\n",
            "a[4] = 2147483647\n",
            "---------------------------------------------------------------\n",
            "Count of numbers that more than two of their neighbors = 1\n"
          ],
          "name": "stdout"
        }
      ]
    },
    {
      "cell_type": "markdown",
      "metadata": {
        "id": "xRyjY9aHYEDv"
      },
      "source": [
        "### [Задача «Наибольший элемент»](https://pythontutor.ru/lessons/lists/problems/maximal_element/)\n",
        "\n",
        "**Условие**\n",
        "* Дан список чисел. \n",
        "* Выведите значение наибольшего элемента в списке, а затем индекс этого элемента в списке. \n",
        "* Если наибольших элементов несколько, выведите индекс первого из них.\n",
        "\n",
        "*Во всех задачах считывайте входные данные через input() и выводите ответ через print().*"
      ]
    },
    {
      "cell_type": "code",
      "metadata": {
        "colab": {
          "base_uri": "https://localhost:8080/"
        },
        "id": "0bFf20fEYPrs",
        "outputId": "e233da78-829d-496c-a36a-3f3f5a38ec33"
      },
      "source": [
        "a = '1 2 3 2 1'\n",
        "a = '-1 -2 -3 -4 -5'\n",
        "a = '1 2 3 4 5'\n",
        "a = '-100 -100 -100 -100 -100'\n",
        "a = '-79 92 70 72 28 45 37 -86 -12 0 -27 -14 -69 63 -68 74 45 49 96 -20'\n",
        "\n",
        "a = a.split(' ')\n",
        "print('list \\'a\\' =',a, '; len(a) =', len(a))\n",
        "print('---------------------------------------------------')\n",
        "\n",
        "print('')\n",
        "print('Min element of list a is a[', a.index(min(a)),'] = ',min(a), sep = '')\n",
        "print('Max element of list a is a[', a.index(max(a)),'] = ',max(a), sep = '')\n",
        "\n"
      ],
      "execution_count": null,
      "outputs": [
        {
          "output_type": "stream",
          "text": [
            "list 'a' = ['-79', '92', '70', '72', '28', '45', '37', '-86', '-12', '0', '-27', '-14', '-69', '63', '-68', '74', '45', '49', '96', '-20'] ; len(a) = 20\n",
            "---------------------------------------------------\n",
            "\n",
            "Min element of list a is a[8] = -12\n",
            "Max element of list a is a[18] = 96\n"
          ],
          "name": "stdout"
        }
      ]
    },
    {
      "cell_type": "markdown",
      "metadata": {
        "id": "cejUrHUydnWP"
      },
      "source": [
        "### [Задача «Шеренга»](https://pythontutor.ru/lessons/lists/problems/lineup/)\n",
        "\n",
        "**Условие**\n",
        "\n",
        "Петя перешёл в другую школу. \n",
        "На уроке физкультуры ему понадобилось определить своё место в строю. \n",
        "\n",
        "**Помогите ему это сделать.**\n",
        "\n",
        "* Программа получает на вход невозрастающую последовательность натуральных чисел, означающих рост каждого человека в строю. \n",
        "* После этого вводится число X – рост Пети. \n",
        "* Все числа во входных данных натуральные и не превышают 200.\n",
        "\n",
        "* Выведите номер, под которым Петя должен встать в строй. \n",
        "* Если в строю есть люди с одинаковым ростом, таким же, как у Пети, то он должен встать после них.\n",
        "\n",
        "*Во всех задачах считывайте входные данные через input() и выводите ответ через print().*"
      ]
    },
    {
      "cell_type": "code",
      "metadata": {
        "colab": {
          "base_uri": "https://localhost:8080/"
        },
        "id": "C4aB-4Ypd7Iz",
        "outputId": "ba6c2467-2d83-4028-fe58-ec083dc0e4ac"
      },
      "source": [
        "a = '165 163 160 160 157 157 155 154'\n",
        "\n",
        "pg = int(162)\n",
        "\n",
        "a = a.split(' ')\n",
        "print('list of str \\'a\\' = ',a, '; len(a) = ', len(a), sep ='')\n",
        "print('Peter grows =',pg)\n",
        "\n",
        "\n",
        "# оцифровка списка подсмотрено -------------------------------------------------\n",
        "# desired_array = [int(numeric_string) for numeric_string in current_array]\n",
        "''' Описание генераторов -------------------------------------------------------\n",
        "[выражение for переменная in последовательность]\n",
        "  переменная          — идентификатор некоторой переменной, \n",
        "  последовательность  — последовательность значений, который принимает данная переменная \n",
        "                           (это может быть список, строка или объект, полученный при помощи функции range), \n",
        "  выражение           — некоторое выражение, как правило, зависящее от использованной в генераторе переменной, \n",
        "                            которым будут заполнены элементы списка.\n",
        "--------------------------------------------------------------------------------'''\n",
        "\n",
        "a = [int(elem) for elem in a ]\n",
        "\n",
        "a.append(pg)\n",
        "\n",
        "print('list of num \\'a\\' + pg = ',a, '; len(a) = ', len(a), sep ='')\n",
        "print('------------------------------------------------------------------')\n",
        "\n",
        "\n",
        "# sorting of the list ----------------------------------------------------------\n",
        "'''\n",
        "Быстрая сортировка, сортировка Хоара (англ. quicksort) - https://ru.wikipedia.org/wiki/%D0%91%D1%8B%D1%81%D1%82%D1%80%D0%B0%D1%8F_%D1%81%D0%BE%D1%80%D1%82%D0%B8%D1%80%D0%BE%D0%B2%D0%BA%D0%B0\n",
        "Алгоритм состоит из трёх шагов:\n",
        " 1. Выбрать элемент из массива. Назовём его опорным.\n",
        " 2. Разбиение: перераспределение элементов в массиве таким образом, что \n",
        "      2.1) элементы меньше опорного помещаются перед ним, \n",
        "      2.2) элементы больше или равные после.\n",
        " 3. Рекурсивно применить первые два шага к двум подмассивам слева и справа от опорного элемента. Рекурсия не применяется к массиву, в котором только один элемент или отсутствуют элементы.\n",
        "'''\n",
        "\n",
        "# https://www.youtube.com/watch?v=XssganlbYLw\n",
        "#\n",
        "# 1. Select the pivot - in a middle for a while\n",
        "# 2. define 2 markers - left and right\n",
        "# 3. Partition the subarray. - from 1 to len-1\n",
        "# 4. \n",
        "\n",
        "piv = len(a) // 2\n",
        "n, lf, rt = int(1), (0), len(a)-1\n",
        "cnt_s, lf_s, rt_s = int(0), int(0), int(0)     # switch indicator 1 - wrong place\n",
        "\n",
        "print('Ready to sort! Pivot: a[',piv,'] = ',a[piv], ', left mark = ',lf, ', right mark = ', rt, sep ='')\n",
        "\n",
        "print('------------------------------------------------------------------')\n",
        "\n",
        "while n <= 8: # main sort loop\n",
        "\n",
        "  for i in range(lf, piv):\n",
        "    #print('lf -', i, a[i])\n",
        "    if a[i] > a[piv]:   # left elem on WRONG place\n",
        "      lf_s = 1\n",
        "      lf = i\n",
        "      print('Step ',n,' Candidate to change left a[',lf,'] =', a[lf] , ', lf_s =', lf_s, ', rt_s =', rt_s,  sep ='')\n",
        "      break\n",
        "\n",
        "  for i in range(rt, piv-1, -1):\n",
        "    #print('rt -', i, a[i])\n",
        "    if a[i] <= a[piv]:   # right left elem on WRONG place\n",
        "      rt_s = 1\n",
        "      rt = i\n",
        "      print('Step ',n,' Candidate to change righ a[',rt,'] =', a[rt] , ', rt_s =', rt_s, ', lf_s =', lf_s, sep ='')\n",
        "      break\n",
        "    \n",
        "\n",
        "  # switch candidate step ************************\n",
        "  #if lf_s + rt_s > 1:   # If there are two or left + piv candidates for change\n",
        "  if (lf_s + rt_s > 1) or (lf_s == 1 and rt_s == 0):   # If there are two or left + piv candidates for change\n",
        "    print('------------------------')\n",
        "    print('Step',n,'list  In:', a, lf, lf_s , rt, rt_s)\n",
        "\n",
        "    a[lf], a[rt] = a[rt], a[lf]   # change positions\n",
        "    lf_s, rt_s = 0, 0             # switch off change indicator\n",
        "\n",
        "    print('Step',n,'list Out:',a, lf, lf_s , rt, rt_s)\n",
        "    print('------------------------')\n",
        "  #elif lf_s == 1 and rt_s == 0:\n",
        "   # print('last call')\n",
        "  else:              # If there are only ONE candidate for change\n",
        "    print('The First trace is done! lf = ', lf ,', rt = ', rt, sep ='')\n",
        "    lf, rt = 0, 0\n",
        "    break\n",
        "\n",
        "  n += 1\n",
        "\n",
        "print('------------------------------------------------------------------')"
      ],
      "execution_count": null,
      "outputs": [
        {
          "output_type": "stream",
          "text": [
            "list of str 'a' = ['165', '163', '160', '160', '157', '157', '155', '154']; len(a) = 8\n",
            "Peter grows = 162\n",
            "list of num 'a' + pg = [165, 163, 160, 160, 157, 157, 155, 154, 162]; len(a) = 9\n",
            "------------------------------------------------------------------\n",
            "Ready to sort! Pivot: a[4] = 157, left mark = 0, right mark = 8\n",
            "------------------------------------------------------------------\n",
            "Step 1 Candidate to change left a[0] =165, lf_s =1, rt_s =0\n",
            "Step 1 Candidate to change righ a[7] =154, rt_s =1, lf_s =1\n",
            "------------------------\n",
            "Step 1 list  In: [165, 163, 160, 160, 157, 157, 155, 154, 162] 0 1 7 1\n",
            "Step 1 list Out: [154, 163, 160, 160, 157, 157, 155, 165, 162] 0 0 7 0\n",
            "------------------------\n",
            "Step 2 Candidate to change left a[1] =163, lf_s =1, rt_s =0\n",
            "Step 2 Candidate to change righ a[6] =155, rt_s =1, lf_s =1\n",
            "------------------------\n",
            "Step 2 list  In: [154, 163, 160, 160, 157, 157, 155, 165, 162] 1 1 6 1\n",
            "Step 2 list Out: [154, 155, 160, 160, 157, 157, 163, 165, 162] 1 0 6 0\n",
            "------------------------\n",
            "Step 3 Candidate to change left a[2] =160, lf_s =1, rt_s =0\n",
            "Step 3 Candidate to change righ a[5] =157, rt_s =1, lf_s =1\n",
            "------------------------\n",
            "Step 3 list  In: [154, 155, 160, 160, 157, 157, 163, 165, 162] 2 1 5 1\n",
            "Step 3 list Out: [154, 155, 157, 160, 157, 160, 163, 165, 162] 2 0 5 0\n",
            "------------------------\n",
            "Step 4 Candidate to change left a[3] =160, lf_s =1, rt_s =0\n",
            "Step 4 Candidate to change righ a[4] =157, rt_s =1, lf_s =1\n",
            "------------------------\n",
            "Step 4 list  In: [154, 155, 157, 160, 157, 160, 163, 165, 162] 3 1 4 1\n",
            "Step 4 list Out: [154, 155, 157, 157, 160, 160, 163, 165, 162] 3 0 4 0\n",
            "------------------------\n",
            "Step 5 Candidate to change righ a[4] =160, rt_s =1, lf_s =0\n",
            "The First trace is done! lf = 3, rt = 4\n",
            "------------------------------------------------------------------\n"
          ],
          "name": "stdout"
        }
      ]
    },
    {
      "cell_type": "code",
      "metadata": {
        "colab": {
          "base_uri": "https://localhost:8080/"
        },
        "id": "0TmBBZCql7Zm",
        "outputId": "bd969976-b39e-4abe-f1ee-770d3b501885"
      },
      "source": [
        "# НАДО БЫЛО РЕШАТЬ БЕЗ!!!!!! СОРТИРОВКИ БЛЯЯЯЯЯЯЯЯЯ!!!!!! ТРИ ЧАСА УБИЛ Н ЭТОТ QuickSort!!!!!\n",
        "\n",
        "# Выведите номер, под которым Петя должен встать в строй. \n",
        "# Если в строю есть люди с одинаковым ростом, таким же, как у Пети, то он должен встать после них.\n",
        "a = '165 163 160 160 157 157 155 154'\n",
        "a = '39 35 32 32 31 28 28 27 25 24 20 16 16 12 10'\n",
        "a = '36 34 34 34 34 31 31 29 25 22 19 17 16 14 14 11'\n",
        "a = '151 149 148 148 146 142 142 141 139 137 135 132 132 130 129 126 123 123 123 121 121 121 117 115 113 112 112 111 111 111 111 107 104 101 97 93 90 90 88 88 87 83 82 79 79 77 73 73 72 70 67 65 64 61 60 60 59 55 55 54 52 51 47 47 43 41 39 37 35 31 28 25 23 23 22 19'\n",
        "\n",
        "pg = int(117)\n",
        "\n",
        "a = a.split(' ')\n",
        "print('list of str \\'a\\' = ',a, '; len(a) = ', len(a), sep ='')\n",
        "\n",
        "# оцифровка списка подсмотрено -------------------------------------------------\n",
        "# desired_array = [int(numeric_string) for numeric_string in current_array]\n",
        "''' Описание генераторов -------------------------------------------------------\n",
        "[выражение for переменная in последовательность]\n",
        "  переменная          — идентификатор некоторой переменной, \n",
        "  последовательность  — последовательность значений, который принимает данная переменная \n",
        "                           (это может быть список, строка или объект, полученный при помощи функции range), \n",
        "  выражение           — некоторое выражение, как правило, зависящее от использованной в генераторе переменной, \n",
        "                            которым будут заполнены элементы списка.\n",
        "--------------------------------------------------------------------------------'''\n",
        "\n",
        "a = [int(elem) for elem in a ]\n",
        "\n",
        "# a.append(pg)\n",
        "\n",
        "print('list of num \\'a\\' = ',a, '; len(a) = ', len(a), sep ='')\n",
        "print('Peter grows =', pg)\n",
        "\n",
        "print('------------------------------------------------------------------')\n",
        "cnt = int(1)\n",
        "\n",
        "for i in range(len(a)):\n",
        "  #print(a[i])\n",
        "  if pg <= a[i]:\n",
        "    cnt += 1\n",
        "print(cnt)\n"
      ],
      "execution_count": null,
      "outputs": [
        {
          "output_type": "stream",
          "text": [
            "list of str 'a' = ['151', '149', '148', '148', '146', '142', '142', '141', '139', '137', '135', '132', '132', '130', '129', '126', '123', '123', '123', '121', '121', '121', '117', '115', '113', '112', '112', '111', '111', '111', '111', '107', '104', '101', '97', '93', '90', '90', '88', '88', '87', '83', '82', '79', '79', '77', '73', '73', '72', '70', '67', '65', '64', '61', '60', '60', '59', '55', '55', '54', '52', '51', '47', '47', '43', '41', '39', '37', '35', '31', '28', '25', '23', '23', '22', '19']; len(a) = 76\n",
            "list of num 'a' = [151, 149, 148, 148, 146, 142, 142, 141, 139, 137, 135, 132, 132, 130, 129, 126, 123, 123, 123, 121, 121, 121, 117, 115, 113, 112, 112, 111, 111, 111, 111, 107, 104, 101, 97, 93, 90, 90, 88, 88, 87, 83, 82, 79, 79, 77, 73, 73, 72, 70, 67, 65, 64, 61, 60, 60, 59, 55, 55, 54, 52, 51, 47, 47, 43, 41, 39, 37, 35, 31, 28, 25, 23, 23, 22, 19]; len(a) = 76\n",
            "Peter grows = 117\n",
            "------------------------------------------------------------------\n",
            "24\n"
          ],
          "name": "stdout"
        }
      ]
    },
    {
      "cell_type": "markdown",
      "metadata": {
        "id": "AV5zAMLoo6G9"
      },
      "source": [
        "### [Задача «Количество различных элементов»](https://pythontutor.ru/lessons/lists/problems/num_distinct/)\n",
        "\n",
        "**Условие**\n",
        "* Дан список, упорядоченный по неубыванию элементов в нем. \n",
        "* Определите, сколько в нем различных элементов.\n",
        "\n",
        "*Во всех задачах считывайте входные данные через input() и выводите ответ через print().*"
      ]
    },
    {
      "cell_type": "code",
      "metadata": {
        "id": "WgbOAADppDl4",
        "colab": {
          "base_uri": "https://localhost:8080/"
        },
        "outputId": "4560cfd5-18fc-4b58-f5e8-6cac66b13ee4"
      },
      "source": [
        "a = '1 2 2 3 3 3'\n",
        "# a = '2 2 2'\n",
        "a = '1 2 3 4 5'\n",
        "#a = '-64 -45 -38 -16 -14 -7 2 53 70 80'\n",
        "a = '-98 -97 -95 -95 -94 -92 -88 -88 -85 -85 -83 -82 -81 -80 -77 -75 -72 -67 -63 -63 -60 -58 -56 -54 -52 -47 -46 -45 -45 -44 -41 -40 -37 -30 -28 -28 -28 -28 -28 -24 -24 -24 -20 -17 -16 -16 -16 -16 -15 -12 -3 -1 -1 -1 1 13 16 17 19 26 26 30 33 40 47 50 52 53 53 54 56 56 57 57 58 60 62 63 64 71 71 72 73 75 75 79 79 80 81 81 82 83 86 86 87 89 90 93 97 98'\n",
        "\n",
        "a = a.split(' ')\n",
        "\n",
        "# оцифровка генератором: [выражение for переменная in последовательность]\n",
        "print(a)\n",
        "a = [int(i) for i in a]\n",
        "print(a)\n",
        "\n",
        "#cnt = [(if a[i-1]) for i in range(1, len(a))]\n",
        "\n",
        "cnt_dif = int(1)\n",
        "\n",
        "for i in range(1, len(a)):\n",
        "  if a[i-1] != a[i]:\n",
        "    cnt_dif += 1\n",
        "  #print(a[i-1], a[i], cnt_dif) # a[i] % a[i-1])\n",
        "print('List a contains ',cnt_dif,' different elements', sep = '')"
      ],
      "execution_count": null,
      "outputs": [
        {
          "output_type": "stream",
          "text": [
            "['-98', '-97', '-95', '-95', '-94', '-92', '-88', '-88', '-85', '-85', '-83', '-82', '-81', '-80', '-77', '-75', '-72', '-67', '-63', '-63', '-60', '-58', '-56', '-54', '-52', '-47', '-46', '-45', '-45', '-44', '-41', '-40', '-37', '-30', '-28', '-28', '-28', '-28', '-28', '-24', '-24', '-24', '-20', '-17', '-16', '-16', '-16', '-16', '-15', '-12', '-3', '-1', '-1', '-1', '1', '13', '16', '17', '19', '26', '26', '30', '33', '40', '47', '50', '52', '53', '53', '54', '56', '56', '57', '57', '58', '60', '62', '63', '64', '71', '71', '72', '73', '75', '75', '79', '79', '80', '81', '81', '82', '83', '86', '86', '87', '89', '90', '93', '97', '98']\n",
            "[-98, -97, -95, -95, -94, -92, -88, -88, -85, -85, -83, -82, -81, -80, -77, -75, -72, -67, -63, -63, -60, -58, -56, -54, -52, -47, -46, -45, -45, -44, -41, -40, -37, -30, -28, -28, -28, -28, -28, -24, -24, -24, -20, -17, -16, -16, -16, -16, -15, -12, -3, -1, -1, -1, 1, 13, 16, 17, 19, 26, 26, 30, 33, 40, 47, 50, 52, 53, 53, 54, 56, 56, 57, 57, 58, 60, 62, 63, 64, 71, 71, 72, 73, 75, 75, 79, 79, 80, 81, 81, 82, 83, 86, 86, 87, 89, 90, 93, 97, 98]\n",
            "List a contains 75 different elements\n"
          ],
          "name": "stdout"
        }
      ]
    },
    {
      "cell_type": "markdown",
      "metadata": {
        "id": "YZyp3HZ7loot"
      },
      "source": [
        "### [Задача «Переставить соседние»](https://pythontutor.ru/lessons/lists/problems/swap_neighbours/)\n",
        "\n",
        "**Условие**\n",
        "* Переставьте соседние элементы списка (A[0] c A[1], A[2] c A[3] и т. д.). \n",
        "* Если элементов нечетное число, то последний элемент остается на своем месте.\n",
        "\n",
        "*Во всех задачах считывайте входные данные через input() и выводите ответ через print().*"
      ]
    },
    {
      "cell_type": "code",
      "metadata": {
        "colab": {
          "base_uri": "https://localhost:8080/"
        },
        "id": "znuS7M75lzhg",
        "outputId": "7e0da524-48a6-45c9-b726-f42b797dd53d"
      },
      "source": [
        "a = '1 2 3 4 5'       # answewr - 2 1 4 3 5\n",
        "a = '4 5 3 4 2 3'     # answewr - 5 4 4 3 3 2\n",
        "a = '40 64 -80 -98 -68 56 85 87 -68 -78'  # answer \n",
        "\n",
        "a = a.split(' ')\n",
        "print(a)\n",
        "a = [int(i) for i in a]\n",
        "print(a, 'len(a) =', len(a))\n",
        "\n",
        "for i in range(len(a)):\n",
        "  print('a[',i,'] =', a[i], sep ='')\n",
        "  \n",
        "  if (i % 2): \n",
        "    print('Step: ',i,'. It\\'s time to change: a[',i,'] = ', a[i], ' and a[',i-1,'] = ', a[i-1], sep = '')\n",
        "    #print(a[i-1 : i+1],  a[-5 : -3 ], a[-4 : -5 - 1 : -1 ], a[ i - len(a) : i - len(a) -2 : -1])\n",
        "    #print(a[i-1], a[i])\n",
        "    a[i-1 : i+1] = a[ i - len(a) : i - len(a) -2 : -1]\n",
        "    #print(a)\n",
        "print('-------------------------------------------------------------------------')\n",
        "print(a)\n",
        "  \n"
      ],
      "execution_count": null,
      "outputs": [
        {
          "output_type": "stream",
          "text": [
            "['40', '64', '-80', '-98', '-68', '56', '85', '87', '-68', '-78']\n",
            "[40, 64, -80, -98, -68, 56, 85, 87, -68, -78] len(a) = 10\n",
            "a[0] =40\n",
            "a[1] =64\n",
            "Step: 1. It's time to change: a[1] = 64 and a[0] = 40\n",
            "a[2] =-80\n",
            "a[3] =-98\n",
            "Step: 3. It's time to change: a[3] = -98 and a[2] = -80\n",
            "a[4] =-68\n",
            "a[5] =56\n",
            "Step: 5. It's time to change: a[5] = 56 and a[4] = -68\n",
            "a[6] =85\n",
            "a[7] =87\n",
            "Step: 7. It's time to change: a[7] = 87 and a[6] = 85\n",
            "a[8] =-68\n",
            "a[9] =-78\n",
            "Step: 9. It's time to change: a[9] = -78 and a[8] = -68\n",
            "-------------------------------------------------------------------------\n",
            "[64, 40, -98, -80, 56, -68, 87, 85, -78, -68]\n"
          ],
          "name": "stdout"
        }
      ]
    },
    {
      "cell_type": "code",
      "metadata": {
        "colab": {
          "base_uri": "https://localhost:8080/"
        },
        "id": "uXBj8SlltgpX",
        "outputId": "f1cfc973-0fc8-49cc-a6a3-f78b808af771"
      },
      "source": [
        "# ------------------------------------------------------------------------------ \n",
        "''' Задача «Переставить min и max»\n",
        "\n",
        "Условие\n",
        "* В списке все элементы различны. \n",
        "* Поменяйте местами минимальный и максимальный элемент этого списка.\n",
        "Во всех задачах считывайте входные данные через input() и выводите ответ через print().\n",
        "'''\n",
        "\n",
        "a = '3 4 5 2 1'       # answewr - 3 4 1 2 5\n",
        "a = '1 5 4 3 2'   # 5 1 4 3 2\n",
        "a = '1 2 3 4 5 6 7 8 9 10 11 12 13 14 15 16 17 18 17 16 15 14' # \n",
        "\n",
        "\n",
        "a = a.split(' ')\n",
        "print('list str \\'a\\': ',a, ', len(a) =', len(a))\n",
        "\n",
        "a = [int(i) for i in a]\n",
        "print('list int \\'a\\': ',a, ', len(a) =', len(a))\n",
        "\n",
        "print('------------------------------------------------------------------------')\n",
        "print('min(a) =',min(a), ', index min =', a.index(min(a)), 'max(a) =',max(a) , ', index max =', a.index(max(a)))\n",
        "\n",
        "#print(a[0], a[1])\n",
        "\n",
        "amax = a.index(max(a))\n",
        "amin = a.index(min(a))\n",
        "\n",
        "#print(amax, amin)\n",
        "\n",
        "print(a)\n",
        "a[amin], a[amax] = a[amax], a[amin]\n",
        "#print(a[0], a[1])\n",
        "\n",
        "#print(a[a.index(min(a))], a[a.index(max(a))])\n",
        "print(a)\n"
      ],
      "execution_count": null,
      "outputs": [
        {
          "output_type": "stream",
          "text": [
            "list str 'a':  ['1', '2', '3', '4', '5', '6', '7', '8', '9', '10', '11', '12', '13', '14', '15', '16', '17', '18', '17', '16', '15', '14'] , len(a) = 22\n",
            "list int 'a':  [1, 2, 3, 4, 5, 6, 7, 8, 9, 10, 11, 12, 13, 14, 15, 16, 17, 18, 17, 16, 15, 14] , len(a) = 22\n",
            "------------------------------------------------------------------------\n",
            "min(a) = 1 , index min = 0 max(a) = 18 , index max = 17\n",
            "[1, 2, 3, 4, 5, 6, 7, 8, 9, 10, 11, 12, 13, 14, 15, 16, 17, 18, 17, 16, 15, 14]\n",
            "[18, 2, 3, 4, 5, 6, 7, 8, 9, 10, 11, 12, 13, 14, 15, 16, 17, 1, 17, 16, 15, 14]\n"
          ],
          "name": "stdout"
        }
      ]
    },
    {
      "cell_type": "markdown",
      "metadata": {
        "id": "zfosn7YGzwlS"
      },
      "source": [
        "### [Задача «Удалить элемент»](https://pythontutor.ru/lessons/lists/problems/remove_element/)\n",
        "\n",
        "**Условие**\n",
        "\n",
        "* Дан список из чисел и индекс элемента в списке k. \n",
        "* Удалите из списка элемент с индексом k, сдвинув влево все элементы, стоящие правее элемента с индексом k.\n",
        "\n",
        "1. Программа получает на вход список, затем число k. \n",
        "1. Программа сдвигает все элементы, а после этого удаляет последний элемент списка при помощи метода pop() без параметров.\n",
        "\n",
        "* Программа должна осуществлять сдвиг непосредственно в списке, а не делать это при выводе элементов. \n",
        "* Также нельзя использовать дополнительный список. \n",
        "* Также не следует использовать метод pop(k) с параметром.\n",
        "\n",
        "*Во всех задачах считывайте входные данные через input() и выводите ответ через print().*"
      ]
    },
    {
      "cell_type": "code",
      "metadata": {
        "colab": {
          "base_uri": "https://localhost:8080/"
        },
        "id": "bR6Qcq7m0Iuq",
        "outputId": "ea7f45b5-0b54-4841-d77c-e6d51d7c24a4"
      },
      "source": [
        "a = '7 6 5 4 3 2 1'       # answewr - 7 6 4 3 2 1\n",
        "\n",
        "idx = 2\n",
        "# Split & Digitize the list 'a' ------------------------\n",
        "a = a.split(' ')\n",
        "print('list str \\'a\\': ',a, ', len(a) =', len(a))\n",
        "\n",
        "a = [int(i) for i in a]\n",
        "print('list int \\'a\\': ',a, ', len(a) =', len(a))\n",
        "# -------------------------------------------------------\n",
        "print('Idx = ',idx, ', a[',idx,'] = ',a[idx], sep ='')\n",
        "\n",
        "\n",
        "print('------------------------------------------------------------------------')\n",
        "print(a[0 : idx], '+', a[idx +1 :], '= ', end = '')\n",
        "\n",
        "a = a[0 : idx] + a[idx +1 :]\n",
        "\n",
        "print(a)"
      ],
      "execution_count": null,
      "outputs": [
        {
          "output_type": "stream",
          "text": [
            "list str 'a':  ['7', '6', '5', '4', '3', '2', '1'] , len(a) = 7\n",
            "list int 'a':  [7, 6, 5, 4, 3, 2, 1] , len(a) = 7\n",
            "Idx = 2, a[2] = 5\n",
            "------------------------------------------------------------------------\n",
            "[7, 6] + [4, 3, 2, 1] = [7, 6, 4, 3, 2, 1]\n"
          ],
          "name": "stdout"
        }
      ]
    },
    {
      "cell_type": "markdown",
      "metadata": {
        "id": "lW5NH00o1vBZ"
      },
      "source": [
        "### [Задача «Вставить элемент»](https://pythontutor.ru/lessons/lists/problems/insert_element/)\n",
        "\n",
        "**Условие**\n",
        "\n",
        "* Дан список целых чисел, число k и значение C. \n",
        "* Необходимо вставить в список на позицию с индексом k элемент, равный C, сдвинув все элементы, имевшие индекс не менее k, вправо.\n",
        "* Поскольку при этом количество элементов в списке увеличивается, после считывания списка в его конец нужно будет добавить новый элемент, используя метод append.\n",
        "\n",
        "*Вставку необходимо осуществлять уже в считанном списке, не делая этого при выводе и не создавая дополнительного списка.*\n",
        "\n",
        "Во всех задачах считывайте входные данные через input() и выводите ответ через print()."
      ]
    },
    {
      "cell_type": "code",
      "metadata": {
        "colab": {
          "base_uri": "https://localhost:8080/"
        },
        "id": "0W-ylSYk1ulB",
        "outputId": "72fcc442-6798-4e5b-d46e-c37a72374287"
      },
      "source": [
        "a = '7 6 5 4 3 2 1'              # answewr - 7 6 0 5 4 3 2 1     2 0\n",
        "a = '4 6 2 4 3 5 12 24 3 5'      # answewr - 4 6 2 4 22 3 5 12 24 3 5   4 22\n",
        "\n",
        "idx  = int(4)     # число k\n",
        "elem = int(22)     # значение C\n",
        "# Split & Digitize the list 'a' ------------------------\n",
        "a = a.split(' ')\n",
        "print('list str \\'a\\': ',a, ', len(a) =', len(a))\n",
        "\n",
        "a = [int(i) for i in a]\n",
        "print('list int \\'a\\': ',a, ', len(a) =', len(a))\n",
        "# -------------------------------------------------------\n",
        "print('Idx = ',idx, ', elem = ',elem, sep ='')\n",
        "\n",
        "print('------------------------------------------------------------------------')\n",
        "\n",
        "\n",
        "# Decision through slices ************************************\n",
        "print(a[:idx])\n",
        "\n",
        "for i in range(len(a)):\n",
        "  print('a[',i,'] =', a[i], sep ='')\n",
        "  if i == idx:\n",
        "    print('time to append')\n",
        "    a[:idx] = a[:idx] + [elem]\n",
        "print(a)\n",
        "print('-------------------------------------------------------------------------')\n",
        "\n",
        "# Decision through append ************************************\n",
        "# а зачем ???"
      ],
      "execution_count": null,
      "outputs": [
        {
          "output_type": "stream",
          "text": [
            "list str 'a':  ['4', '6', '2', '4', '3', '5', '12', '24', '3', '5'] , len(a) = 10\n",
            "list int 'a':  [4, 6, 2, 4, 3, 5, 12, 24, 3, 5] , len(a) = 10\n",
            "Idx = 4, elem = 22\n",
            "------------------------------------------------------------------------\n",
            "[4, 6, 2, 4]\n",
            "a[0] =4\n",
            "a[1] =6\n",
            "a[2] =2\n",
            "a[3] =4\n",
            "a[4] =3\n",
            "time to append\n",
            "a[5] =3\n",
            "a[6] =5\n",
            "a[7] =12\n",
            "a[8] =24\n",
            "a[9] =3\n",
            "[4, 6, 2, 4, 22, 3, 5, 12, 24, 3, 5]\n",
            "-------------------------------------------------------------------------\n"
          ],
          "name": "stdout"
        }
      ]
    },
    {
      "cell_type": "markdown",
      "metadata": {
        "id": "GTBmo-GF0wn2"
      },
      "source": [
        "### [Задача «Количество совпадающих пар»](https://pythontutor.ru/lessons/lists/problems/num_equal_pairs/)\n",
        "\n",
        "**Условие**\n",
        "\n",
        "* Дан список чисел. \n",
        "* Посчитайте, сколько в нем пар элементов, равных друг другу. \n",
        "* Считается, что любые два элемента, равные друг другу образуют одну пару, которую необходимо посчитать.\n",
        "\n",
        "*Во всех задачах считывайте входные данные через input() и выводите ответ через print().*"
      ]
    },
    {
      "cell_type": "code",
      "metadata": {
        "colab": {
          "base_uri": "https://localhost:8080/"
        },
        "id": "myxPG7r606J0",
        "outputId": "d251f872-69e1-473d-e430-3bf74edf3472"
      },
      "source": [
        "a = '1 2 3 2 3'      # answewr:  2\n",
        "a = '1 1 1 1 1'\n",
        "\n",
        "cnt = int(0)\n",
        "# Split & Digitize the list 'a' ------------------------\n",
        "a = a.split(' ')\n",
        "print('list str \\'a\\': ',a, ', len(a) =', len(a))\n",
        "\n",
        "a = [int(i) for i in a]\n",
        "print('list int \\'a\\': ',a, ', len(a) =', len(a))\n",
        "# -------------------------------------------------------\n",
        "\n",
        "print('------------------------------------------------------------------------')\n",
        "for i in range(len(a)):\n",
        "  print('Search for a[',i,'] = ', a[i], ' ------------------', sep ='')\n",
        "  for j in range(i + 1, len(a)):\n",
        "    print('Check: a[',i,']: ',a[i],' = a[',j,']: ',a[j], sep = '')\n",
        "    if a[i] == a[j]:\n",
        "      cnt += 1\n",
        "      print('Found!', cnt)\n",
        "      \n",
        "print(cnt)\n"
      ],
      "execution_count": null,
      "outputs": [
        {
          "output_type": "stream",
          "text": [
            "list str 'a':  ['1', '1', '1', '1', '1'] , len(a) = 5\n",
            "list int 'a':  [1, 1, 1, 1, 1] , len(a) = 5\n",
            "------------------------------------------------------------------------\n",
            "Search for a[0] = 1 ------------------\n",
            "Check: a[0]: 1 = a[1]: 1\n",
            "Found! 1\n",
            "Check: a[0]: 1 = a[2]: 1\n",
            "Found! 2\n",
            "Check: a[0]: 1 = a[3]: 1\n",
            "Found! 3\n",
            "Check: a[0]: 1 = a[4]: 1\n",
            "Found! 4\n",
            "Search for a[1] = 1 ------------------\n",
            "Check: a[1]: 1 = a[2]: 1\n",
            "Found! 5\n",
            "Check: a[1]: 1 = a[3]: 1\n",
            "Found! 6\n",
            "Check: a[1]: 1 = a[4]: 1\n",
            "Found! 7\n",
            "Search for a[2] = 1 ------------------\n",
            "Check: a[2]: 1 = a[3]: 1\n",
            "Found! 8\n",
            "Check: a[2]: 1 = a[4]: 1\n",
            "Found! 9\n",
            "Search for a[3] = 1 ------------------\n",
            "Check: a[3]: 1 = a[4]: 1\n",
            "Found! 10\n",
            "Search for a[4] = 1 ------------------\n",
            "10\n"
          ],
          "name": "stdout"
        }
      ]
    },
    {
      "cell_type": "markdown",
      "metadata": {
        "id": "_dsSI7_O4QZA"
      },
      "source": [
        "### [Задача «Уникальные элементы»](https://pythontutor.ru/lessons/lists/problems/unique_elements/)\n",
        "\n",
        "**Условие**\n",
        "* Дан список.\n",
        "* Выведите те его элементы, которые встречаются в списке только один раз. \n",
        "* Элементы нужно выводить в том порядке, в котором они встречаются в списке.\n",
        "\n",
        "*Во всех задачах считывайте входные данные через input() и выводите ответ через print().*"
      ]
    },
    {
      "cell_type": "code",
      "metadata": {
        "colab": {
          "base_uri": "https://localhost:8080/"
        },
        "id": "tvul-i_u4aPZ",
        "outputId": "e56a8ff1-38fd-475e-ff9b-9bcaf06d1a1f"
      },
      "source": [
        "a = '1 2 2 3 3 3'      # answewr:  1\n",
        "a = '4 3 5 2 5 1 3 5'\n",
        "a = '6 9 6 23 12 19 14 26'\n",
        "\n",
        "cnt = int(0)\n",
        "# Split & Digitize the list 'a' ------------------------\n",
        "a = a.split(' ')\n",
        "print('list str \\'a\\': ',a, ', len(a) =', len(a))\n",
        "\n",
        "a = [int(i) for i in a]\n",
        "print('list int \\'a\\': ',a, ', len(a) =', len(a))\n",
        "# -------------------------------------------------------\n",
        "\n",
        "print('------------------------------------------------------------------------')\n",
        "\n",
        "\n",
        "for i in range(len(a)):\n",
        "  # print('Search for a[',i,'] = ', a[i], ' ------------------', sep ='')\n",
        "  if a.count(a[i]) == 1:\n",
        "    print(a[i],' ',sep = '', end = '')\n",
        "\n"
      ],
      "execution_count": null,
      "outputs": [
        {
          "output_type": "stream",
          "text": [
            "list str 'a':  ['6', '9', '6', '23', '12', '19', '14', '26'] , len(a) = 8\n",
            "list int 'a':  [6, 9, 6, 23, 12, 19, 14, 26] , len(a) = 8\n",
            "------------------------------------------------------------------------\n",
            "9 23 12 19 14 26 "
          ],
          "name": "stdout"
        }
      ]
    },
    {
      "cell_type": "markdown",
      "metadata": {
        "id": "01s-NbV87pe4"
      },
      "source": [
        "### [Задача «Кегельбан»](https://pythontutor.ru/lessons/lists/problems/kegelbahn/)\n",
        "\n",
        "**Условие**\n",
        "\n",
        "* **N** кеглей выставили в один ряд, занумеровав их слева направо числами от **1 до N**. \n",
        "* Затем по этому ряду бросили **K** шаров, при этом i-й шар сбил все кегли с номерами от **li** до **ri** включительно. \n",
        "* Определите, какие кегли остались стоять на месте.\n",
        "\n",
        "1. Программа получает на вход количество кеглей **N** и количество бросков **K**. \n",
        "1. Далее идет **K** пар чисел **li**, **ri**, при этом **1 ≤ li ≤ ri ≤ N**.\n",
        "\n",
        "* Программа должна вывести последовательность из N символов, где j-й символ есть “I”, если j-я кегля осталась стоять, или “.”, если j-я кегля была сбита.\n",
        "\n",
        "*Во всех задачах считывайте входные данные через input() и выводите ответ через print().*"
      ]
    },
    {
      "cell_type": "code",
      "metadata": {
        "colab": {
          "base_uri": "https://localhost:8080/"
        },
        "id": "cV23297G8LR6",
        "outputId": "b8b03a82-383c-4481-c2f8-d7fc4e41e89d"
      },
      "source": [
        "print('Rnter number of skittles: ', end = '')\n",
        "Nkeg  = int(input())\n",
        "\n",
        "print('Rnter number of Throws: ', end = '')\n",
        "Kbros = int(input())\n",
        "\n",
        "# Put the pins by generator - [выражение for переменная in последовательность]\n",
        "skittles = ['I' for i in range(Nkeg)]\n",
        "print('Skittles: ',' '.join(skittles), ', lenght a = ',len(skittles))\n",
        "\n",
        "\n",
        "# lets play\n",
        "for i in range(Kbros):\n",
        "  print('Ball throw - ', i+1 ,' knocked the pins from: Left to Right: ', sep ='', end ='')\n",
        "  \n",
        "  hit = [int(s) for s in input().split(' ')]\n",
        "  #print('hit = ', hit, ' li = ',hit[0], ', ri = ',hit[1],  sep ='')\n",
        "\n",
        "  print('skittles from ', hit[0] ,' to ', hit[1], 'where knocked down')\n",
        "  #skittles[hit[0] : hit[1]] = \n",
        "\n",
        "  for j in range(hit[0]-1, hit[1]):\n",
        "    print('skittles[', j ,'] = ',skittles[j])\n",
        "    skittles[j] = '.'\n",
        "  print(' '.join(skittles))\n",
        "\n",
        "print('-----------------------------------------------------------------')\n",
        "print('Result of the game: ',' '.join(skittles))\n"
      ],
      "execution_count": null,
      "outputs": [
        {
          "output_type": "stream",
          "text": [
            "Rnter number of skittles: 10\n",
            "Rnter number of Throws: 3\n",
            "Skittles:  I I I I I I I I I I , lenght a =  10\n",
            "Ball throw - 1 knocked the pins from: Left to Right: 3 5\n",
            "skittles from  3  to  5 where knocked down\n",
            "skittles[ 2 ] =  I\n",
            "skittles[ 3 ] =  I\n",
            "skittles[ 4 ] =  I\n",
            "I I . . . I I I I I\n",
            "Ball throw - 2 knocked the pins from: Left to Right: 4 6\n",
            "skittles from  4  to  6 where knocked down\n",
            "skittles[ 3 ] =  .\n",
            "skittles[ 4 ] =  .\n",
            "skittles[ 5 ] =  I\n",
            "I I . . . . I I I I\n",
            "Ball throw - 3 knocked the pins from: Left to Right: 10 10\n",
            "skittles from  10  to  10 where knocked down\n",
            "skittles[ 9 ] =  I\n",
            "I I . . . . I I I .\n",
            "-----------------------------------------------------------------\n",
            "Result of the game:  I I . . . . I I I .\n"
          ],
          "name": "stdout"
        }
      ]
    },
    {
      "cell_type": "markdown",
      "metadata": {
        "id": "1rIPzbdzCgDh"
      },
      "source": [
        "### [Задача «Ферзи»](https://pythontutor.ru/lessons/lists/problems/lists_queens/)\n",
        "\n",
        "**Условие**\n",
        "* Известно, что на доске 8×8 можно расставить 8 ферзей так, чтобы они не били друг друга. \n",
        "* Вам дана расстановка 8 ферзей на доске, определите, есть ли среди них пара бьющих друг друга.\n",
        "\n",
        "1. Программа получает на вход восемь пар чисел, каждое число от 1 до 8 — координаты 8 ферзей. \n",
        "1. Если ферзи не бьют друг друга, выведите слово NO, иначе выведите YES.\n",
        "\n",
        "*Во всех задачах считывайте входные данные через input() и выводите ответ через print().*\n",
        "\n",
        "[Задача о восьми ферзях / Математика на шахматной доске](https://forany.xyz/a-16?pg=11)\n",
        "![Chess Board.jpg](data:image/jpeg;base64,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)\n"
      ]
    },
    {
      "cell_type": "code",
      "metadata": {
        "colab": {
          "base_uri": "https://localhost:8080/"
        },
        "id": "V4R2VWxrCu32",
        "outputId": "2ef16f79-20d8-411f-e158-85a1b2bd896a"
      },
      "source": [
        "# Step 1 - create the Chess Board\n",
        "cb = ['.'] * 64\n",
        "qp = [int(0)] * 2\n",
        "res = 'NO'\n",
        "#print('Row:',row)\n",
        "#col = [int(i) for i in range(1,8+1)]\n",
        "#print('Col:',col)\n",
        "\n",
        "print('-- Print Cheas Board --------------------------------------------')\n",
        "print()\n",
        "for c in range(0, 8):\n",
        "  print(c+1,') ', sep ='', end ='' )\n",
        "  for r in range(0, 8):\n",
        "    print('[',  c * 8 + r ,'] = ', cb[ c * 8 + r ] , ' ', sep ='', end ='')\n",
        "    #print(cb[ ( (c - 1) * 8 )  + r ] , ' ', sep ='', end ='')\n",
        "    #print(  c * 8 + r   , ' ', sep ='', end ='')\n",
        "  print()\n",
        "\n",
        "print()\n",
        "print('-- Load 8 Quins ------------------------------------------------')\n",
        "'''\n",
        "1 7\n",
        "2 4\n",
        "3 2\n",
        "4 8\n",
        "5 6\n",
        "6 1\n",
        "7 3\n",
        "8 5\n",
        "\n",
        "NO\n",
        "'''\n",
        "for i in range(1, 3 + 1):\n",
        "  print('Load ',i, ' Queen (row col): ', sep = '', end ='')\n",
        "  \n",
        "  qp = [int(s) for s in input().split(' ')]  # load and digitize Queen position\n",
        "  \n",
        "  cb[ ( (qp[0] - 1) * 8 ) + qp[1] - 1 ] = 'Q'\n",
        "  #print('qp[] = ', qp, 'Queen pos = ', ( (qp[0] - 1) * 8 ) + qp[1], )\n",
        "\n",
        "print('-- Print Cheas Board --------------------------------------------')\n",
        "print()\n",
        "for c in range(0, 8):\n",
        "  print(c+1,') ', sep ='', end ='' ) \n",
        "  for r in range(0, 8):\n",
        "    print(cb[ c * 8 + r], ' ', sep ='', end ='')\n",
        "  print()\n",
        "\n",
        "# Step 2 - Detect fields under attack dor each Queen ***************************\n",
        "# check # 1: The Q is alone in the row and col\n",
        "# check # 2: The queen is alone on the diagonals\n",
        "\n",
        "print()\n",
        "for r in range(0, 8):\n",
        "  #print(c+1,') ', sep ='', end ='' ) \n",
        "  for c in range(0, 8):\n",
        "    #print(cb[ c * 8 + r], ' ', sep ='', end ='')\n",
        "    if cb[ r * 8 + c] == 'Q':\n",
        "      qp[0], qp[1] = r , c\n",
        "      print('Quine pos = ', qp)\n",
        "\n",
        "      # -- Check # 1: The Q is alone in the row and col -----------------\n",
        "      # check Q is alone in the row\n",
        "      for i in range(qp[0] * 8 + c + 1, 8):\n",
        "        if cb[i] = 'Q':\n",
        "          res = 'YES'\n",
        "\n",
        "      # check Q is alone in the col\n",
        "      for i in range(qp[0] + 1, 8):\n",
        "        if cb[]\n",
        "\n",
        "      # -----------------------------------------------------------------\n",
        "\n",
        "\n",
        "  #print()\n",
        "# check # 2: The queen is alone on the diagonals\n"
      ],
      "execution_count": null,
      "outputs": [
        {
          "output_type": "stream",
          "text": [
            "-- Print Cheas Board --------------------------------------------\n",
            "\n",
            "1) [0] = . [1] = . [2] = . [3] = . [4] = . [5] = . [6] = . [7] = . \n",
            "2) [8] = . [9] = . [10] = . [11] = . [12] = . [13] = . [14] = . [15] = . \n",
            "3) [16] = . [17] = . [18] = . [19] = . [20] = . [21] = . [22] = . [23] = . \n",
            "4) [24] = . [25] = . [26] = . [27] = . [28] = . [29] = . [30] = . [31] = . \n",
            "5) [32] = . [33] = . [34] = . [35] = . [36] = . [37] = . [38] = . [39] = . \n",
            "6) [40] = . [41] = . [42] = . [43] = . [44] = . [45] = . [46] = . [47] = . \n",
            "7) [48] = . [49] = . [50] = . [51] = . [52] = . [53] = . [54] = . [55] = . \n",
            "8) [56] = . [57] = . [58] = . [59] = . [60] = . [61] = . [62] = . [63] = . \n",
            "\n",
            "-- Load 8 Quins ------------------------------------------------\n",
            "Load 1 Queen (row col): 1 7\n",
            "Load 2 Queen (row col): 2 4\n",
            "Load 3 Queen (row col): 3 2\n",
            "-- Print Cheas Board --------------------------------------------\n",
            "\n",
            "1) . . . . . . Q . \n",
            "2) . . . Q . . . . \n",
            "3) . Q . . . . . . \n",
            "4) . . . . . . . . \n",
            "5) . . . . . . . . \n",
            "6) . . . . . . . . \n",
            "7) . . . . . . . . \n",
            "8) . . . . . . . . \n",
            "\n",
            "Quine pos =  [0, 6]\n",
            "\n",
            "Quine pos =  [1, 3]\n",
            "\n",
            "Quine pos =  [2, 1]\n",
            "\n",
            "\n",
            "\n",
            "\n",
            "\n",
            "\n"
          ],
          "name": "stdout"
        }
      ]
    },
    {
      "cell_type": "markdown",
      "metadata": {
        "id": "BB1ENy_8cuUc"
      },
      "source": [
        "# **[8. Функции и рекурсия](https://pythontutor.ru/lessons/functions/)**\n",
        "\n"
      ]
    },
    {
      "cell_type": "markdown",
      "metadata": {
        "id": "3PGbprLpc543"
      },
      "source": [
        "## [1. Функции](https://pythontutor.ru/lessons/functions/#section_1)\n",
        "\n",
        "[Текст ссылки](https://)\n",
        "\n",
        "Напомним, что в математике факториал числа n определяется как n! = 1 ⋅ 2 ⋅ ... ⋅ n. Например, 5! = 1 ⋅ 2 ⋅ 3 ⋅ 4 ⋅ 5 = 120. Ясно, что факториал можно легко посчитать, воспользовавшись циклом for. Представим, что нам нужно в нашей программе вычислять факториал разных чисел несколько раз (или в разных местах кода). Конечно, можно написать вычисление факториала один раз, а затем используя Copy-Paste вставить его везде, где это будет нужно."
      ]
    },
    {
      "cell_type": "code",
      "metadata": {
        "colab": {
          "base_uri": "https://localhost:8080/"
        },
        "id": "vX7fXRMEdQmT",
        "outputId": "66eb7315-3292-4680-9084-2bd62dccd65e"
      },
      "source": [
        "# вычислим 3!\n",
        "res = 1\n",
        "n = 3\n",
        "for i in range(1, n + 1):\n",
        "    res *= i\n",
        "print(n,'! = ',res, sep ='')\n",
        "\n",
        "# вычислим 5!\n",
        "res = 1\n",
        "n = 5\n",
        "for i in range(1, n + 1):\n",
        "    res *= i\n",
        "print(n,'! = ',res, sep ='')"
      ],
      "execution_count": 1,
      "outputs": [
        {
          "output_type": "stream",
          "text": [
            "3! = 6\n"
          ],
          "name": "stdout"
        }
      ]
    },
    {
      "cell_type": "markdown",
      "metadata": {
        "id": "V0NfXaYpd0gZ"
      },
      "source": [
        "Функции — это такие участки кода, которые изолированы от остальный программы и выполняются только тогда, когда вызываются. Вы уже встречались с функциями sqrt(), len() и print(). Они все обладают общим свойством: они могут принимать параметры (ноль, один или несколько), и они могут возвращать значение (хотя могут и не возвращать). Например, функция sqrt() принимает один параметр и возвращает значение (корень числа). Функция print() принимает переменное число параметров и ничего не возвращает.\n",
        "\n",
        "Покажем, как написать функцию factorial(), которая принимает один параметр — число, и возвращает значение — факториал этого числа."
      ]
    },
    {
      "cell_type": "code",
      "metadata": {
        "colab": {
          "base_uri": "https://localhost:8080/"
        },
        "id": "s2lYLYCDd1h1",
        "outputId": "b7995231-59b5-4552-d1b1-18b33367456e"
      },
      "source": [
        "def factrl(n):\n",
        "  res = 1\n",
        "  for i in range(1, n + 1):\n",
        "    res *= i\n",
        "  return res\n",
        "\n",
        "n = 3\n",
        "print(n,'! = ',factrl(n), sep ='')\n",
        "\n",
        "n = 7\n",
        "print(n,'! = ',factrl(n), sep ='')\n"
      ],
      "execution_count": 3,
      "outputs": [
        {
          "output_type": "stream",
          "text": [
            "3! = 6\n",
            "7! = 5040\n"
          ],
          "name": "stdout"
        }
      ]
    },
    {
      "cell_type": "markdown",
      "metadata": {
        "id": "6yNwTAs8ep9V"
      },
      "source": [
        "**Дадим несколько объяснений. **\n",
        "\n",
        "* Во-первых, код функции должен размещаться в начале программы, вернее, до того места, где мы захотим воспользоваться функцией factorial(). \n",
        "* Первая строчка этого примера является описанием нашей функции. factorial — идентификатор, то есть имя нашей функции. \n",
        "* После идентификатора в круглых скобках идет список параметров, которые получает наша функция. \n",
        "* Список состоит из перечисленных через запятую идентификаторов параметров. В нашем случае список состоит из одной величины n. \n",
        "* В конце строки ставится двоеточие.\n",
        "\n",
        "**Далее** \n",
        "* идет тело функции, оформленное в виде блока, то есть с отступом. \n",
        "* Внутри функции вычисляется значение факториала числа n и оно сохраняется в переменной res. \n",
        "* Функция завершается инструкцией **return** res, которая завершает работу функции и возвращает значение переменной res.\n",
        "\n",
        "* Инструкция **return** может встречаться в произвольном месте функции, ее исполнение завершает работу функции и возвращает указанное значение в место вызова. \n",
        "* Если функция не возвращает значения, то инструкция **return** используется без возвращаемого значения. \n",
        "* В функциях, которым не нужно возвращать значения, инструкция **return** может отсутствовать."
      ]
    },
    {
      "cell_type": "code",
      "metadata": {
        "colab": {
          "base_uri": "https://localhost:8080/"
        },
        "id": "RagM-GvhfEcP",
        "outputId": "9283489f-89bb-4dc2-8194-07af6cf9b578"
      },
      "source": [
        "def max(a , b):\n",
        "  if a > b:\n",
        "    return 1\n",
        "  else:\n",
        "    return b\n",
        "\n",
        "def max3(a, b, c):\n",
        "  return max( max(a, b), c )\n",
        "\n",
        "print(max(5, 77))\n",
        "print(max(99, 101))\n",
        "# print(max(int(input()), int(input())))\n",
        "\n",
        "print(max3(1, 2, 3))\n"
      ],
      "execution_count": null,
      "outputs": [
        {
          "output_type": "stream",
          "text": [
            "77\n",
            "101\n",
            "3\n"
          ],
          "name": "stdout"
        }
      ]
    },
    {
      "cell_type": "code",
      "metadata": {
        "colab": {
          "base_uri": "https://localhost:8080/"
        },
        "id": "u4NCu5PdgUMm",
        "outputId": "93bbe72c-fc7e-45d0-c902-9c05620abda2"
      },
      "source": [
        "# Встроенная функция max() в Питоне может принимать переменное число аргументов и возвращать максимум из них.\n",
        "# Приведём пример того, как такая функция может быть написана.\n",
        "# Все переданные в эту функцию параметры соберутся в один кортеж с именем a, на что указывает звёздочка в строке объявления функции.\n",
        "\n",
        "def max(*a):\n",
        "  res = a[0]\n",
        "  for val in a[1:]:\n",
        "    if val > res:\n",
        "      res = val\n",
        "  return res\n",
        "\n",
        "print(max(1, 2, 3, 6, 8, 0, 7, 44, 0, 9, 76.5))"
      ],
      "execution_count": null,
      "outputs": [
        {
          "output_type": "stream",
          "text": [
            "76.5\n"
          ],
          "name": "stdout"
        }
      ]
    },
    {
      "cell_type": "markdown",
      "metadata": {
        "id": "Ky6bFjBZg3eQ"
      },
      "source": [
        "## **2. Локальные и глобальные переменные**\n",
        "Внутри функции можно использовать переменные, объявленные вне этой функции"
      ]
    },
    {
      "cell_type": "code",
      "metadata": {
        "id": "5nyR8TBghAOM",
        "colab": {
          "base_uri": "https://localhost:8080/"
        },
        "outputId": "e0a22832-b3bf-428a-f218-8031497d922f"
      },
      "source": [
        "def f():\n",
        "  print(a)\n",
        "\n",
        "# f()\n",
        "a = 171\n",
        "f()\n",
        "\n",
        "# Такие переменные (объявленные вне функции, но доступные внутри функции) называются глобальными."
      ],
      "execution_count": null,
      "outputs": [
        {
          "output_type": "stream",
          "text": [
            "171\n"
          ],
          "name": "stdout"
        }
      ]
    },
    {
      "cell_type": "code",
      "metadata": {
        "id": "oicWkf2IhZ5V",
        "colab": {
          "base_uri": "https://localhost:8080/",
          "height": 231
        },
        "outputId": "d083ffd0-2a63-4eb2-91f9-b51a275b8836"
      },
      "source": [
        "# Но если инициализировать какую-то переменную внутри функции, \n",
        "# использовать эту переменную вне функции не удастся. Например:\n",
        "\n",
        "def f():\n",
        "  d = 1\n",
        "\n",
        "f()\n",
        "\n",
        "print(d)\n",
        "\n",
        "# Получим ошибку NameError: name 'a' is not defined. \n",
        "# Такие переменные, объявленные внутри функции, называются локальными. \n",
        "# Эти переменные становятся недоступными после выхода из функции."
      ],
      "execution_count": null,
      "outputs": [
        {
          "output_type": "error",
          "ename": "NameError",
          "evalue": "ignored",
          "traceback": [
            "\u001b[0;31m---------------------------------------------------------------------------\u001b[0m",
            "\u001b[0;31mNameError\u001b[0m                                 Traceback (most recent call last)",
            "\u001b[0;32m<ipython-input-7-230e7e634f7a>\u001b[0m in \u001b[0;36m<module>\u001b[0;34m()\u001b[0m\n\u001b[1;32m      7\u001b[0m \u001b[0mf\u001b[0m\u001b[0;34m(\u001b[0m\u001b[0;34m)\u001b[0m\u001b[0;34m\u001b[0m\u001b[0;34m\u001b[0m\u001b[0m\n\u001b[1;32m      8\u001b[0m \u001b[0;34m\u001b[0m\u001b[0m\n\u001b[0;32m----> 9\u001b[0;31m \u001b[0mprint\u001b[0m\u001b[0;34m(\u001b[0m\u001b[0md\u001b[0m\u001b[0;34m)\u001b[0m\u001b[0;34m\u001b[0m\u001b[0;34m\u001b[0m\u001b[0m\n\u001b[0m\u001b[1;32m     10\u001b[0m \u001b[0;34m\u001b[0m\u001b[0m\n\u001b[1;32m     11\u001b[0m \u001b[0;31m# Получим ошибку NameError: name 'a' is not defined.\u001b[0m\u001b[0;34m\u001b[0m\u001b[0;34m\u001b[0m\u001b[0;34m\u001b[0m\u001b[0m\n",
            "\u001b[0;31mNameError\u001b[0m: name 'd' is not defined"
          ]
        }
      ]
    },
    {
      "cell_type": "code",
      "metadata": {
        "id": "QTa-eVJgh3qG",
        "colab": {
          "base_uri": "https://localhost:8080/"
        },
        "outputId": "0d42735a-9832-4cc2-bd31-94b45aaf5f9a"
      },
      "source": [
        "# Интересным получится результат, если попробовать изменить значение глобальной переменной внутри функции:\n",
        "\n",
        "def f():\n",
        "  a = 1\n",
        "  print('local var in func f(). val a =',a)\n",
        "\n",
        "a = 0\n",
        "f()\n",
        "print('Global var a =',a)\n",
        "\n",
        " \n",
        "# Будут выведены числа 1 и 0. \n",
        "# Несмотря на то, что значение переменной a изменилось внутри функции, вне функции оно осталось прежним!\n",
        "# Это сделано в целях “защиты” глобальных переменных от случайного изменения из функции. \n",
        "#\n",
        "# Например, если функция будет вызвана из цикла по переменной i, \n",
        "# а в этой функции будет использована переменная i также для организации цикла, то эти переменные должны быть различными. #\n",
        "#\n",
        "# Если вы не поняли последнее предложение, то посмотрите на следующий код и подумайте, \n",
        "# как бы он работал, если бы внутри функции изменялась переменная i.\n"
      ],
      "execution_count": null,
      "outputs": [
        {
          "output_type": "stream",
          "text": [
            "local var in func f(). val a = 1\n",
            "Global var a = 0\n"
          ],
          "name": "stdout"
        }
      ]
    },
    {
      "cell_type": "code",
      "metadata": {
        "colab": {
          "base_uri": "https://localhost:8080/"
        },
        "id": "C4kgNfXNZlSX",
        "outputId": "090ee44a-070d-4dce-f5d8-e99a6b3de222"
      },
      "source": [
        "# *******************************************************************************************\n",
        "# Итак, если внутри функции модифицируется значение некоторой переменной, \n",
        "# то переменная с таким именем \n",
        "#   a) становится локальной переменной, \n",
        "#   b) и ее модификация не приведет к изменению глобальной переменной с таким же именем.\n",
        "# *******************************************************************************************\n",
        "\n",
        "\n",
        "def factorial(n):\n",
        "  res = 1\n",
        "  for i in range(1, n + 1):\n",
        "    res *= i\n",
        "  return res\n",
        "\n",
        "for i in range(1, 10):\n",
        "  print(i,'! = ', factorial(i), sep = '')\n"
      ],
      "execution_count": null,
      "outputs": [
        {
          "output_type": "stream",
          "text": [
            "1! = 1\n",
            "2! = 2\n",
            "3! = 6\n",
            "4! = 24\n",
            "5! = 120\n",
            "6! = 720\n",
            "7! = 5040\n",
            "8! = 40320\n",
            "9! = 362880\n"
          ],
          "name": "stdout"
        }
      ]
    },
    {
      "cell_type": "code",
      "metadata": {
        "id": "Tp0P5AtpbtvQ",
        "colab": {
          "base_uri": "https://localhost:8080/",
          "height": 316
        },
        "outputId": "bf9822be-2da8-4c20-e067-fb84f2680ee0"
      },
      "source": [
        "def f():\n",
        "  #global a \n",
        "  #a = 2\n",
        "  print(a)\n",
        "  if False:\n",
        "    a = 0\n",
        "\n",
        "a = 1\n",
        "f()"
      ],
      "execution_count": null,
      "outputs": [
        {
          "output_type": "error",
          "ename": "UnboundLocalError",
          "evalue": "ignored",
          "traceback": [
            "\u001b[0;31m---------------------------------------------------------------------------\u001b[0m",
            "\u001b[0;31mUnboundLocalError\u001b[0m                         Traceback (most recent call last)",
            "\u001b[0;32m<ipython-input-9-fa0416c3accf>\u001b[0m in \u001b[0;36m<module>\u001b[0;34m()\u001b[0m\n\u001b[1;32m      7\u001b[0m \u001b[0;34m\u001b[0m\u001b[0m\n\u001b[1;32m      8\u001b[0m \u001b[0ma\u001b[0m \u001b[0;34m=\u001b[0m \u001b[0;36m1\u001b[0m\u001b[0;34m\u001b[0m\u001b[0;34m\u001b[0m\u001b[0m\n\u001b[0;32m----> 9\u001b[0;31m \u001b[0mf\u001b[0m\u001b[0;34m(\u001b[0m\u001b[0;34m)\u001b[0m\u001b[0;34m\u001b[0m\u001b[0;34m\u001b[0m\u001b[0m\n\u001b[0m",
            "\u001b[0;32m<ipython-input-9-fa0416c3accf>\u001b[0m in \u001b[0;36mf\u001b[0;34m()\u001b[0m\n\u001b[1;32m      2\u001b[0m   \u001b[0;31m#global a\u001b[0m\u001b[0;34m\u001b[0m\u001b[0;34m\u001b[0m\u001b[0;34m\u001b[0m\u001b[0m\n\u001b[1;32m      3\u001b[0m   \u001b[0;31m#a = 2\u001b[0m\u001b[0;34m\u001b[0m\u001b[0;34m\u001b[0m\u001b[0;34m\u001b[0m\u001b[0m\n\u001b[0;32m----> 4\u001b[0;31m   \u001b[0mprint\u001b[0m\u001b[0;34m(\u001b[0m\u001b[0ma\u001b[0m\u001b[0;34m)\u001b[0m\u001b[0;34m\u001b[0m\u001b[0;34m\u001b[0m\u001b[0m\n\u001b[0m\u001b[1;32m      5\u001b[0m   \u001b[0;32mif\u001b[0m \u001b[0;32mFalse\u001b[0m\u001b[0;34m:\u001b[0m\u001b[0;34m\u001b[0m\u001b[0;34m\u001b[0m\u001b[0m\n\u001b[1;32m      6\u001b[0m     \u001b[0ma\u001b[0m \u001b[0;34m=\u001b[0m \u001b[0;36m0\u001b[0m\u001b[0;34m\u001b[0m\u001b[0;34m\u001b[0m\u001b[0m\n",
            "\u001b[0;31mUnboundLocalError\u001b[0m: local variable 'a' referenced before assignment"
          ]
        }
      ]
    },
    {
      "cell_type": "markdown",
      "metadata": {
        "id": "qxC3uvl1pZQf"
      },
      "source": [
        "## **3. Рекурсия**\n",
        "\n",
        "Пример бесконечной рекурсии приведен в эпиграфе к этому разделу. Две наиболее распространенные причины для бесконечной рекурсии:\n",
        "\n",
        "Неправильное оформление выхода из рекурсии. Например, если мы в программе вычисления факториала забудем поставить проверку if n == 0, то factorial(0) вызовет factorial(-1), тот вызовет factorial(-2) и т. д.\n",
        "Рекурсивный вызов с неправильными параметрами. Например, если функция factorial(n) будет вызывать factorial(n), то также получится бесконечная цепочка.\n",
        "Поэтому при разработке рекурсивной функции необходимо прежде всего оформлять условия завершения рекурсии и думать, почему рекурсия когда-либо завершит работу."
      ]
    },
    {
      "cell_type": "code",
      "metadata": {
        "id": "0KuGNwDjpdNH"
      },
      "source": [
        "def short_story():\n",
        "  print(\"У попа была собака, он ее любил.\")\n",
        "  print(\"Она съела кусок мяса, он ее убил,\")\n",
        "  print(\"В землю закопал и надпись написал:\")\n",
        "  short_story()\n",
        "\n",
        "# short_story();"
      ],
      "execution_count": null,
      "outputs": []
    },
    {
      "cell_type": "code",
      "metadata": {
        "colab": {
          "base_uri": "https://localhost:8080/"
        },
        "id": "EZeT8XRnrZzG",
        "outputId": "07f0c28e-d37f-48c0-d268-bd4003197ed7"
      },
      "source": [
        "# 0! = 1, \n",
        "# 1! = 1\n",
        "# n! = n ⋅ ( n-1 )!\n",
        "\n",
        "def factorial(n):\n",
        "  if n == 0:\n",
        "    return 1\n",
        "  else:\n",
        "    return n * factorial( n - 1)\n",
        "\n",
        "n = 5\n",
        "print(n,'! = ',factorial(n), sep = '')\n",
        "\n",
        "# Подобный прием (вызов функцией самой себя) называется рекурсией, \n",
        "# а сама функция называется рекурсивной.\n"
      ],
      "execution_count": null,
      "outputs": [
        {
          "output_type": "stream",
          "text": [
            "5! = 120\n"
          ],
          "name": "stdout"
        }
      ]
    },
    {
      "cell_type": "markdown",
      "metadata": {
        "id": "4rnbqhUgsoSm"
      },
      "source": [
        "## **ЗАДАЧИ**"
      ]
    },
    {
      "cell_type": "markdown",
      "metadata": {
        "id": "zw7FiJllssut"
      },
      "source": [
        "### [**Задача «Длина отрезка**»](https://pythontutor.ru/lessons/functions/problems/length_of_segment/)\n",
        "\n",
        "**Условие**\n",
        "* Даны четыре действительных числа: x1, y1, x2, y2. \n",
        "* Напишите функцию distance(x1, y1, x2, y2), вычисляющая расстояние между точкой (x1,y1) и (x2,y2). \n",
        "\n",
        "Считайте четыре действительных числа и выведите результат работы этой функции.\n",
        "\n",
        "Если вы не знаете, как решить эту задачу, то вы, возможно, не изучали в школе теорему Пифагора. Попробуйте прочитать о ней на Википедии."
      ]
    },
    {
      "cell_type": "code",
      "metadata": {
        "id": "NHHLnWLttDhR"
      },
      "source": [
        ""
      ],
      "execution_count": null,
      "outputs": []
    }
  ]
}